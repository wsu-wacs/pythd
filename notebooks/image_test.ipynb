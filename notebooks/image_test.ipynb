{
 "cells": [
  {
   "cell_type": "code",
   "execution_count": null,
   "metadata": {},
   "outputs": [],
   "source": [
    "%matplotlib inline\n",
    "from importlib import reload\n",
    "import sys\n",
    "sys.path.append(\"..\")\n",
    "from pathlib import Path\n",
    "import numpy as np\n",
    "import pandas as pd\n",
    "from matplotlib import pyplot as plt\n",
    "from skimage import io\n",
    "from sklearn.manifold import TSNE\n",
    "from sklearn.decomposition import PCA\n",
    "\n",
    "import pythd"
   ]
  },
  {
   "cell_type": "code",
   "execution_count": null,
   "metadata": {},
   "outputs": [],
   "source": [
    "DATA_DIR = Path(\"..\") / Path(\"data\")\n",
    "\n",
    "POST_IMAGE_NAME = \"hurricane-florence_00000419_post_disaster.png\"\n",
    "POST_IMAGE_PATH = DATA_DIR / POST_IMAGE_NAME\n",
    "PRE_IMAGE_PATH = DATA_DIR / POST_IMAGE_NAME.replace(\"post\", \"pre\")\n",
    "POST_LABEL_PATH = DATA_DIR / POST_IMAGE_NAME.replace(\"png\", \"json\")"
   ]
  },
  {
   "cell_type": "code",
   "execution_count": null,
   "metadata": {},
   "outputs": [],
   "source": [
    "pre_img = io.imread(str(PRE_IMAGE_PATH))\n",
    "post_img = io.imread(str(POST_IMAGE_PATH))"
   ]
  },
  {
   "cell_type": "code",
   "execution_count": null,
   "metadata": {},
   "outputs": [],
   "source": [
    "reload(pythd)\n",
    "reload(pythd.image)\n",
    "\n",
    "pre_chipped = pythd.image.ChippedImage.FromRGB(pre_img, 16, 16)\n",
    "pre_data = pre_chipped.get_data()\n",
    "print(pre_data.shape)"
   ]
  },
  {
   "cell_type": "code",
   "execution_count": null,
   "metadata": {},
   "outputs": [],
   "source": [
    "_ = pythd.image.plot_images((pre_img, post_img))"
   ]
  },
  {
   "cell_type": "code",
   "execution_count": null,
   "metadata": {},
   "outputs": [],
   "source": [
    "filt = pythd.filter.ScikitLearnFilter(PCA, n_components=2)\n",
    "f_x = filt(pre_data)\n",
    "print(f_x.shape)"
   ]
  },
  {
   "cell_type": "code",
   "execution_count": null,
   "metadata": {},
   "outputs": [],
   "source": [
    "reload(pythd)\n",
    "reload(pythd.thd)\n",
    "reload(pythd.complex)\n",
    "reload(pythd.cover)\n",
    "reload(pythd.mapper)\n",
    "reload(pythd.clustering)\n",
    "\n",
    "clustering = pythd.clustering.HierarchicalClustering()\n",
    "cover = pythd.cover.IntervalCover.EvenlySpacedFromValues(f_x, 10, 0.3)\n",
    "thd = pythd.thd.THD(pre_data, filt, cover, group_threshold=100)\n",
    "thd.run()\n",
    "root = thd.get_results()"
   ]
  },
  {
   "cell_type": "code",
   "execution_count": null,
   "metadata": {},
   "outputs": [],
   "source": [
    "import igraph\n",
    "g = root.as_igraph_graph()\n",
    "vs = {\n",
    "    \"margin\": 40,\n",
    "    \"bbox\": (350, 350),\n",
    "    \"vertex_label\": g.vs[\"name\"],\n",
    "    \"vertex_label_size\": 10,\n",
    "    \"vertex_size\": 20,\n",
    "    \"vertex_label_dist\": 1.5,\n",
    "    \"vertex_label_angle\": 0,\n",
    "    \"layout\": g.layout_reingold_tilford(root=[0])\n",
    "}\n",
    "igraph.plot(g, **vs)"
   ]
  },
  {
   "cell_type": "code",
   "execution_count": null,
   "metadata": {},
   "outputs": [],
   "source": []
  }
 ],
 "metadata": {
  "kernelspec": {
   "display_name": "Python 3",
   "language": "python",
   "name": "python3"
  },
  "language_info": {
   "codemirror_mode": {
    "name": "ipython",
    "version": 3
   },
   "file_extension": ".py",
   "mimetype": "text/x-python",
   "name": "python",
   "nbconvert_exporter": "python",
   "pygments_lexer": "ipython3",
   "version": "3.7.2"
  }
 },
 "nbformat": 4,
 "nbformat_minor": 4
}
