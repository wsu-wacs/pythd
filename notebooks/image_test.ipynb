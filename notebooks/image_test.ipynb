{
 "cells": [
  {
   "cell_type": "code",
   "execution_count": null,
   "metadata": {},
   "outputs": [],
   "source": [
    "%matplotlib inline\n",
    "import sys\n",
    "sys.path.append(\"..\")\n",
    "from pathlib import Path\n",
    "import numpy as np\n",
    "import pandas as pd\n",
    "from matplotlib import pyplot as plt\n",
    "from skimage import io\n",
    "from sklearn.manifold import TSNE\n",
    "\n",
    "import pythd"
   ]
  },
  {
   "cell_type": "code",
   "execution_count": null,
   "metadata": {},
   "outputs": [],
   "source": [
    "DATA_DIR = Path(\"..\") / Path(\"data\")\n",
    "\n",
    "POST_IMAGE_NAME = \"hurricane-florence_00000419_post_disaster.png\"\n",
    "POST_IMAGE_PATH = DATA_DIR / POST_IMAGE_NAME\n",
    "PRE_IMAGE_PATH = DATA_DIR / POST_IMAGE_NAME.replace(\"post\", \"pre\")\n",
    "POST_LABEL_PATH = DATA_DIR / POST_IMAGE_NAME.replace(\"png\", \"json\")"
   ]
  },
  {
   "cell_type": "code",
   "execution_count": null,
   "metadata": {},
   "outputs": [],
   "source": [
    "def plot_images(images, dpi=300.0, **kwargs):\n",
    "    \"\"\"Show multiple images in one plot\"\"\"\n",
    "    fig, ax = plt.subplots(1, len(images), dpi=dpi)\n",
    "    for i, img in enumerate(images):\n",
    "        ax[i].imshow(img, **kwargs)\n",
    "        ax[i].axis(\"off\")\n",
    "    return (fig, ax)\n",
    "\n",
    "def chip_image(img, shape, stride=None):\n",
    "    shape = (shape, shape) if isinstance(shape, int) else shape\n",
    "    stride = shape if (stride is None) else stride\n",
    "    stride = (stride, stride) if isinstance(stride, int) else stride\n",
    "    cw, ch = shape\n",
    "    sx, sy = stride\n",
    "    \n",
    "    h, w, c = (img.shape[0], img.shape[1], img.shape[2])\n",
    "    ncol = (cw * ch * c) + 2\n",
    "    \n",
    "    maxx = w - cw\n",
    "    maxy = h - ch\n",
    "    nx = 1 + (maxx // sx)\n",
    "    ny = 1 + (maxy // sy)\n",
    "    nrow = nx * ny\n",
    "    chips = np.zeros((nrow, ncol))\n",
    "    row = 0\n",
    "    columns = [\"x\", \"y\"]\n",
    "    columns += [\"pixel {}\".format(i+1) for i in range(ch*cw*c)]\n",
    "    \n",
    "    for y in range(0, h-sy, sy):\n",
    "        for x in range(0, w-sx, sx):\n",
    "            chips[row, 2:] = img[y:(y+ch), x:(x+cw), :].flatten()\n",
    "            chips[row, 0] = x\n",
    "            chips[row, 1] = y\n",
    "            row += 1\n",
    "            \n",
    "    return pd.DataFrame(chips, columns=columns)"
   ]
  },
  {
   "cell_type": "code",
   "execution_count": null,
   "metadata": {},
   "outputs": [],
   "source": [
    "pre_img = io.imread(str(PRE_IMAGE_PATH))\n",
    "post_img = io.imread(str(POST_IMAGE_PATH))"
   ]
  },
  {
   "cell_type": "code",
   "execution_count": null,
   "metadata": {},
   "outputs": [],
   "source": [
    "pre_chipped = chip_image(pre_img, 16,16)\n",
    "print(pre_chipped.shape)"
   ]
  },
  {
   "cell_type": "code",
   "execution_count": null,
   "metadata": {},
   "outputs": [],
   "source": [
    "_ = plot_images((pre_img, post_img))"
   ]
  },
  {
   "cell_type": "code",
   "execution_count": null,
   "metadata": {},
   "outputs": [],
   "source": [
    "filt = pythd.filter.ScikitLearnFilter(TSNE, n_components=2)\n",
    "f_x = filt(pre_chipped.iloc[:, 2:])"
   ]
  },
  {
   "cell_type": "code",
   "execution_count": null,
   "metadata": {},
   "outputs": [],
   "source": []
  }
 ],
 "metadata": {
  "kernelspec": {
   "display_name": "Python 3",
   "language": "python",
   "name": "python3"
  },
  "language_info": {
   "codemirror_mode": {
    "name": "ipython",
    "version": 3
   },
   "file_extension": ".py",
   "mimetype": "text/x-python",
   "name": "python",
   "nbconvert_exporter": "python",
   "pygments_lexer": "ipython3",
   "version": "3.7.2"
  }
 },
 "nbformat": 4,
 "nbformat_minor": 4
}
