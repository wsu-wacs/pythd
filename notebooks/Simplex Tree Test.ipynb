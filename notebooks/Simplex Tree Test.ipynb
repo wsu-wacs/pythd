{
 "cells": [
  {
   "cell_type": "code",
   "execution_count": 70,
   "metadata": {},
   "outputs": [],
   "source": [
    "%matplotlib inline\n",
    "import sys\n",
    "sys.path.append(\"..\")\n",
    "import numpy as np\n",
    "from matplotlib import pyplot as plt\n",
    "import igraph\n",
    "\n",
    "import pythd\n",
    "from importlib import reload"
   ]
  },
  {
   "cell_type": "code",
   "execution_count": 77,
   "metadata": {},
   "outputs": [],
   "source": [
    "simplices = [(1,2,3), (1,4), (2,4)]\n",
    "reload(pythd)\n",
    "reload(pythd.complex)\n",
    "tree = pythd.complex.SimplicialComplex()\n",
    "for simplex in simplices:\n",
    "    tree.add_simplex(simplex, data=simplex)"
   ]
  },
  {
   "cell_type": "code",
   "execution_count": 78,
   "metadata": {},
   "outputs": [
    {
     "data": {
      "text/plain": [
       "1"
      ]
     },
     "execution_count": 78,
     "metadata": {},
     "output_type": "execute_result"
    }
   ],
   "source": [
    "tree.simplex_tree.children[1].children[2].order"
   ]
  },
  {
   "cell_type": "code",
   "execution_count": 79,
   "metadata": {},
   "outputs": [
    {
     "data": {
      "text/plain": [
       "{(1, 2): [<pythd.complex.SimplicialTreeNode at 0x2949f146ba8>],\n",
       " (1, 3): [<pythd.complex.SimplicialTreeNode at 0x2949f135a58>,\n",
       "  <pythd.complex.SimplicialTreeNode at 0x2949f135c50>],\n",
       " (2, 3): [<pythd.complex.SimplicialTreeNode at 0x2949f135b00>],\n",
       " (1, 4): [<pythd.complex.SimplicialTreeNode at 0x2949f1355f8>,\n",
       "  <pythd.complex.SimplicialTreeNode at 0x2949f135550>]}"
      ]
     },
     "execution_count": 79,
     "metadata": {},
     "output_type": "execute_result"
    }
   ],
   "source": [
    "tree.cousins"
   ]
  },
  {
   "cell_type": "code",
   "execution_count": 80,
   "metadata": {},
   "outputs": [
    {
     "data": {
      "text/plain": [
       "[((1, 2), None),\n",
       " ((1, 3), None),\n",
       " ((1, 4), (1, 4)),\n",
       " ((2, 3), None),\n",
       " ((2, 4), (2, 4))]"
      ]
     },
     "execution_count": 80,
     "metadata": {},
     "output_type": "execute_result"
    }
   ],
   "source": [
    "tree.get_k_simplices(k=1, include_data=True)"
   ]
  },
  {
   "cell_type": "code",
   "execution_count": 85,
   "metadata": {},
   "outputs": [
    {
     "data": {
      "text/plain": [
       "True"
      ]
     },
     "execution_count": 85,
     "metadata": {},
     "output_type": "execute_result"
    }
   ],
   "source": [
    "tree.is_simplex((1,3))"
   ]
  },
  {
   "cell_type": "code",
   "execution_count": null,
   "metadata": {},
   "outputs": [],
   "source": []
  }
 ],
 "metadata": {
  "kernelspec": {
   "display_name": "Python 3",
   "language": "python",
   "name": "python3"
  },
  "language_info": {
   "codemirror_mode": {
    "name": "ipython",
    "version": 3
   },
   "file_extension": ".py",
   "mimetype": "text/x-python",
   "name": "python",
   "nbconvert_exporter": "python",
   "pygments_lexer": "ipython3",
   "version": "3.7.1"
  }
 },
 "nbformat": 4,
 "nbformat_minor": 2
}
