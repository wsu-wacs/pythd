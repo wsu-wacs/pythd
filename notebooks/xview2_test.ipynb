{
 "cells": [
  {
   "cell_type": "code",
   "execution_count": null,
   "metadata": {},
   "outputs": [],
   "source": [
    "%matplotlib inline\n",
    "from importlib import reload\n",
    "import json\n",
    "import sys\n",
    "sys.path.append(\"..\")\n",
    "from pathlib import Path\n",
    "from tqdm import tqdm\n",
    "\n",
    "import numpy as np\n",
    "import pandas as pd\n",
    "from matplotlib import pyplot as plt\n",
    "from skimage import io\n",
    "from sklearn.manifold import TSNE\n",
    "from sklearn.decomposition import PCA\n",
    "import cv2\n",
    "\n",
    "import pythd"
   ]
  },
  {
   "cell_type": "code",
   "execution_count": null,
   "metadata": {},
   "outputs": [],
   "source": [
    "DATA_DIR = Path(\"..\") / Path(\"data\")\n",
    "CHIP_SHAPE = (16, 16)\n",
    "CHIP_STRIDE = (16, 16)"
   ]
  },
  {
   "cell_type": "code",
   "execution_count": null,
   "metadata": {},
   "outputs": [],
   "source": [
    "DAMAGE_LEVELS = {\n",
    "    \"un-classified\": 1,\n",
    "    \"no-damage\": 2,\n",
    "    \"minor-damage\": 3,\n",
    "    \"major-damage\": 4,\n",
    "    \"destroyed\": 5\n",
    "}\n",
    "\n",
    "def build_chipped_df(images, chip_size=(16,16), chip_stride=(16,16)):\n",
    "    dfs = []\n",
    "    cw, ch = chip_size\n",
    "    sx, sy = chip_stride\n",
    "    \n",
    "    for pre_path in tqdm(list(images)):\n",
    "        pre_img = io.imread(str(pre_path))\n",
    "        pre_chipped = pythd.image.ChippedImage.FromRGB(pre_img, chip_size, chip_stride)\n",
    "        pre_df = pre_chipped.df\n",
    "        pre_df.columns = [\"pre_\" + col for col in pre_df.columns]\n",
    "\n",
    "        post_path = DATA_DIR / pre_path.name.replace(\"pre\", \"post\")\n",
    "        post_img = io.imread(str(post_path))\n",
    "        post_chipped = pythd.image.ChippedImage.FromRGB(post_img, chip_size, chip_stride)\n",
    "        post_df = post_chipped.df\n",
    "        post_df.columns = [\"post_\" + col for col in post_df.columns]\n",
    "\n",
    "        df = pd.concat((pre_df, post_df), axis=1)\n",
    "        df.drop([\"post_x\", \"post_y\"], axis=1, inplace=True)\n",
    "        df.rename({\"pre_x\": \"x\", \"pre_y\": \"y\"}, axis=1, inplace=True)\n",
    "        df[\"image\"] = pre_path.name\n",
    "        df.astype({\"x\": \"int32\", \"y\": \"int32\"}, copy=False)\n",
    "        df[\"building\"] = 0\n",
    "        df[\"damage\"] = 1\n",
    "        \n",
    "        label_path = DATA_DIR / post_path.name.replace(\"png\", \"json\")\n",
    "        if label_path.exists():\n",
    "            label_mask = np.zeros(post_img.shape[:2], dtype=np.uint8)\n",
    "            with open(label_path, \"r\") as f:\n",
    "                labels = json.load(f)\n",
    "                labels = labels[\"features\"][\"xy\"]\n",
    "                for o in [obj for obj in labels if (obj[\"properties\"][\"feature_type\"] == \"building\")]:\n",
    "                    coords = o[\"wkt\"][10:-2].split(', ')\n",
    "                    bbox= np.array([list(map(lambda x: int(float(x)), coord.split(' '))) for coord in coords])\n",
    "                    damage = DAMAGE_LEVELS[o[\"properties\"][\"subtype\"]]\n",
    "                    cv2.fillPoly(label_mask, [bbox], color=damage)\n",
    "            \n",
    "            for row in df.index:\n",
    "                x = int(df.loc[row, \"x\"])\n",
    "                y = int(df.loc[row, \"y\"])\n",
    "                chip = label_mask[y:(y+ch), x:(x+cw)]\n",
    "                df.loc[row, \"building\"] = int((chip > 0).any())\n",
    "                df.loc[row, \"damage\"] = chip.max()\n",
    "        dfs.append(df)\n",
    "    \n",
    "    dfs = pd.concat(dfs, axis=0, ignore_index=True)\n",
    "    return dfs\n",
    "\n",
    "df = build_chipped_df(DATA_DIR.glob(\"*pre_disaster.png\"), chip_size=CHIP_SHAPE, chip_stride=CHIP_STRIDE)"
   ]
  },
  {
   "cell_type": "code",
   "execution_count": null,
   "metadata": {},
   "outputs": [],
   "source": [
    "features = [c for c in df.columns if \"pixel\" in c]\n",
    "data = df.loc[:, features].values\n",
    "print(df.shape)\n",
    "df.head()"
   ]
  },
  {
   "cell_type": "code",
   "execution_count": null,
   "metadata": {},
   "outputs": [],
   "source": [
    "#base_filt = pythd.filter.ScikitLearnFilter(PCA, n_components=200)\n",
    "filt = pythd.filter.ScikitLearnFilter(PCA, n_components=2)\n",
    "#data = base_filt(data)\n",
    "base_filt = None\n",
    "f_x = filt(data)\n",
    "print(f_x.shape)"
   ]
  },
  {
   "cell_type": "code",
   "execution_count": null,
   "metadata": {
    "scrolled": true
   },
   "outputs": [],
   "source": [
    "reload(pythd)\n",
    "reload(pythd.thd)\n",
    "reload(pythd.complex)\n",
    "reload(pythd.cover)\n",
    "reload(pythd.mapper)\n",
    "reload(pythd.clustering)\n",
    "\n",
    "clustering = pythd.clustering.HierarchicalClustering()\n",
    "cover = pythd.cover.IntervalCover.EvenlySpacedFromValues(f_x, 15, 0.4)\n",
    "thd = pythd.thd.THD(data, filt, cover, group_threshold=1000, contract_amount=0.4)\n",
    "thd.run(verbose=True)\n",
    "root = thd.get_results()"
   ]
  },
  {
   "cell_type": "code",
   "execution_count": null,
   "metadata": {},
   "outputs": [],
   "source": [
    "import igraph\n",
    "root.color_by_value(df[\"building\"].values, normalize=True)\n",
    "g = root.as_igraph_graph()\n",
    "vs = {\n",
    "    \"margin\": 40,\n",
    "    \"bbox\": (350, 350),\n",
    "    \"vertex_label\": g.vs[\"name\"],\n",
    "    \"vertex_label_size\": 10,\n",
    "    \"vertex_size\": 20,\n",
    "    \"vertex_label_dist\": 1.5,\n",
    "    \"vertex_label_angle\": 0,\n",
    "    \"layout\": g.layout_reingold_tilford(root=[0])\n",
    "}\n",
    "igraph.plot(g, **vs)"
   ]
  },
  {
   "cell_type": "code",
   "execution_count": null,
   "metadata": {},
   "outputs": [],
   "source": [
    "def show_group_image(group, i=0):\n",
    "    images = df[\"image\"].iloc[list(group.rids)].unique()\n",
    "    gdata = df.iloc[list(group.rids), :]\n",
    "    img_name = images[i]\n",
    "    gdata = gdata[gdata[\"image\"] == img_name]\n",
    "\n",
    "    img_path = DATA_DIR / img_name\n",
    "    img = io.imread(str(img_path))\n",
    "    mask = np.zeros(img.shape[:2], dtype=np.float32)\n",
    "    cw, ch = CHIP_SHAPE\n",
    "\n",
    "    for x, y in zip(gdata[\"x\"].values, gdata[\"y\"].values):\n",
    "        x, y = (int(x), int(y))\n",
    "        mask[y:(y+ch), x:(x+cw)] = 1\n",
    "\n",
    "    overlay = pythd.image.overlay_mask(img, mask, image_alpha=0.6)\n",
    "\n",
    "    pythd.image.plot_images((overlay,))\n",
    "\n",
    "group = root.get_group_by_name(\"3.2.1\")\n",
    "images = df[\"image\"].iloc[list(group.rids)].unique()\n",
    "print(images)"
   ]
  },
  {
   "cell_type": "code",
   "execution_count": null,
   "metadata": {},
   "outputs": [],
   "source": [
    "show_group_image(group, 0)"
   ]
  },
  {
   "cell_type": "code",
   "execution_count": null,
   "metadata": {},
   "outputs": [],
   "source": [
    "show_group_image(group, 1)"
   ]
  },
  {
   "cell_type": "code",
   "execution_count": null,
   "metadata": {},
   "outputs": [],
   "source": [
    "show_group_image(group, 2)"
   ]
  },
  {
   "cell_type": "code",
   "execution_count": null,
   "metadata": {},
   "outputs": [],
   "source": [
    "show_group_image(group, 3)"
   ]
  },
  {
   "cell_type": "code",
   "execution_count": null,
   "metadata": {},
   "outputs": [],
   "source": [
    "show_group_image(group, 4)"
   ]
  },
  {
   "cell_type": "code",
   "execution_count": null,
   "metadata": {},
   "outputs": [],
   "source": [
    "show_group_image(group, 5)"
   ]
  },
  {
   "cell_type": "code",
   "execution_count": null,
   "metadata": {},
   "outputs": [],
   "source": [
    "show_group_image(group, 6)"
   ]
  },
  {
   "cell_type": "code",
   "execution_count": null,
   "metadata": {},
   "outputs": [],
   "source": []
  }
 ],
 "metadata": {
  "kernelspec": {
   "display_name": "Python 3",
   "language": "python",
   "name": "python3"
  },
  "language_info": {
   "codemirror_mode": {
    "name": "ipython",
    "version": 3
   },
   "file_extension": ".py",
   "mimetype": "text/x-python",
   "name": "python",
   "nbconvert_exporter": "python",
   "pygments_lexer": "ipython3",
   "version": "3.7.2"
  }
 },
 "nbformat": 4,
 "nbformat_minor": 4
}
