{
 "cells": [
  {
   "cell_type": "code",
   "execution_count": null,
   "metadata": {},
   "outputs": [],
   "source": [
    "%matplotlib inline\n",
    "import sys\n",
    "sys.path.append(\"..\")\n",
    "from importlib import reload\n",
    "import numpy as np\n",
    "from matplotlib import pyplot as plt\n",
    "import igraph\n",
    "\n",
    "import pythd"
   ]
  },
  {
   "cell_type": "code",
   "execution_count": null,
   "metadata": {},
   "outputs": [],
   "source": [
    "# Build the dataset\n",
    "reload(pythd)\n",
    "reload(pythd.datagen)\n",
    "datagen = (pythd.datagen.DatasetGenerator()\n",
    "                .gaussian(center=[-3.0, 0.0], sd=[0.5, 0.5], num_points=200)\n",
    "                .gaussian(center=[3.0, 0.0], sd=[0.5, 0.5], num_points=200)\n",
    "                .gaussian(center=[0.0, -3.0], sd=[0.5, 0.5], num_points=200)\n",
    "                .gaussian(center=[0.0, 3.0], sd=[0.5, 0.5], num_points=200))\n",
    "dataset = datagen.get()\n",
    "left_rids = [i for i, p in enumerate(dataset) if p[0] < -3.0]\n",
    "right_rids = [i for i, p in enumerate(dataset) if p[0] > 3.0]\n",
    "plt.plot(dataset[:, 0], dataset[:, 1], \".\")\n",
    "plt.show()"
   ]
  },
  {
   "cell_type": "code",
   "execution_count": null,
   "metadata": {},
   "outputs": [],
   "source": [
    "# Setup MAPPER\n",
    "reload(pythd)\n",
    "reload(pythd.filter)\n",
    "reload(pythd.cover)\n",
    "reload(pythd.clustering)\n",
    "\n",
    "filt = pythd.filter.IdentityFilter()\n",
    "f_x = filt(dataset)\n",
    "cover = pythd.cover.IntervalCover.EvenlySpacedFromValues(f_x, 10, 0.45)\n",
    "clustering = pythd.clustering.HierarchicalClustering()"
   ]
  },
  {
   "cell_type": "code",
   "execution_count": null,
   "metadata": {},
   "outputs": [],
   "source": [
    "# Run MAPPER\n",
    "reload(pythd)\n",
    "reload(pythd.mapper)\n",
    "reload(pythd.complex)\n",
    "\n",
    "mapper = pythd.mapper.MAPPER(filter=filt, cover=cover, clustering=clustering)\n",
    "res = mapper.run(dataset, f_x=f_x)"
   ]
  },
  {
   "cell_type": "code",
   "execution_count": null,
   "metadata": {},
   "outputs": [],
   "source": [
    "# Network visualization\n",
    "reload(pythd)\n",
    "reload(pythd.plotting)\n",
    "\n",
    "res.compute_k_skeleton(k=1)\n",
    "g = res.get_igraph_network()\n",
    "layout = g.layout_kamada_kawai()\n",
    "pythd.plotting.draw_topological_network(res.compute_k_skeleton(k=1), layout)"
   ]
  },
  {
   "cell_type": "code",
   "execution_count": null,
   "metadata": {},
   "outputs": [],
   "source": [
    "c = res.compute_k_skeleton(k=1)"
   ]
  },
  {
   "cell_type": "code",
   "execution_count": null,
   "metadata": {},
   "outputs": [],
   "source": [
    "# Finding connected components in the k-skeleton\n",
    "components = c.get_connected_components()\n",
    "groups = []\n",
    "\n",
    "for nids in components:\n",
    "    rids = set()\n",
    "    for nid in nids:\n",
    "        node = c.get_node((nid,))\n",
    "        rids = rids | node['points_orig']\n",
    "    groups.append(rids)"
   ]
  },
  {
   "cell_type": "code",
   "execution_count": null,
   "metadata": {},
   "outputs": [],
   "source": [
    "reload(pythd)\n",
    "reload(pythd.thd)\n",
    "reload(pythd.complex)\n",
    "\n",
    "filt = pythd.filter.IdentityFilter()\n",
    "f_x = filt(dataset)\n",
    "cover = pythd.cover.IntervalCover.EvenlySpacedFromValues(f_x, 10, 0.3)\n",
    "thd = pythd.thd.THD(dataset, filt, cover, group_threshold=100)\n",
    "thd.run()\n",
    "root = thd.get_results()"
   ]
  },
  {
   "cell_type": "code",
   "execution_count": null,
   "metadata": {
    "scrolled": false
   },
   "outputs": [],
   "source": [
    "import igraph\n",
    "root.color_by_rids(right_rids, normalize=True)\n",
    "g = root.as_igraph_graph()\n",
    "vs = {\n",
    "    \"margin\": 40,\n",
    "    \"bbox\": (350, 350),\n",
    "    \"vertex_label\": g.vs[\"name\"],\n",
    "    \"vertex_label_size\": 10,\n",
    "    \"vertex_size\": 20,\n",
    "    \"vertex_label_dist\": 1.5,\n",
    "    \"vertex_label_angle\": 0,\n",
    "    \"layout\": g.layout_reingold_tilford(root=[0])\n",
    "}\n",
    "igraph.plot(g, **vs)"
   ]
  },
  {
   "cell_type": "code",
   "execution_count": null,
   "metadata": {
    "scrolled": true
   },
   "outputs": [],
   "source": [
    "import json\n",
    "print(root.get_dict(include_network=False))"
   ]
  },
  {
   "cell_type": "code",
   "execution_count": null,
   "metadata": {},
   "outputs": [],
   "source": []
  }
 ],
 "metadata": {
  "kernelspec": {
   "display_name": "Python 3",
   "language": "python",
   "name": "python3"
  },
  "language_info": {
   "codemirror_mode": {
    "name": "ipython",
    "version": 3
   },
   "file_extension": ".py",
   "mimetype": "text/x-python",
   "name": "python",
   "nbconvert_exporter": "python",
   "pygments_lexer": "ipython3",
   "version": "3.7.4"
  }
 },
 "nbformat": 4,
 "nbformat_minor": 2
}
