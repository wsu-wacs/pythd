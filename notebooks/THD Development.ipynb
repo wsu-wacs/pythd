{
 "cells": [
  {
   "cell_type": "code",
   "execution_count": null,
   "metadata": {},
   "outputs": [],
   "source": [
    "%matplotlib inline\n",
    "import sys\n",
    "sys.path.append(\"..\")\n",
    "from importlib import reload\n",
    "import numpy as np\n",
    "from matplotlib import pyplot as plt\n",
    "import igraph\n",
    "\n",
    "import pythd"
   ]
  },
  {
   "cell_type": "code",
   "execution_count": null,
   "metadata": {},
   "outputs": [],
   "source": [
    "# Build the dataset\n",
    "reload(pythd)\n",
    "reload(pythd.datagen)\n",
    "datagen = (pythd.datagen.DatasetGenerator()\n",
    "                .gaussian(center=[-3.0, 0.0], sd=[2.0, 1.0], num_points=500)\n",
    "                .random_disk(center=[4.0, 0.0], min_radius=3.5, max_radius=4.0, num_points=750))\n",
    "dataset = datagen.get()\n",
    "plt.plot(dataset[:, 0], dataset[:, 1], \".\")\n",
    "plt.show()"
   ]
  },
  {
   "cell_type": "code",
   "execution_count": null,
   "metadata": {},
   "outputs": [],
   "source": [
    "# Setup MAPPER\n",
    "reload(pythd)\n",
    "reload(pythd.filter)\n",
    "reload(pythd.cover)\n",
    "reload(pythd.clustering)\n",
    "\n",
    "filt = pythd.filter.IdentityFilter()\n",
    "f_x = filt(dataset)\n",
    "cover = pythd.cover.IntervalCover.EvenlySpacedFromValues(f_x, 10, 0.45)\n",
    "clustering = pythd.clustering.HierarchicalClustering()"
   ]
  },
  {
   "cell_type": "code",
   "execution_count": null,
   "metadata": {},
   "outputs": [],
   "source": [
    "# Run MAPPER\n",
    "reload(pythd)\n",
    "reload(pythd.mapper)\n",
    "reload(pythd.complex)\n",
    "\n",
    "mapper = pythd.mapper.MAPPER(filter=filt, cover=cover, clustering=clustering)\n",
    "res = mapper.run(dataset, f_x=f_x)"
   ]
  },
  {
   "cell_type": "code",
   "execution_count": null,
   "metadata": {},
   "outputs": [],
   "source": [
    "# Network visualization\n",
    "reload(pythd)\n",
    "reload(pythd.plotting)\n",
    "\n",
    "res.compute_k_skeleton(k=1)\n",
    "g = res.get_igraph_network()\n",
    "layout = g.layout_kamada_kawai()\n",
    "pythd.plotting.draw_topological_network(res.compute_k_skeleton(k=1), layout)"
   ]
  },
  {
   "cell_type": "code",
   "execution_count": null,
   "metadata": {},
   "outputs": [],
   "source": [
    "c = res.compute_k_skeleton(k=1)"
   ]
  },
  {
   "cell_type": "code",
   "execution_count": null,
   "metadata": {},
   "outputs": [],
   "source": [
    "# Finding connected components in the k-skeleton\n",
    "components = c.get_connected_components()\n",
    "\n",
    "print(components)\n",
    "len(components)"
   ]
  }
 ],
 "metadata": {
  "kernelspec": {
   "display_name": "Python 3",
   "language": "python",
   "name": "python3"
  },
  "language_info": {
   "codemirror_mode": {
    "name": "ipython",
    "version": 3
   },
   "file_extension": ".py",
   "mimetype": "text/x-python",
   "name": "python",
   "nbconvert_exporter": "python",
   "pygments_lexer": "ipython3",
   "version": "3.7.5"
  }
 },
 "nbformat": 4,
 "nbformat_minor": 2
}
