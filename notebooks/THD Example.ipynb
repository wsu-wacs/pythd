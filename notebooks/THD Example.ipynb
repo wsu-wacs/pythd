{
 "cells": [
  {
   "cell_type": "code",
   "execution_count": null,
   "metadata": {},
   "outputs": [],
   "source": [
    "%matplotlib inline\n",
    "import sys\n",
    "sys.path.append(\"..\")\n",
    "from importlib import reload\n",
    "import numpy as np\n",
    "from matplotlib import pyplot as plt\n",
    "import igraph\n",
    "\n",
    "import pythd"
   ]
  },
  {
   "cell_type": "code",
   "execution_count": null,
   "metadata": {},
   "outputs": [],
   "source": [
    "# Build the dataset\n",
    "reload(pythd)\n",
    "reload(pythd.datagen)\n",
    "datagen = (pythd.datagen.DatasetGenerator()\n",
    "                .random_disk(center=[-3.0, 0.0], min_radius=0.8, max_radius=1.4, num_points=300)\n",
    "                .gaussian(center=[3.0, 0.0], sd=[0.5, 0.5], num_points=1000)\n",
    "                .gaussian(center=[0.0, -3.0], sd=[0.5, 0.5], num_points=1000)\n",
    "                .arc(center=[0.0, 3.0], radius=1.5, num_points=1000, noise=0.15)\n",
    "                .line(start=[-2.1, 0], end=[2.0, 0.0], num_points=1000, noise=0.2))\n",
    "dataset = datagen.get()\n",
    "left_rids = [i for i, p in enumerate(dataset) if p[0] < -3.0]\n",
    "right_rids = [i for i, p in enumerate(dataset) if p[0] > 3.0]\n",
    "middle_rids = [i for i, p in enumerate(dataset) if ((p[1] < 2.0) and (p[1] > -2.0))]\n",
    "middle_line = [i for i, p in enumerate(dataset) if ((i in middle_rids) and (p[0] > -2.0) and (p[0] < 2.0))]\n",
    "plt.plot(dataset[:, 0], dataset[:, 1], \".\")\n",
    "xlim = plt.gca().get_xlim()\n",
    "ylim = plt.gca().get_ylim()\n",
    "plt.show()"
   ]
  },
  {
   "cell_type": "code",
   "execution_count": null,
   "metadata": {},
   "outputs": [],
   "source": [
    "# Run THD\n",
    "reload(pythd)\n",
    "reload(pythd.thd)\n",
    "reload(pythd.complex)\n",
    "reload(pythd.cover)\n",
    "reload(pythd.mapper)\n",
    "reload(pythd.clustering)\n",
    "\n",
    "filt = pythd.filter.IdentityFilter()\n",
    "f_x = filt(dataset)\n",
    "clustering = pythd.clustering.HierarchicalClustering()\n",
    "cover = pythd.cover.IntervalCover.EvenlySpacedFromValues(f_x, 10, 0.3)\n",
    "thd = pythd.thd.THD(dataset, filt, cover, group_threshold=180)\n",
    "thd.run()\n",
    "root = thd.get_results()"
   ]
  },
  {
   "cell_type": "code",
   "execution_count": null,
   "metadata": {
    "scrolled": false
   },
   "outputs": [],
   "source": [
    "import igraph\n",
    "root.color_by_rids(middle_line, normalize=True)\n",
    "g = root.as_igraph_graph()\n",
    "vs = {\n",
    "    \"margin\": 40,\n",
    "    \"bbox\": (350, 350),\n",
    "    \"vertex_label\": g.vs[\"name\"],\n",
    "    \"vertex_label_size\": 10,\n",
    "    \"vertex_size\": 20,\n",
    "    \"vertex_label_dist\": 1.5,\n",
    "    \"vertex_label_angle\": 0,\n",
    "    \"layout\": g.layout_reingold_tilford(root=[0])\n",
    "}\n",
    "igraph.plot(g, **vs)"
   ]
  },
  {
   "cell_type": "code",
   "execution_count": null,
   "metadata": {},
   "outputs": [],
   "source": [
    "mid = root.get_group_by_name(\"1.2.0\")\n",
    "g = mid.network.get_igraph_network()\n",
    "layout = g.layout_kamada_kawai(maxiter=3000)\n",
    "pythd.plotting.draw_topological_network(mid.network, layout)"
   ]
  },
  {
   "cell_type": "code",
   "execution_count": null,
   "metadata": {},
   "outputs": [],
   "source": [
    "reload(pythd.plotting)\n",
    "pythd.plotting.plot_2d_point_cloud(mid.get_data().values, xlim=xlim, ylim=ylim)"
   ]
  },
  {
   "cell_type": "code",
   "execution_count": null,
   "metadata": {},
   "outputs": [],
   "source": [
    "pythd.plotting.plot_2d_point_cloud(root.get_group_by_name(\"1.1.0\").get_data().values, xlim=xlim, ylim=ylim)"
   ]
  },
  {
   "cell_type": "code",
   "execution_count": null,
   "metadata": {},
   "outputs": [],
   "source": [
    "pythd.plotting.plot_2d_point_cloud(root.get_group_by_name(\"1.0.0\").get_data().values, xlim=xlim, ylim=ylim)"
   ]
  },
  {
   "cell_type": "code",
   "execution_count": null,
   "metadata": {},
   "outputs": [],
   "source": [
    "mid = root.get_group_by_name(\"4.2.2\")\n",
    "g = mid.network.get_igraph_network()\n",
    "layout = g.layout_kamada_kawai(maxiter=3000)\n",
    "pythd.plotting.draw_topological_network(mid.network, layout)"
   ]
  },
  {
   "cell_type": "code",
   "execution_count": null,
   "metadata": {},
   "outputs": [],
   "source": []
  }
 ],
 "metadata": {
  "kernelspec": {
   "display_name": "Python 3",
   "language": "python",
   "name": "python3"
  },
  "language_info": {
   "codemirror_mode": {
    "name": "ipython",
    "version": 3
   },
   "file_extension": ".py",
   "mimetype": "text/x-python",
   "name": "python",
   "nbconvert_exporter": "python",
   "pygments_lexer": "ipython3",
   "version": "3.7.4"
  }
 },
 "nbformat": 4,
 "nbformat_minor": 2
}
