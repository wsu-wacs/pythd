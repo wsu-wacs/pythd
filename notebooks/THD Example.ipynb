{
 "cells": [
  {
   "cell_type": "code",
   "execution_count": null,
   "metadata": {},
   "outputs": [],
   "source": [
    "%matplotlib inline\n",
    "import sys\n",
    "sys.path.append(\"..\")\n",
    "from importlib import reload\n",
    "import numpy as np\n",
    "from matplotlib import pyplot as plt\n",
    "import igraph\n",
    "\n",
    "import pythd"
   ]
  },
  {
   "cell_type": "code",
   "execution_count": null,
   "metadata": {},
   "outputs": [],
   "source": [
    "# Build the dataset\n",
    "reload(pythd)\n",
    "reload(pythd.datagen)\n",
    "datagen = (pythd.datagen.DatasetGenerator()\n",
    "                .gaussian(center=[-3.0, 0.0], sd=[0.5, 0.5], num_points=200)\n",
    "                .gaussian(center=[3.0, 0.0], sd=[0.5, 0.5], num_points=200)\n",
    "                .gaussian(center=[0.0, -3.0], sd=[0.5, 0.5], num_points=200)\n",
    "                .gaussian(center=[0.0, 3.0], sd=[0.5, 0.5], num_points=200))\n",
    "dataset = datagen.get()\n",
    "left_rids = [i for i, p in enumerate(dataset) if p[0] < -3.0]\n",
    "right_rids = [i for i, p in enumerate(dataset) if p[0] > 3.0]\n",
    "plt.plot(dataset[:, 0], dataset[:, 1], \".\")\n",
    "plt.show()"
   ]
  },
  {
   "cell_type": "code",
   "execution_count": null,
   "metadata": {},
   "outputs": [],
   "source": [
    "# Run THD\n",
    "reload(pythd)\n",
    "reload(pythd.thd)\n",
    "reload(pythd.complex)\n",
    "reload(pythd.cover)\n",
    "reload(pythd.mapper)\n",
    "reload(pythd.clustering)\n",
    "\n",
    "filt = pythd.filter.IdentityFilter()\n",
    "f_x = filt(dataset)\n",
    "cover = pythd.cover.IntervalCover.EvenlySpacedFromValues(f_x, 10, 0.3)\n",
    "thd = pythd.thd.THD(dataset, filt, cover, group_threshold=180)\n",
    "thd.run()\n",
    "root = thd.get_results()"
   ]
  },
  {
   "cell_type": "code",
   "execution_count": null,
   "metadata": {
    "scrolled": false
   },
   "outputs": [],
   "source": [
    "import igraph\n",
    "root.color_by_rids(right_rids, normalize=True)\n",
    "g = root.as_igraph_graph()\n",
    "vs = {\n",
    "    \"margin\": 40,\n",
    "    \"bbox\": (350, 350),\n",
    "    \"vertex_label\": g.vs[\"name\"],\n",
    "    \"vertex_label_size\": 10,\n",
    "    \"vertex_size\": 20,\n",
    "    \"vertex_label_dist\": 1.5,\n",
    "    \"vertex_label_angle\": 0,\n",
    "    \"layout\": g.layout_reingold_tilford(root=[0])\n",
    "}\n",
    "igraph.plot(g, **vs)"
   ]
  },
  {
   "cell_type": "code",
   "execution_count": null,
   "metadata": {},
   "outputs": [],
   "source": []
  }
 ],
 "metadata": {
  "kernelspec": {
   "display_name": "Python 3",
   "language": "python",
   "name": "python3"
  },
  "language_info": {
   "codemirror_mode": {
    "name": "ipython",
    "version": 3
   },
   "file_extension": ".py",
   "mimetype": "text/x-python",
   "name": "python",
   "nbconvert_exporter": "python",
   "pygments_lexer": "ipython3",
   "version": "3.7.2"
  }
 },
 "nbformat": 4,
 "nbformat_minor": 2
}
