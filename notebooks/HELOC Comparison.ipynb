{
 "cells": [
  {
   "cell_type": "code",
   "execution_count": null,
   "id": "driven-shore",
   "metadata": {},
   "outputs": [],
   "source": [
    "%matplotlib inline\n",
    "from pathlib import Path\n",
    "from itertools import combinations\n",
    "import sys\n",
    "sys.path.append(\"..\")\n",
    "from importlib import reload\n",
    "\n",
    "import numpy as np\n",
    "import scipy as sp\n",
    "from scipy.cluster.hierarchy import linkage, fcluster\n",
    "import pandas as pd\n",
    "from matplotlib import pyplot as plt\n",
    "import igraph\n",
    "\n",
    "from sklearn import metrics\n",
    "from sklearn.decomposition import PCA\n",
    "from sklearn.manifold import TSNE\n",
    "\n",
    "import pythd"
   ]
  },
  {
   "cell_type": "code",
   "execution_count": null,
   "id": "narrative-calcium",
   "metadata": {},
   "outputs": [],
   "source": [
    "# Configuration\n",
    "CUR_DIR = Path.cwd()\n",
    "DATA_DIR = CUR_DIR.parent / 'data'\n",
    "\n",
    "HELOC_NAME = 'heloc_dataset_v1.csv'\n",
    "HELOC_PATH = DATA_DIR / HELOC_NAME"
   ]
  },
  {
   "cell_type": "code",
   "execution_count": null,
   "id": "senior-catering",
   "metadata": {},
   "outputs": [],
   "source": [
    "df = pd.read_csv(HELOC_PATH, dtype={'RiskPerformance': 'category'}).dropna()\n",
    "X = df.drop(columns=['RiskPerformance', 'ExternalRiskEstimate']).values\n",
    "y = df['RiskPerformance'].cat.codes.values"
   ]
  },
  {
   "cell_type": "code",
   "execution_count": null,
   "id": "changed-crack",
   "metadata": {},
   "outputs": [],
   "source": [
    "Z = linkage(X, method='average', metric='cosine')"
   ]
  },
  {
   "cell_type": "code",
   "execution_count": null,
   "id": "future-nudist",
   "metadata": {},
   "outputs": [],
   "source": [
    "dists = np.linspace(0.0, Z[-1, 2] - 1e-4, num=50)\n",
    "labels = [fcluster(Z, t=dist, criterion='distance') for dist in dists]\n",
    "nlabs = [len(np.unique(y_pred)) for y_pred in labels]\n",
    "plt.semilogy(dists, nlabs)\n",
    "_ = plt.show()"
   ]
  },
  {
   "cell_type": "code",
   "execution_count": null,
   "id": "cellular-chile",
   "metadata": {},
   "outputs": [],
   "source": [
    "adj_rand = np.array([metrics.adjusted_rand_score(y, y_pred) for y_pred in labels])\n",
    "plt.plot(dists, adj_rand)\n",
    "plt.xlabel(\"Distance\")\n",
    "plt.ylabel(\"Adjusted Rand Score\")\n",
    "_ = plt.show()"
   ]
  },
  {
   "cell_type": "code",
   "execution_count": null,
   "id": "theoretical-holiday",
   "metadata": {},
   "outputs": [],
   "source": [
    "ami = np.array([metrics.adjusted_mutual_info_score(y, y_pred) for y_pred in labels])\n",
    "plt.plot(dists, ami)\n",
    "plt.xlabel(\"Distance\")\n",
    "plt.ylabel(\"Adjusted Mutual Information\")\n",
    "_ = plt.show()"
   ]
  },
  {
   "cell_type": "code",
   "execution_count": null,
   "id": "alternate-fashion",
   "metadata": {},
   "outputs": [],
   "source": [
    "cal_har = np.array([metrics.calinski_harabasz_score(X, y_pred) for y_pred in labels])\n",
    "plt.plot(dists, cal_har)\n",
    "_ = plt.show()"
   ]
  },
  {
   "cell_type": "code",
   "execution_count": null,
   "id": "frozen-douglas",
   "metadata": {},
   "outputs": [],
   "source": [
    "pairwise = metrics.pairwise.cosine_distances(X)\n",
    "sil = np.array([metrics.silhouette_score(pairwise, y_pred, metric='precomputed') for y_pred in labels])\n",
    "plt.plot(dists, sil)\n",
    "_ = plt.show()"
   ]
  },
  {
   "cell_type": "code",
   "execution_count": null,
   "id": "sapphire-judgment",
   "metadata": {},
   "outputs": [],
   "source": [
    "filt = pythd.filter.ScikitLearnFilter(TSNE, n_components=2, metric='cosine')\n",
    "f_x = filt(X)\n",
    "cov = pythd.cover.IntervalCover.EvenlySpacedFromValues(f_x, 10, 0.25)"
   ]
  },
  {
   "cell_type": "code",
   "execution_count": null,
   "id": "fresh-wireless",
   "metadata": {},
   "outputs": [],
   "source": [
    "reload(pythd)\n",
    "reload(pythd.thd)\n",
    "\n",
    "thd = pythd.thd.THD(X, filt, cov, full_df=X)\n",
    "groups = thd.run(verbose=True)"
   ]
  },
  {
   "cell_type": "code",
   "execution_count": null,
   "id": "competitive-classroom",
   "metadata": {},
   "outputs": [],
   "source": [
    "groups.compute_distance(combine_method=\"max\", cluster_method=\"single\", metric=\"cosine\")"
   ]
  },
  {
   "cell_type": "code",
   "execution_count": null,
   "id": "harmful-horizon",
   "metadata": {},
   "outputs": [],
   "source": []
  }
 ],
 "metadata": {
  "kernelspec": {
   "display_name": "Python 3",
   "language": "python",
   "name": "python3"
  },
  "language_info": {
   "codemirror_mode": {
    "name": "ipython",
    "version": 3
   },
   "file_extension": ".py",
   "mimetype": "text/x-python",
   "name": "python",
   "nbconvert_exporter": "python",
   "pygments_lexer": "ipython3",
   "version": "3.7.2"
  }
 },
 "nbformat": 4,
 "nbformat_minor": 5
}
