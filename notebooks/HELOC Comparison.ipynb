{
 "cells": [
  {
   "cell_type": "code",
   "execution_count": null,
   "id": "injured-smell",
   "metadata": {},
   "outputs": [],
   "source": [
    "%matplotlib inline\n",
    "from pathlib import Path\n",
    "from itertools import combinations\n",
    "import sys\n",
    "sys.path.append(\"..\")\n",
    "from importlib import reload\n",
    "\n",
    "import numpy as np\n",
    "import scipy as sp\n",
    "from scipy.cluster.hierarchy import linkage, fcluster\n",
    "import pandas as pd\n",
    "from matplotlib import pyplot as plt\n",
    "import igraph\n",
    "\n",
    "import umap\n",
    "\n",
    "from sklearn import metrics\n",
    "from sklearn.preprocessing import StandardScaler\n",
    "from sklearn.decomposition import PCA\n",
    "from sklearn.manifold import TSNE\n",
    "\n",
    "import pythd"
   ]
  },
  {
   "cell_type": "code",
   "execution_count": null,
   "id": "editorial-breast",
   "metadata": {},
   "outputs": [],
   "source": [
    "# Configuration\n",
    "CUR_DIR = Path.cwd()\n",
    "DATA_DIR = CUR_DIR.parent / 'data'\n",
    "\n",
    "HELOC_NAME = 'heloc_dataset_v1.csv'\n",
    "HELOC_PATH = DATA_DIR / HELOC_NAME\n",
    "CLUSTER_METHODS = ['single', 'complete', 'average']\n",
    "\n",
    "METRIC='cosine'"
   ]
  },
  {
   "cell_type": "code",
   "execution_count": null,
   "id": "seasonal-liver",
   "metadata": {},
   "outputs": [],
   "source": [
    "df = pd.read_csv(HELOC_PATH, dtype={'RiskPerformance': 'category'}).dropna()\n",
    "X = df.drop(columns=['RiskPerformance', 'ExternalRiskEstimate']).values.astype(np.float32)\n",
    "X = StandardScaler().fit_transform(X)\n",
    "y = df['RiskPerformance'].cat.codes.values"
   ]
  },
  {
   "cell_type": "code",
   "execution_count": null,
   "id": "measured-tongue",
   "metadata": {},
   "outputs": [],
   "source": [
    "Z_mats = {\n",
    "    method: linkage(X, method=method, metric=METRIC)\n",
    "    for method in CLUSTER_METHODS\n",
    "}"
   ]
  },
  {
   "cell_type": "code",
   "execution_count": null,
   "id": "promotional-coordination",
   "metadata": {},
   "outputs": [],
   "source": [
    "filt = pythd.filter.ScikitLearnFilter(umap.UMAP, n_components=2, n_neighbors=10, metric=METRIC)\n",
    "f_x = filt(X)"
   ]
  },
  {
   "cell_type": "code",
   "execution_count": null,
   "id": "civil-great",
   "metadata": {},
   "outputs": [],
   "source": [
    "cov = pythd.cover.IntervalCover.EvenlySpacedFromValues(f_x, 100, 0.4)\n",
    "clustering = pythd.clustering.HierarchicalClustering(method='complete', metric=METRIC)"
   ]
  },
  {
   "cell_type": "code",
   "execution_count": null,
   "id": "annual-marathon",
   "metadata": {
    "scrolled": true
   },
   "outputs": [],
   "source": [
    "reload(pythd)\n",
    "reload(pythd.thd)\n",
    "\n",
    "thd = pythd.thd.THD(X, filt, cov, full_df=X, clustering=clustering, group_threshold=50, contract_amount=0.1)\n",
    "groups = thd.run(verbose=True)"
   ]
  },
  {
   "cell_type": "code",
   "execution_count": null,
   "id": "portable-calendar",
   "metadata": {},
   "outputs": [],
   "source": [
    "def make_cut_params(method):\n",
    "    return {\n",
    "        'combine_method': 'max',\n",
    "        'cluster_method': method,\n",
    "        'metric': METRIC\n",
    "    }\n",
    "\n",
    "max_dist = max(map(lambda Z: Z[-1, 2], Z_mats.values()))\n",
    "dists = np.linspace(0.0, max_dist, num=50)"
   ]
  },
  {
   "cell_type": "code",
   "execution_count": null,
   "id": "solved-workplace",
   "metadata": {},
   "outputs": [],
   "source": [
    "hc_labels = {\n",
    "    name: [fcluster(Z, t=dist, criterion='distance') for dist in dists]\n",
    "    for name, Z in Z_mats.items()\n",
    "}\n",
    "\n",
    "thd_labels = {\n",
    "    name: [groups.cut_on_distance(dist, **make_cut_params(name))[1] for dist in dists]\n",
    "    for name in CLUSTER_METHODS\n",
    "}\n",
    "\n",
    "for name, labels in hc_labels.items():\n",
    "    plt.semilogy(dists, [len(np.unique(y_pred)) for y_pred in labels], label=name)\n",
    "for name, labels in thd_labels.items():\n",
    "    plt.semilogy(dists, [len(np.unique(y_pred))-1 for y_pred in labels], label='thd ({})'.format(name))\n",
    "plt.legend(loc='best')\n",
    "plt.xlabel(\"distance\")\n",
    "plt.ylabel(\"num. clusters\")\n",
    "_ = plt.show()"
   ]
  },
  {
   "cell_type": "code",
   "execution_count": null,
   "id": "solar-investing",
   "metadata": {},
   "outputs": [],
   "source": [
    "hc_ami = {\n",
    "    name: np.array([metrics.adjusted_mutual_info_score(y, y_pred) for y_pred in labels])\n",
    "    for name, labels in hc_labels.items()\n",
    "}\n",
    "\n",
    "thd_ami = {\n",
    "    name: np.array([metrics.adjusted_mutual_info_score(y, y_pred) for y_pred in labels])\n",
    "    for name, labels in thd_labels.items()\n",
    "}\n",
    "\n",
    "for name, values in hc_ami.items():\n",
    "    plt.plot(dists, values, label=name)\n",
    "for name, values in thd_ami.items():\n",
    "    plt.plot(dists, values, label='thd ({})'.format(name))\n",
    "plt.legend(loc='best')\n",
    "plt.xlabel(\"Distance\")\n",
    "plt.ylabel(\"Adjusted Mutual Information\")\n",
    "_ = plt.show()"
   ]
  },
  {
   "cell_type": "code",
   "execution_count": null,
   "id": "alive-nickname",
   "metadata": {},
   "outputs": [],
   "source": [
    "hc_ars = {\n",
    "    name: np.array([metrics.adjusted_rand_score(y, y_pred) for y_pred in labels])\n",
    "    for name, labels in hc_labels.items()\n",
    "}\n",
    "\n",
    "thd_ars = {\n",
    "    name: np.array([metrics.adjusted_rand_score(y, y_pred) for y_pred in labels])\n",
    "    for name, labels in thd_labels.items()\n",
    "}\n",
    "\n",
    "for name, values in hc_ars.items():\n",
    "    plt.plot(dists, values, label=name)\n",
    "for name, values in thd_ars.items():\n",
    "    plt.plot(dists, values, label='thd ({})'.format(name))\n",
    "plt.legend(loc='best')\n",
    "plt.xlabel(\"Distance\")\n",
    "plt.ylabel(\"Adjusted Rand Score\")\n",
    "_ = plt.show()"
   ]
  },
  {
   "cell_type": "code",
   "execution_count": null,
   "id": "guilty-mason",
   "metadata": {},
   "outputs": [],
   "source": [
    "pairwise = metrics.pairwise_distances(X, metric=METRIC)\n",
    "\n",
    "hc_sil = {\n",
    "    name: np.array([metrics.silhouette_score(pairwise, y_pred, metric='precomputed') for y_pred in labels])\n",
    "    for name, labels in hc_labels.items()\n",
    "}"
   ]
  },
  {
   "cell_type": "code",
   "execution_count": null,
   "id": "scientific-scottish",
   "metadata": {},
   "outputs": [],
   "source": []
  }
 ],
 "metadata": {
  "kernelspec": {
   "display_name": "Python 3",
   "language": "python",
   "name": "python3"
  },
  "language_info": {
   "codemirror_mode": {
    "name": "ipython",
    "version": 3
   },
   "file_extension": ".py",
   "mimetype": "text/x-python",
   "name": "python",
   "nbconvert_exporter": "python",
   "pygments_lexer": "ipython3",
   "version": "3.7.2"
  }
 },
 "nbformat": 4,
 "nbformat_minor": 5
}
