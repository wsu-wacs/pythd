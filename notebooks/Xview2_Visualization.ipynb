{
 "cells": [
  {
   "cell_type": "code",
   "execution_count": null,
   "metadata": {},
   "outputs": [],
   "source": [
    "%matplotlib inline\n",
    "from importlib import reload\n",
    "import json\n",
    "import sys\n",
    "sys.path.append(\"..\")\n",
    "from pathlib import Path\n",
    "from tqdm import tqdm\n",
    "\n",
    "import numpy as np\n",
    "import scipy as sp\n",
    "import pandas as pd\n",
    "from matplotlib import pyplot as plt\n",
    "from skimage import io\n",
    "from sklearn.manifold import TSNE\n",
    "from sklearn.decomposition import PCA\n",
    "from sklearn.preprocessing import StandardScaler\n",
    "import cv2\n",
    "\n",
    "import pythd"
   ]
  },
  {
   "cell_type": "code",
   "execution_count": null,
   "metadata": {},
   "outputs": [],
   "source": [
    "DATA_DIR = Path(\"..\") / Path(\"data\")\n",
    "CHIP_SHAPE = (16, 16)\n",
    "CHIP_STRIDE = (16, 16)"
   ]
  },
  {
   "cell_type": "code",
   "execution_count": null,
   "metadata": {},
   "outputs": [],
   "source": [
    "reload(pythd)\n",
    "reload(pythd.image)\n",
    "\n",
    "DAMAGE_LEVELS = {\n",
    "    \"un-classified\": 1,\n",
    "    \"no-damage\": 2,\n",
    "    \"minor-damage\": 3,\n",
    "    \"major-damage\": 4,\n",
    "    \"destroyed\": 5\n",
    "}\n",
    "\n",
    "def process_image(pre_img, post_img, chip_size, chip_stride):\n",
    "    \"\"\"\n",
    "    Process and chip a single image\n",
    "    \"\"\"\n",
    "    # Color transfer\n",
    "    pre_img = cv2.cvtColor(pythd.image.normalize_image(pre_img), cv2.COLOR_RGB2Lab)\n",
    "    post_img = cv2.cvtColor(pythd.image.normalize_image(post_img), cv2.COLOR_RGB2Lab)\n",
    "    for i in range(pre_img.shape[2]):\n",
    "        post_img[:,:,i] = ((post_img[:,:,i] - post_img[:,:,i].mean()) / post_img[:,:,i].std() * pre_img[:,:,i].std()) + pre_img[:,:,i].mean()\n",
    "    pre_img = pythd.image.normalize_image(cv2.cvtColor(pre_img, cv2.COLOR_Lab2RGB))\n",
    "    pre_img = (pre_img * 255.0).astype(np.uint8)\n",
    "    post_img = pythd.image.normalize_image(cv2.cvtColor(post_img, cv2.COLOR_Lab2RGB))\n",
    "    post_img = (post_img * 255.0).astype(np.uint8)\n",
    "    \n",
    "    dfs = []\n",
    "    for k, img in {\"pre\": pre_img, \"post\": post_img}.items():\n",
    "        # RGB\n",
    "        df = pythd.image.ChippedImage.FromRGB(img, chip_size, chip_stride).df\n",
    "        cols = [col for col in df.columns if \"pixel\" in col]\n",
    "        df.loc[:, cols] = (df.loc[:, cols] - df.loc[:, cols].mean(axis=0)) / df.loc[:, cols].std(axis=0)\n",
    "        df.columns = [k + \"_\" + col for col in df.columns]\n",
    "        dfs.append(df)\n",
    "\n",
    "        # Edges\n",
    "        edges = cv2.Canny(img, threshold1=100, threshold2=200, apertureSize=3, L2gradient=True)\n",
    "        edges = pythd.image.normalize_image(edges)\n",
    "        edges_df = pythd.image.ChippedImage.FromGrayscale(edges, chip_size, chip_stride).df\n",
    "        cols = [col for col in edges_df.columns if \"pixel\" in col]\n",
    "        edges_df = edges_df.loc[:, cols]\n",
    "        edges_df.columns = [k + \"_edge \" + col for col in edges_df.columns]\n",
    "        dfs.append(edges_df)\n",
    "    \n",
    "    df = pd.concat(dfs, axis=1)\n",
    "    df.drop([\"post_x\", \"post_y\"], axis=1, inplace=True)\n",
    "    df.rename({\"pre_x\": \"x\", \"pre_y\": \"y\"}, axis=1, inplace=True)\n",
    "    return df\n",
    "\n",
    "def build_chipped_df(images, chip_size=(16,16), chip_stride=(16,16)):\n",
    "    \"\"\"\n",
    "    Build a chipped dataframe from a list of image paths\n",
    "    \"\"\"\n",
    "    dfs = []\n",
    "    cw, ch = chip_size\n",
    "    sx, sy = chip_stride\n",
    "    \n",
    "    for pre_path in tqdm(list(images)):\n",
    "        #pre disaster image\n",
    "        pre_img = io.imread(str(pre_path))\n",
    "        h, w = pre_img.shape[:2]\n",
    "        post_path = DATA_DIR / pre_path.name.replace(\"pre\", \"post\")\n",
    "        post_img = io.imread(str(post_path))\n",
    "        df = process_image(pre_img, post_img, chip_size, chip_stride)\n",
    "        df[\"image\"] = pre_path.name\n",
    "        df.astype({\"x\": \"int32\", \"y\": \"int32\"}, copy=False)\n",
    "        df[\"building\"] = 0\n",
    "        df[\"damage\"] = 1\n",
    "        \n",
    "        # labels\n",
    "        label_path = DATA_DIR / post_path.name.replace(\"png\", \"json\")\n",
    "        if label_path.exists():\n",
    "            label_mask = np.zeros((h, w), dtype=np.uint8)\n",
    "            with open(label_path, \"r\") as f:\n",
    "                labels = json.load(f)\n",
    "                labels = labels[\"features\"][\"xy\"]\n",
    "                for o in [obj for obj in labels if (obj[\"properties\"][\"feature_type\"] == \"building\")]:\n",
    "                    coords = o[\"wkt\"][10:-2].split(', ')\n",
    "                    bbox= np.array([list(map(lambda x: int(float(x)), coord.split(' '))) for coord in coords])\n",
    "                    damage = DAMAGE_LEVELS[o[\"properties\"][\"subtype\"]]\n",
    "                    cv2.fillPoly(label_mask, [bbox], color=damage)\n",
    "            \n",
    "            for row in df.index:\n",
    "                x = int(df.loc[row, \"x\"])\n",
    "                y = int(df.loc[row, \"y\"])\n",
    "                chip = label_mask[y:(y+ch), x:(x+cw)]\n",
    "                df.loc[row, \"building\"] = int((chip > 0).any())\n",
    "                df.loc[row, \"damage\"] = chip.max()\n",
    "        dfs.append(df)\n",
    "    \n",
    "    dfs = pd.concat(dfs, axis=0, ignore_index=True)\n",
    "    return dfs\n",
    "\n",
    "df = build_chipped_df(list(DATA_DIR.glob(\"*pre_disaster.png\")), chip_size=CHIP_SHAPE, chip_stride=CHIP_STRIDE)"
   ]
  },
  {
   "cell_type": "code",
   "execution_count": null,
   "metadata": {},
   "outputs": [],
   "source": [
    "features = [c for c in df.columns if \"pixel\" in c]\n",
    "data = df.loc[:, features].values\n",
    "print(df.shape)\n",
    "print(df[\"image\"].unique())\n",
    "df.head()"
   ]
  },
  {
   "cell_type": "code",
   "execution_count": null,
   "metadata": {},
   "outputs": [],
   "source": [
    "reload(pythd)\n",
    "reload(pythd.filter)\n",
    "\n",
    "filt1 = pythd.filter.ScikitLearnFilter(PCA, n_components=100)\n",
    "filt1.fit(data)"
   ]
  },
  {
   "cell_type": "code",
   "execution_count": null,
   "metadata": {},
   "outputs": [],
   "source": [
    "reload(pythd)\n",
    "reload(pythd.filter)\n",
    "\n",
    "V = np.var(filt1(data), axis=0)\n",
    "\n",
    "filt2 = pythd.filter.ScikitLearnFilter(TSNE, n_components=2, \n",
    "                                       metric='correlation',\n",
    "                                       init='pca', angle=0.7)\n",
    "filt = pythd.filter.CompositeFilter(filt1, filt2)\n",
    "f_x = filt(data)\n",
    "print(f_x.shape)"
   ]
  },
  {
   "cell_type": "code",
   "execution_count": null,
   "metadata": {
    "scrolled": true
   },
   "outputs": [],
   "source": [
    "reload(pythd)\n",
    "reload(pythd.thd)\n",
    "reload(pythd.complex)\n",
    "reload(pythd.cover)\n",
    "reload(pythd.mapper)\n",
    "reload(pythd.clustering)\n",
    "\n",
    "clustering = pythd.clustering.HierarchicalClustering(metric='seuclidean', method='average')\n",
    "cover = pythd.cover.IntervalCover.EvenlySpacedFromValues(f_x, 50, 0.3)\n",
    "thd = pythd.thd.THD(data, filt, cover, group_threshold=200, contract_amount=0.05)\n",
    "thd.run(verbose=True)\n",
    "root = thd.get_results()"
   ]
  },
  {
   "cell_type": "code",
   "execution_count": null,
   "metadata": {},
   "outputs": [],
   "source": [
    "import igraph\n",
    "root.color_by_value(df[\"building\"].values, normalize=True)\n",
    "#root.color_density(normalize=True)\n",
    "g = root.as_igraph_graph()\n",
    "vs = {\n",
    "    \"margin\": 40,\n",
    "    \"bbox\": (650, 350),\n",
    "    \"vertex_label\": g.vs[\"name\"],\n",
    "    \"vertex_label_size\": 10,\n",
    "    \"vertex_size\": 35,\n",
    "    \"vertex_label_dist\": 0,\n",
    "    \"vertex_label_angle\": 0,\n",
    "    \"layout\": g.layout_reingold_tilford(root=[0])\n",
    "}\n",
    "igraph.plot(g, **vs)"
   ]
  },
  {
   "cell_type": "code",
   "execution_count": null,
   "metadata": {},
   "outputs": [],
   "source": [
    "def show_group_image(group, i=0, which='pre'):\n",
    "    images = df[\"image\"].iloc[list(group.rids)].unique()\n",
    "    gdata = df.iloc[list(group.rids), :]\n",
    "    img_name = images[i]\n",
    "    gdata = gdata[gdata[\"image\"] == img_name]\n",
    "\n",
    "    img_path = DATA_DIR / img_name\n",
    "    if which == 'pre':\n",
    "        img_path = DATA_DIR / img_name.replace('post', 'pre')\n",
    "    else:\n",
    "        img_path = DATA_DIR / img_name.replace('pre', 'post')\n",
    "    img = io.imread(str(img_path))\n",
    "    mask = np.zeros(img.shape[:2], dtype=np.float32)\n",
    "    cw, ch = CHIP_SHAPE\n",
    "\n",
    "    for x, y in zip(gdata[\"x\"].values, gdata[\"y\"].values):\n",
    "        x, y = (int(x), int(y))\n",
    "        mask[y:(y+ch), x:(x+cw)] = 1\n",
    "\n",
    "    overlay = pythd.image.overlay_mask(img, mask, image_alpha=0.6)\n",
    "\n",
    "    pythd.image.plot_images((overlay,))\n",
    "\n",
    "group = root.get_group_by_name(\"9.2.0\")\n",
    "images = df[\"image\"].iloc[list(group.rids)].unique()\n",
    "print(images)"
   ]
  },
  {
   "cell_type": "code",
   "execution_count": null,
   "metadata": {},
   "outputs": [],
   "source": [
    "show_group_image(group, 0)"
   ]
  },
  {
   "cell_type": "code",
   "execution_count": null,
   "metadata": {},
   "outputs": [],
   "source": [
    "show_group_image(group, 1)"
   ]
  },
  {
   "cell_type": "code",
   "execution_count": null,
   "metadata": {},
   "outputs": [],
   "source": [
    "show_group_image(group, 2)"
   ]
  },
  {
   "cell_type": "code",
   "execution_count": null,
   "metadata": {},
   "outputs": [],
   "source": [
    "show_group_image(group, 3)"
   ]
  },
  {
   "cell_type": "code",
   "execution_count": null,
   "metadata": {},
   "outputs": [],
   "source": [
    "show_group_image(group, 4)"
   ]
  },
  {
   "cell_type": "code",
   "execution_count": null,
   "metadata": {},
   "outputs": [],
   "source": [
    "show_group_image(group, 5)"
   ]
  },
  {
   "cell_type": "code",
   "execution_count": null,
   "metadata": {},
   "outputs": [],
   "source": [
    "show_group_image(group, 6)"
   ]
  },
  {
   "cell_type": "code",
   "execution_count": null,
   "metadata": {},
   "outputs": [],
   "source": [
    "root.color_by_value(df[\"damage\"].values, normalize=True)\n",
    "g = root.as_igraph_graph()\n",
    "vs = {\n",
    "    \"margin\": 40,\n",
    "    \"bbox\": (650, 350),\n",
    "    \"vertex_label\": g.vs[\"name\"],\n",
    "    \"vertex_label_size\": 10,\n",
    "    \"vertex_size\": 35,\n",
    "    \"vertex_label_dist\": 0,\n",
    "    \"vertex_label_angle\": 0,\n",
    "    \"layout\": g.layout_reingold_tilford(root=[0])\n",
    "}\n",
    "igraph.plot(g, **vs)"
   ]
  },
  {
   "cell_type": "code",
   "execution_count": null,
   "metadata": {},
   "outputs": [],
   "source": [
    "group = root.get_group_by_name(\"2.19.0\")\n",
    "images = df[\"image\"].iloc[list(group.rids)].unique()\n",
    "print(images)"
   ]
  },
  {
   "cell_type": "code",
   "execution_count": null,
   "metadata": {},
   "outputs": [],
   "source": [
    "show_group_image(group, 0, which='post')"
   ]
  },
  {
   "cell_type": "code",
   "execution_count": null,
   "metadata": {},
   "outputs": [],
   "source": [
    "show_group_image(group, 1, which='post')"
   ]
  },
  {
   "cell_type": "code",
   "execution_count": null,
   "metadata": {},
   "outputs": [],
   "source": [
    "show_group_image(group, 2, which='post')"
   ]
  },
  {
   "cell_type": "code",
   "execution_count": null,
   "metadata": {},
   "outputs": [],
   "source": [
    "show_group_image(group, 3, which='post')"
   ]
  },
  {
   "cell_type": "code",
   "execution_count": null,
   "metadata": {},
   "outputs": [],
   "source": [
    "show_group_image(group, 4, which='post')"
   ]
  },
  {
   "cell_type": "code",
   "execution_count": null,
   "metadata": {},
   "outputs": [],
   "source": [
    "show_group_image(group, 5, which='post')"
   ]
  },
  {
   "cell_type": "code",
   "execution_count": null,
   "metadata": {},
   "outputs": [],
   "source": [
    "show_group_image(group, 6, which='post')"
   ]
  },
  {
   "cell_type": "code",
   "execution_count": null,
   "metadata": {},
   "outputs": [],
   "source": []
  }
 ],
 "metadata": {
  "kernelspec": {
   "display_name": "Python 3",
   "language": "python",
   "name": "python3"
  },
  "language_info": {
   "codemirror_mode": {
    "name": "ipython",
    "version": 3
   },
   "file_extension": ".py",
   "mimetype": "text/x-python",
   "name": "python",
   "nbconvert_exporter": "python",
   "pygments_lexer": "ipython3",
   "version": "3.7.2"
  }
 },
 "nbformat": 4,
 "nbformat_minor": 4
}
