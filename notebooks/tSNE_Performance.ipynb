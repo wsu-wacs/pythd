{
 "cells": [
  {
   "cell_type": "code",
   "execution_count": null,
   "metadata": {},
   "outputs": [],
   "source": [
    "%matplotlib inline\n",
    "import sys\n",
    "sys.path.append(\"..\")\n",
    "from importlib import reload\n",
    "import numpy as np\n",
    "import scipy as sp\n",
    "import scipy.stats\n",
    "from matplotlib import pyplot as plt\n",
    "import igraph\n",
    "import time\n",
    "\n",
    "from sklearn.manifold import TSNE\n",
    "\n",
    "import pythd"
   ]
  },
  {
   "cell_type": "code",
   "execution_count": null,
   "metadata": {},
   "outputs": [],
   "source": [
    "NUM_ITER = 5\n",
    "\n",
    "def run_loop(sz, dim, num_iter=NUM_ITER, thresh=1, auto_thresh=False, filter_f=pythd.filter.IdentityFilter()):\n",
    "    \"\"\"Run seveal iterations of THD with fixed settings, getting a list of times\"\"\"\n",
    "    total_times = []\n",
    "    setup_times = []\n",
    "    filter_times = []\n",
    "    thd_times = []\n",
    "    \n",
    "    center = [0.0 for i in range(dim)]\n",
    "    sd = [10.0 for i in range(dim)]\n",
    "\n",
    "    for i in range(num_iter):\n",
    "        total_time = time.perf_counter()\n",
    "        setup_time = total_time\n",
    "        \n",
    "        dataset = np.random.rand(sz, dim)\n",
    "        filter_time = time.perf_counter()\n",
    "        filter_f.reset()\n",
    "        f_x = filter_f(dataset)\n",
    "        filter_time = time.perf_counter() - filter_time\n",
    "        clustering = pythd.clustering.HierarchicalClustering()\n",
    "        cover = pythd.cover.IntervalCover.EvenlySpacedFromValues(f_x, 15, 0.5)\n",
    "        thresh = max(1, sz / 10) if auto_thresh else thresh\n",
    "        setup_time = time.perf_counter() - setup_time\n",
    "\n",
    "        thd_time = time.perf_counter()\n",
    "        thd = pythd.thd.THD(dataset, filt, cover, group_threshold=thresh)\n",
    "        last_time = time.perf_counter()\n",
    "\n",
    "        total_time = last_time - total_time\n",
    "        thd_time = last_time - thd_time\n",
    "        \n",
    "        total_times.append(total_time)\n",
    "        setup_times.append(setup_time)\n",
    "        filter_times.append(filter_time)\n",
    "        thd_times.append(thd_time)\n",
    "    \n",
    "    return total_times, setup_times, filter_times, thd_times\n",
    "\n",
    "def confidence_interval(data, confidence=0.99):\n",
    "    \"\"\"Compute a confidence interval for a series of data.\n",
    "    \n",
    "    Returns half the width of the interval\"\"\"\n",
    "    data = np.array(data)\n",
    "    n = data.shape[0]\n",
    "    sem = sp.stats.sem(data) # standard error of the mean\n",
    "    return sem * sp.stats.t.ppf((1 + confidence) / 2.0, n - 1)\n",
    "\n",
    "def format_times(tms):\n",
    "    \"\"\"Format a list of times using a 99% confidence interval\"\"\"\n",
    "    tms = np.array(tms)\n",
    "    mean = tms.mean()\n",
    "    h = confidence_interval(tms)\n",
    "    return \"{:.4f} +/- {:.4f}\".format(mean, h)\n",
    "    "
   ]
  },
  {
   "cell_type": "code",
   "execution_count": null,
   "metadata": {},
   "outputs": [],
   "source": [
    "res_types = [\"total\", \"setup\", \"filter\", \"thd\"]\n",
    "colors = [\"blue\", \"green\", \"red\", \"orange\"]"
   ]
  },
  {
   "cell_type": "code",
   "execution_count": null,
   "metadata": {
    "scrolled": true
   },
   "outputs": [],
   "source": [
    "# TSNE filter - dataset size\n",
    "dimension = 10\n",
    "DATASET_SIZES_A = np.logspace(1, 3.5, num=50, base=10.0, dtype=int)\n",
    "\n",
    "means = {k: [] for k in res_types}\n",
    "intervals = {k: [] for k in res_types}\n",
    "\n",
    "filt = pythd.filter.ScikitLearnFilter(TSNE, n_components=2, n_jobs=3)\n",
    "\n",
    "for sz in DATASET_SIZES_A:\n",
    "    print(\"Dataset size {}... \".format(sz), end='')\n",
    "    res = run_loop(sz=sz, dim=dimension, filter_f=filt, num_iter=50)\n",
    "    for i, k in enumerate(res_types):\n",
    "        means[k].append(np.mean(res[i]))\n",
    "        intervals[k].append(confidence_interval(res[i], confidence=0.99))\n",
    "    print(\", \".join([\"{}: {:.4f} +/ {:.4f} s\".format(k, means[k][-1], intervals[k][-1]) for k in means.keys()]))"
   ]
  },
  {
   "cell_type": "code",
   "execution_count": null,
   "metadata": {},
   "outputs": [],
   "source": [
    "# TSNE filter - dataset size\n",
    "plt.close()\n",
    "for i, k in enumerate((set(means.keys()) - set([\"setup\"]))):\n",
    "    v = np.array(means[k])\n",
    "    h = np.array(intervals[k])\n",
    "    plt.plot(DATASET_SIZES_A, v, \"-\", color=colors[i], label=k)\n",
    "    plt.fill_between(DATASET_SIZES_A, v-h, v+h, color=colors[i], alpha=0.3)\n",
    "plt.legend(loc=\"best\")\n",
    "plt.xlabel(\"dataset size\")\n",
    "plt.ylabel(\"average time (s)\")\n",
    "_ = plt.show()"
   ]
  },
  {
   "cell_type": "code",
   "execution_count": null,
   "metadata": {
    "scrolled": true
   },
   "outputs": [],
   "source": [
    "# TSNE filter - dataset dimension\n",
    "sz = 50\n",
    "DIMENSIONS = np.array(range(5, 101))\n",
    "\n",
    "means = {k: [] for k in res_types}\n",
    "intervals = {k: [] for k in res_types}\n",
    "\n",
    "filt = pythd.filter.ScikitLearnFilter(TSNE, n_components=2, n_jobs=3)\n",
    "\n",
    "for dim in DIMENSIONS:\n",
    "    print(\"Dimension {}...\".format(dim), end='')\n",
    "    res = run_loop(sz=sz, dim=dim, filter_f=filt, num_iter=50)\n",
    "    for i, k in enumerate(res_types):\n",
    "        means[k].append(np.mean(res[i]))\n",
    "        intervals[k].append(confidence_interval(res[i], confidence=0.99))\n",
    "    print(\", \".join([\"{}: {:.4f} +/ {:.4f} s\".format(k, means[k][-1], intervals[k][-1]) for k in means.keys()]))"
   ]
  },
  {
   "cell_type": "code",
   "execution_count": null,
   "metadata": {},
   "outputs": [],
   "source": [
    "# TSNE filter - dataset dimension\n",
    "plt.close()\n",
    "for i, k in enumerate((set(means.keys()) - set([\"setup\"]))):\n",
    "    v = np.array(means[k])\n",
    "    h = np.array(intervals[k])\n",
    "    plt.plot(DIMENSIONS, v, \"-\", color=colors[i], label=k)\n",
    "    plt.fill_between(DIMENSIONS, v-h, v+h, color=colors[i], alpha=0.3)\n",
    "plt.legend(loc=\"best\")\n",
    "plt.xlabel(\"num. dimensions\")\n",
    "plt.ylabel(\"average time (s)\")\n",
    "_ = plt.show()"
   ]
  },
  {
   "cell_type": "code",
   "execution_count": null,
   "metadata": {
    "scrolled": true
   },
   "outputs": [],
   "source": [
    "# TSNE filter - number of components\n",
    "sz = 50\n",
    "COMPONENTS = np.array(range(100, 1, -1))\n",
    "dim = 100\n",
    "\n",
    "means = {k: [] for k in res_types}\n",
    "intervals = {k: [] for k in res_types}\n",
    "\n",
    "for num_components in COMPONENTS:\n",
    "    filt = pythd.filter.ScikitLearnFilter(TSNE, n_components=num_components, n_jobs=3, method=\"exact\")\n",
    "    print(\"{} components...\".format(num_components), end='')\n",
    "    res = run_loop(sz=sz, dim=dim, filter_f=filt, num_iter=50)\n",
    "    for i, k in enumerate(res_types):\n",
    "        means[k].append(np.mean(res[i]))\n",
    "        intervals[k].append(confidence_interval(res[i], confidence=0.99))\n",
    "    print(\", \".join([\"{}: {:.4f} +/ {:.4f} s\".format(k, means[k][-1], intervals[k][-1]) for k in means.keys()]))"
   ]
  },
  {
   "cell_type": "code",
   "execution_count": null,
   "metadata": {},
   "outputs": [],
   "source": [
    "# TSNE filter - number of components\n",
    "plt.close()\n",
    "for i, k in enumerate((set(means.keys()) - set([\"setup\"]))):\n",
    "    v = np.array(means[k])\n",
    "    h = np.array(intervals[k])\n",
    "    plt.plot(COMPONENTS, v, \"-\", color=colors[i], label=k)\n",
    "    plt.fill_between(COMPONENTS, v-h, v+h, color=colors[i], alpha=0.3)\n",
    "plt.legend(loc=\"best\")\n",
    "plt.xlabel(\"num. tSNE components\")\n",
    "plt.ylabel(\"average time (s)\")\n",
    "_ = plt.show()"
   ]
  },
  {
   "cell_type": "code",
   "execution_count": null,
   "metadata": {
    "scrolled": true
   },
   "outputs": [],
   "source": [
    "# With/without TSNE - num dimensions\n",
    "sz = 100\n",
    "DIMENSIONS = np.array(range(2, 101))\n",
    "\n",
    "res_types = [\"thd_tsne\", \"thd_id\"]\n",
    "means = {k: [] for k in res_types}\n",
    "intervals = {k: [] for k in res_types}\n",
    "\n",
    "filt = pythd.filter.ScikitLearnFilter(TSNE, n_components=2, n_jobs=3)\n",
    "\n",
    "for dim in DIMENSIONS:\n",
    "    print(\"Dimension {}...\".format(dim), end='')\n",
    "    res = run_loop(sz=sz, dim=dim, filter_f=filt, num_iter=50)\n",
    "    means[\"thd_tsne\"].append(np.mean(res[-1]))\n",
    "    intervals[\"thd_tsne\"].append(confidence_interval(res[-1], confidence=0.99))\n",
    "    \n",
    "    res = run_loop(sz=sz, dim=dim, num_iter=50)\n",
    "    means[\"thd_id\"].append(np.mean(res[-1]))\n",
    "    intervals[\"thd_id\"].append(confidence_interval(res[-1], confidence=0.99))\n",
    "    \n",
    "    print(\", \".join([\"{}: {:.4f} +/ {:.4f} s\".format(k, means[k][-1], intervals[k][-1]) for k in means.keys()]))"
   ]
  },
  {
   "cell_type": "code",
   "execution_count": null,
   "metadata": {},
   "outputs": [],
   "source": [
    "# With/without TSNE - num dimensions\n",
    "plt.close()\n",
    "for i, k in enumerate((set(means.keys()) - set([\"setup\"]))):\n",
    "    v = np.array(means[k])\n",
    "    h = np.array(intervals[k])\n",
    "    plt.plot(DIMENSIONS, v, \"-\", color=colors[i], label=k)\n",
    "    plt.fill_between(DIMENSIONS, v-h, v+h, color=colors[i], alpha=0.3)\n",
    "plt.legend(loc=\"best\")\n",
    "plt.xlabel(\"num. dimensions\")\n",
    "plt.ylabel(\"average time (s)\")\n",
    "_ = plt.show()"
   ]
  },
  {
   "cell_type": "code",
   "execution_count": null,
   "metadata": {},
   "outputs": [],
   "source": []
  }
 ],
 "metadata": {
  "kernelspec": {
   "display_name": "Python 3",
   "language": "python",
   "name": "python3"
  },
  "language_info": {
   "codemirror_mode": {
    "name": "ipython",
    "version": 3
   },
   "file_extension": ".py",
   "mimetype": "text/x-python",
   "name": "python",
   "nbconvert_exporter": "python",
   "pygments_lexer": "ipython3",
   "version": "3.7.2"
  }
 },
 "nbformat": 4,
 "nbformat_minor": 4
}
