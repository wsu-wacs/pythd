{
 "cells": [
  {
   "cell_type": "code",
   "execution_count": null,
   "id": "regulation-gasoline",
   "metadata": {},
   "outputs": [],
   "source": [
    "from pathlib import Path\n",
    "import sys\n",
    "sys.path.append(\"..\")\n",
    "from importlib import reload\n",
    "\n",
    "import numpy as np\n",
    "import scipy as sp\n",
    "import pandas as pd\n",
    "import igraph\n",
    "\n",
    "import umap\n",
    "\n",
    "from sklearn.preprocessing import StandardScaler, RobustScaler\n",
    "from sklearn.cluster import DBSCAN, OPTICS\n",
    "\n",
    "import pythd"
   ]
  },
  {
   "cell_type": "code",
   "execution_count": null,
   "id": "assumed-links",
   "metadata": {},
   "outputs": [],
   "source": [
    "# Configuration\n",
    "CUR_DIR = Path.cwd()\n",
    "DATA_DIR = CUR_DIR.parent / 'data'\n",
    "\n",
    "HELOC_NAME = 'heloc_dataset_v1.csv'\n",
    "HELOC_PATH = DATA_DIR / HELOC_NAME\n",
    "CLUSTER_METHODS = ['complete', 'average']\n",
    "\n",
    "METRIC='cosine'"
   ]
  },
  {
   "cell_type": "code",
   "execution_count": null,
   "id": "unlikely-convergence",
   "metadata": {},
   "outputs": [],
   "source": [
    "df = pd.read_csv(HELOC_PATH, dtype={'RiskPerformance': 'category'})\n",
    "df['MaxDelq2PublicRecLast12M'] = df['MaxDelq2PublicRecLast12M'].map({\n",
    "    0: 0,\n",
    "    1: 120,\n",
    "    2: 90,\n",
    "    3: 60,\n",
    "    4: 30,\n",
    "    5: 0,\n",
    "    6: 0,\n",
    "    7: 0,\n",
    "    8: 0,\n",
    "    9: 0\n",
    "})\n",
    "\n",
    "df['MaxDelqEver'] = df['MaxDelqEver'].map({\n",
    "    1: 0,\n",
    "    2: 0,\n",
    "    3: 120,\n",
    "    4: 90,\n",
    "    5: 60,\n",
    "    6: 30,\n",
    "    7: 0,\n",
    "    8: 0,\n",
    "    9: 0\n",
    "})\n",
    "\n",
    "df = df.dropna()\n",
    "\n",
    "X = df.drop(columns=['RiskPerformance', 'ExternalRiskEstimate']).values.astype(np.float32)\n",
    "X = RobustScaler().fit_transform(X)\n",
    "y = df['RiskPerformance'].cat.codes.values"
   ]
  },
  {
   "cell_type": "code",
   "execution_count": null,
   "id": "unavailable-green",
   "metadata": {},
   "outputs": [],
   "source": [
    "filt = pythd.filter.ScikitLearnFilter(umap.UMAP, n_components=2, n_neighbors=20, min_dist=0.6, metric=METRIC)\n",
    "f_x = filt(X)\n",
    "cov = pythd.cover.IntervalCover.EvenlySpacedFromValues(f_x, 200, 0.5)"
   ]
  },
  {
   "cell_type": "code",
   "execution_count": null,
   "id": "wrapped-subscriber",
   "metadata": {
    "scrolled": true
   },
   "outputs": [],
   "source": [
    "reload(pythd)\n",
    "reload(pythd.clustering)\n",
    "reload(pythd.mapper)\n",
    "clustering = pythd.clustering.ScikitLearnClustering(OPTICS, min_samples=2, metric=METRIC)\n",
    "thd = pythd.thd.THD(X, filt, cov, full_df=X, clustering=clustering, group_threshold=50, contract_amount=0.1)\n",
    "groups = thd.run(verbose=True)"
   ]
  },
  {
   "cell_type": "code",
   "execution_count": null,
   "id": "irish-version",
   "metadata": {},
   "outputs": [],
   "source": []
  }
 ],
 "metadata": {
  "kernelspec": {
   "display_name": "Python 3",
   "language": "python",
   "name": "python3"
  },
  "language_info": {
   "codemirror_mode": {
    "name": "ipython",
    "version": 3
   },
   "file_extension": ".py",
   "mimetype": "text/x-python",
   "name": "python",
   "nbconvert_exporter": "python",
   "pygments_lexer": "ipython3",
   "version": "3.7.2"
  }
 },
 "nbformat": 4,
 "nbformat_minor": 5
}
