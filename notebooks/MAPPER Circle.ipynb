{
 "cells": [
  {
   "cell_type": "code",
   "execution_count": 1,
   "metadata": {},
   "outputs": [],
   "source": [
    "%matplotlib inline\n",
    "import sys\n",
    "sys.path.append(\"..\")\n",
    "import numpy as np\n",
    "from matplotlib import pyplot as plt\n",
    "import igraph\n",
    "\n",
    "import pythd"
   ]
  },
  {
   "cell_type": "code",
   "execution_count": 2,
   "metadata": {},
   "outputs": [],
   "source": [
    "# Function to create a dataset of a circle at a given point\n",
    "def create_circle(c=np.array([0.0, 0.0]), r=1.0, noise=0.0, n=20):\n",
    "    delta = 2.0*np.pi / n\n",
    "    theta = np.linspace(0.0, 2.0*np.pi, num=n, endpoint=False)\n",
    "    c = np.array(c)\n",
    "    \n",
    "    x = c[0] + r*np.cos(theta) + np.random.normal(scale=noise, size=theta.shape)\n",
    "    y = c[1] + r*np.sin(theta) + np.random.normal(scale=noise, size=theta.shape)\n",
    "    return np.array([x, y]).T"
   ]
  },
  {
   "cell_type": "code",
   "execution_count": 24,
   "metadata": {},
   "outputs": [
    {
     "data": {
      "image/png": "[encoded data removed]",
      "text/plain": [
       "<Figure size 432x288 with 1 Axes>"
      ]
     },
     "metadata": {
      "needs_background": "light"
     },
     "output_type": "display_data"
    }
   ],
   "source": [
    "# Create and show two circles with some noise\n",
    "circ1 = create_circle(c=[-2.0, 0.0], r=2.0, noise=0.05, n=50)\n",
    "circ2 = create_circle(c=[2.0, 0.0], r=2.0, noise=0.05, n=50)\n",
    "dataset = np.concatenate((circ1, circ2))\n",
    "plt.plot(dataset[:, 0], dataset[:, 1], \".\")\n",
    "plt.show()"
   ]
  },
  {
   "cell_type": "code",
   "execution_count": 25,
   "metadata": {},
   "outputs": [],
   "source": [
    "# Setup MAPPER\n",
    "filt = pythd.filter.ComponentFilter(0) # filter: x component\n",
    "xmin = dataset[:, 0].min()\n",
    "xmax = dataset[:, 0].max()\n",
    "cover = pythd.cover.IntervalCover1D.EvenlySpaced(10, xmin, xmax, 0.5)\n",
    "clustering = pythd.clustering.HierarchicalClustering()"
   ]
  },
  {
   "cell_type": "code",
   "execution_count": 26,
   "metadata": {},
   "outputs": [],
   "source": [
    "# Run MAPPER\n",
    "mapper = pythd.mapper.MAPPER(filter=filt, cover=cover, clustering=clustering)\n",
    "nodes, edges = mapper.compute_1_skeleton(dataset)"
   ]
  },
  {
   "cell_type": "code",
   "execution_count": 27,
   "metadata": {},
   "outputs": [
    {
     "name": "stdout",
     "output_type": "stream",
     "text": [
      "IGRAPH UN-- 16 17 --\n",
      "+ attr: name (v), points (v)\n",
      "+ edges (vertex names):\n",
      "0--2, 0--6, 1--2, 1--5, 2--3, 2--4, 3--14, 4--15, 5--8, 6--7, 7--9, 8--9,\n",
      "9--10, 11--12, 11--13, 12--14, 13--15\n"
     ]
    }
   ],
   "source": [
    "# Create igraph graph\n",
    "g = igraph.Graph()\n",
    "for vid, points in nodes.items():\n",
    "    g.add_vertex(name=vid, points=points)\n",
    "g.add_edges(edges)\n",
    "print(g)"
   ]
  },
  {
   "cell_type": "code",
   "execution_count": 28,
   "metadata": {},
   "outputs": [
    {
     "data": {
      "image/svg+xml": [
       "<?xml version=\"1.0\" encoding=\"UTF-8\"?>\n",
       "<svg xmlns=\"http://www.w3.org/2000/svg\" xmlns:xlink=\"http://www.w3.org/1999/xlink\" width=\"600pt\" height=\"600pt\" viewBox=\"0 0 600 600\" version=\"1.1\">\n",
       "<g id=\"surface26\">\n",
       "<rect x=\"0\" y=\"0\" width=\"600\" height=\"600\" style=\"fill:rgb(100%,100%,100%);fill-opacity:1;stroke:none;\"/>\n",
       "<path style=\"fill:none;stroke-width:1;stroke-linecap:butt;stroke-linejoin:miter;stroke:rgb(26.666667%,26.666667%,26.666667%);stroke-opacity:1;stroke-miterlimit:10;\" d=\"M 477.363281 292.121094 L 302.035156 340.011719 \"/>\n",
       "<path style=\"fill:none;stroke-width:1;stroke-linecap:butt;stroke-linejoin:miter;stroke:rgb(26.666667%,26.666667%,26.666667%);stroke-opacity:1;stroke-miterlimit:10;\" d=\"M 477.363281 292.121094 L 580 223.941406 \"/>\n",
       "<path style=\"fill:none;stroke-width:1;stroke-linecap:butt;stroke-linejoin:miter;stroke:rgb(26.666667%,26.666667%,26.666667%);stroke-opacity:1;stroke-miterlimit:10;\" d=\"M 164.121094 276.875 L 302.035156 340.011719 \"/>\n",
       "<path style=\"fill:none;stroke-width:1;stroke-linecap:butt;stroke-linejoin:miter;stroke:rgb(26.666667%,26.666667%,26.666667%);stroke-opacity:1;stroke-miterlimit:10;\" d=\"M 164.121094 276.875 L 109.265625 201.164063 \"/>\n",
       "<path style=\"fill:none;stroke-width:1;stroke-linecap:butt;stroke-linejoin:miter;stroke:rgb(26.666667%,26.666667%,26.666667%);stroke-opacity:1;stroke-miterlimit:10;\" d=\"M 302.035156 340.011719 L 125.804688 387.359375 \"/>\n",
       "<path style=\"fill:none;stroke-width:1;stroke-linecap:butt;stroke-linejoin:miter;stroke:rgb(26.666667%,26.666667%,26.666667%);stroke-opacity:1;stroke-miterlimit:10;\" d=\"M 302.035156 340.011719 L 440.902344 402.636719 \"/>\n",
       "<path style=\"fill:none;stroke-width:1;stroke-linecap:butt;stroke-linejoin:miter;stroke:rgb(26.666667%,26.666667%,26.666667%);stroke-opacity:1;stroke-miterlimit:10;\" d=\"M 125.804688 387.359375 L 20 454.382813 \"/>\n",
       "<path style=\"fill:none;stroke-width:1;stroke-linecap:butt;stroke-linejoin:miter;stroke:rgb(26.666667%,26.666667%,26.666667%);stroke-opacity:1;stroke-miterlimit:10;\" d=\"M 440.902344 402.636719 L 499.046875 477.605469 \"/>\n",
       "<path style=\"fill:none;stroke-width:1;stroke-linecap:butt;stroke-linejoin:miter;stroke:rgb(26.666667%,26.666667%,26.666667%);stroke-opacity:1;stroke-miterlimit:10;\" d=\"M 109.265625 201.164063 L 192.484375 129.160156 \"/>\n",
       "<path style=\"fill:none;stroke-width:1;stroke-linecap:butt;stroke-linejoin:miter;stroke:rgb(26.666667%,26.666667%,26.666667%);stroke-opacity:1;stroke-miterlimit:10;\" d=\"M 580 223.941406 L 547.0625 146.242188 \"/>\n",
       "<path style=\"fill:none;stroke-width:1;stroke-linecap:butt;stroke-linejoin:miter;stroke:rgb(26.666667%,26.666667%,26.666667%);stroke-opacity:1;stroke-miterlimit:10;\" d=\"M 547.0625 146.242188 L 384.347656 94.5625 \"/>\n",
       "<path style=\"fill:none;stroke-width:1;stroke-linecap:butt;stroke-linejoin:miter;stroke:rgb(26.666667%,26.666667%,26.666667%);stroke-opacity:1;stroke-miterlimit:10;\" d=\"M 192.484375 129.160156 L 384.347656 94.5625 \"/>\n",
       "<path style=\"fill:none;stroke-width:1;stroke-linecap:butt;stroke-linejoin:miter;stroke:rgb(26.666667%,26.666667%,26.666667%);stroke-opacity:1;stroke-miterlimit:10;\" d=\"M 384.347656 94.5625 L 408.804688 20 \"/>\n",
       "<path style=\"fill:none;stroke-width:1;stroke-linecap:butt;stroke-linejoin:miter;stroke:rgb(26.666667%,26.666667%,26.666667%);stroke-opacity:1;stroke-miterlimit:10;\" d=\"M 220.6875 580 L 54.179688 531.953125 \"/>\n",
       "<path style=\"fill:none;stroke-width:1;stroke-linecap:butt;stroke-linejoin:miter;stroke:rgb(26.666667%,26.666667%,26.666667%);stroke-opacity:1;stroke-miterlimit:10;\" d=\"M 220.6875 580 L 413.949219 549.496094 \"/>\n",
       "<path style=\"fill:none;stroke-width:1;stroke-linecap:butt;stroke-linejoin:miter;stroke:rgb(26.666667%,26.666667%,26.666667%);stroke-opacity:1;stroke-miterlimit:10;\" d=\"M 54.179688 531.953125 L 20 454.382813 \"/>\n",
       "<path style=\"fill:none;stroke-width:1;stroke-linecap:butt;stroke-linejoin:miter;stroke:rgb(26.666667%,26.666667%,26.666667%);stroke-opacity:1;stroke-miterlimit:10;\" d=\"M 413.949219 549.496094 L 499.046875 477.605469 \"/>\n",
       "<path style=\"fill-rule:nonzero;fill:rgb(100%,0%,0%);fill-opacity:1;stroke-width:1;stroke-linecap:butt;stroke-linejoin:miter;stroke:rgb(0%,0%,0%);stroke-opacity:1;stroke-miterlimit:10;\" d=\"M 487.363281 292.121094 C 487.363281 297.644531 482.886719 302.121094 477.363281 302.121094 C 471.84375 302.121094 467.363281 297.644531 467.363281 292.121094 C 467.363281 286.597656 471.84375 282.121094 477.363281 282.121094 C 482.886719 282.121094 487.363281 286.597656 487.363281 292.121094 \"/>\n",
       "<path style=\"fill-rule:nonzero;fill:rgb(100%,0%,0%);fill-opacity:1;stroke-width:1;stroke-linecap:butt;stroke-linejoin:miter;stroke:rgb(0%,0%,0%);stroke-opacity:1;stroke-miterlimit:10;\" d=\"M 174.121094 276.875 C 174.121094 282.398438 169.644531 286.875 164.121094 286.875 C 158.597656 286.875 154.121094 282.398438 154.121094 276.875 C 154.121094 271.355469 158.597656 266.875 164.121094 266.875 C 169.644531 266.875 174.121094 271.355469 174.121094 276.875 \"/>\n",
       "<path style=\"fill-rule:nonzero;fill:rgb(100%,0%,0%);fill-opacity:1;stroke-width:1;stroke-linecap:butt;stroke-linejoin:miter;stroke:rgb(0%,0%,0%);stroke-opacity:1;stroke-miterlimit:10;\" d=\"M 312.035156 340.011719 C 312.035156 345.535156 307.558594 350.011719 302.035156 350.011719 C 296.511719 350.011719 292.035156 345.535156 292.035156 340.011719 C 292.035156 334.488281 296.511719 330.011719 302.035156 330.011719 C 307.558594 330.011719 312.035156 334.488281 312.035156 340.011719 \"/>\n",
       "<path style=\"fill-rule:nonzero;fill:rgb(100%,0%,0%);fill-opacity:1;stroke-width:1;stroke-linecap:butt;stroke-linejoin:miter;stroke:rgb(0%,0%,0%);stroke-opacity:1;stroke-miterlimit:10;\" d=\"M 135.804688 387.359375 C 135.804688 392.882813 131.328125 397.359375 125.804688 397.359375 C 120.28125 397.359375 115.804688 392.882813 115.804688 387.359375 C 115.804688 381.835938 120.28125 377.359375 125.804688 377.359375 C 131.328125 377.359375 135.804688 381.835938 135.804688 387.359375 \"/>\n",
       "<path style=\"fill-rule:nonzero;fill:rgb(100%,0%,0%);fill-opacity:1;stroke-width:1;stroke-linecap:butt;stroke-linejoin:miter;stroke:rgb(0%,0%,0%);stroke-opacity:1;stroke-miterlimit:10;\" d=\"M 450.902344 402.636719 C 450.902344 408.160156 446.425781 412.636719 440.902344 412.636719 C 435.382813 412.636719 430.902344 408.160156 430.902344 402.636719 C 430.902344 397.113281 435.382813 392.636719 440.902344 392.636719 C 446.425781 392.636719 450.902344 397.113281 450.902344 402.636719 \"/>\n",
       "<path style=\"fill-rule:nonzero;fill:rgb(100%,0%,0%);fill-opacity:1;stroke-width:1;stroke-linecap:butt;stroke-linejoin:miter;stroke:rgb(0%,0%,0%);stroke-opacity:1;stroke-miterlimit:10;\" d=\"M 119.265625 201.164063 C 119.265625 206.6875 114.789063 211.164063 109.265625 211.164063 C 103.742188 211.164063 99.265625 206.6875 99.265625 201.164063 C 99.265625 195.640625 103.742188 191.164063 109.265625 191.164063 C 114.789063 191.164063 119.265625 195.640625 119.265625 201.164063 \"/>\n",
       "<path style=\"fill-rule:nonzero;fill:rgb(100%,0%,0%);fill-opacity:1;stroke-width:1;stroke-linecap:butt;stroke-linejoin:miter;stroke:rgb(0%,0%,0%);stroke-opacity:1;stroke-miterlimit:10;\" d=\"M 590 223.941406 C 590 229.464844 585.523438 233.941406 580 233.941406 C 574.476563 233.941406 570 229.464844 570 223.941406 C 570 218.417969 574.476563 213.941406 580 213.941406 C 585.523438 213.941406 590 218.417969 590 223.941406 \"/>\n",
       "<path style=\"fill-rule:nonzero;fill:rgb(100%,0%,0%);fill-opacity:1;stroke-width:1;stroke-linecap:butt;stroke-linejoin:miter;stroke:rgb(0%,0%,0%);stroke-opacity:1;stroke-miterlimit:10;\" d=\"M 557.0625 146.242188 C 557.0625 151.765625 552.585938 156.242188 547.0625 156.242188 C 541.539063 156.242188 537.0625 151.765625 537.0625 146.242188 C 537.0625 140.71875 541.539063 136.242188 547.0625 136.242188 C 552.585938 136.242188 557.0625 140.71875 557.0625 146.242188 \"/>\n",
       "<path style=\"fill-rule:nonzero;fill:rgb(100%,0%,0%);fill-opacity:1;stroke-width:1;stroke-linecap:butt;stroke-linejoin:miter;stroke:rgb(0%,0%,0%);stroke-opacity:1;stroke-miterlimit:10;\" d=\"M 202.484375 129.160156 C 202.484375 134.683594 198.007813 139.160156 192.484375 139.160156 C 186.960938 139.160156 182.484375 134.683594 182.484375 129.160156 C 182.484375 123.636719 186.960938 119.160156 192.484375 119.160156 C 198.007813 119.160156 202.484375 123.636719 202.484375 129.160156 \"/>\n",
       "<path style=\"fill-rule:nonzero;fill:rgb(100%,0%,0%);fill-opacity:1;stroke-width:1;stroke-linecap:butt;stroke-linejoin:miter;stroke:rgb(0%,0%,0%);stroke-opacity:1;stroke-miterlimit:10;\" d=\"M 394.347656 94.5625 C 394.347656 100.085938 389.871094 104.5625 384.347656 104.5625 C 378.828125 104.5625 374.347656 100.085938 374.347656 94.5625 C 374.347656 89.039063 378.828125 84.5625 384.347656 84.5625 C 389.871094 84.5625 394.347656 89.039063 394.347656 94.5625 \"/>\n",
       "<path style=\"fill-rule:nonzero;fill:rgb(100%,0%,0%);fill-opacity:1;stroke-width:1;stroke-linecap:butt;stroke-linejoin:miter;stroke:rgb(0%,0%,0%);stroke-opacity:1;stroke-miterlimit:10;\" d=\"M 418.804688 20 C 418.804688 25.523438 414.324219 30 408.804688 30 C 403.28125 30 398.804688 25.523438 398.804688 20 C 398.804688 14.476563 403.28125 10 408.804688 10 C 414.324219 10 418.804688 14.476563 418.804688 20 \"/>\n",
       "<path style=\"fill-rule:nonzero;fill:rgb(100%,0%,0%);fill-opacity:1;stroke-width:1;stroke-linecap:butt;stroke-linejoin:miter;stroke:rgb(0%,0%,0%);stroke-opacity:1;stroke-miterlimit:10;\" d=\"M 230.6875 580 C 230.6875 585.523438 226.210938 590 220.6875 590 C 215.164063 590 210.6875 585.523438 210.6875 580 C 210.6875 574.476563 215.164063 570 220.6875 570 C 226.210938 570 230.6875 574.476563 230.6875 580 \"/>\n",
       "<path style=\"fill-rule:nonzero;fill:rgb(100%,0%,0%);fill-opacity:1;stroke-width:1;stroke-linecap:butt;stroke-linejoin:miter;stroke:rgb(0%,0%,0%);stroke-opacity:1;stroke-miterlimit:10;\" d=\"M 64.179688 531.953125 C 64.179688 537.476563 59.703125 541.953125 54.179688 541.953125 C 48.65625 541.953125 44.179688 537.476563 44.179688 531.953125 C 44.179688 526.429688 48.65625 521.953125 54.179688 521.953125 C 59.703125 521.953125 64.179688 526.429688 64.179688 531.953125 \"/>\n",
       "<path style=\"fill-rule:nonzero;fill:rgb(100%,0%,0%);fill-opacity:1;stroke-width:1;stroke-linecap:butt;stroke-linejoin:miter;stroke:rgb(0%,0%,0%);stroke-opacity:1;stroke-miterlimit:10;\" d=\"M 423.949219 549.496094 C 423.949219 555.015625 419.46875 559.496094 413.949219 559.496094 C 408.425781 559.496094 403.949219 555.015625 403.949219 549.496094 C 403.949219 543.972656 408.425781 539.496094 413.949219 539.496094 C 419.46875 539.496094 423.949219 543.972656 423.949219 549.496094 \"/>\n",
       "<path style=\"fill-rule:nonzero;fill:rgb(100%,0%,0%);fill-opacity:1;stroke-width:1;stroke-linecap:butt;stroke-linejoin:miter;stroke:rgb(0%,0%,0%);stroke-opacity:1;stroke-miterlimit:10;\" d=\"M 30 454.382813 C 30 459.902344 25.523438 464.382813 20 464.382813 C 14.476563 464.382813 10 459.902344 10 454.382813 C 10 448.859375 14.476563 444.382813 20 444.382813 C 25.523438 444.382813 30 448.859375 30 454.382813 \"/>\n",
       "<path style=\"fill-rule:nonzero;fill:rgb(100%,0%,0%);fill-opacity:1;stroke-width:1;stroke-linecap:butt;stroke-linejoin:miter;stroke:rgb(0%,0%,0%);stroke-opacity:1;stroke-miterlimit:10;\" d=\"M 509.046875 477.605469 C 509.046875 483.128906 504.570313 487.605469 499.046875 487.605469 C 493.523438 487.605469 489.046875 483.128906 489.046875 477.605469 C 489.046875 472.082031 493.523438 467.605469 499.046875 467.605469 C 504.570313 467.605469 509.046875 472.082031 509.046875 477.605469 \"/>\n",
       "</g>\n",
       "</svg>\n"
      ],
      "text/plain": [
       "<igraph.drawing.Plot at 0x16218540cf8>"
      ]
     },
     "execution_count": 28,
     "metadata": {},
     "output_type": "execute_result"
    }
   ],
   "source": [
    "# Visualize the graph\n",
    "layout = g.layout_kamada_kawai()\n",
    "igraph.plot(g, layout=layout)"
   ]
  },
  {
   "cell_type": "code",
   "execution_count": null,
   "metadata": {},
   "outputs": [],
   "source": []
  }
 ],
 "metadata": {
  "kernelspec": {
   "display_name": "Python 3",
   "language": "python",
   "name": "python3"
  },
  "language_info": {
   "codemirror_mode": {
    "name": "ipython",
    "version": 3
   },
   "file_extension": ".py",
   "mimetype": "text/x-python",
   "name": "python",
   "nbconvert_exporter": "python",
   "pygments_lexer": "ipython3",
   "version": "3.7.1"
  }
 },
 "nbformat": 4,
 "nbformat_minor": 2
}
