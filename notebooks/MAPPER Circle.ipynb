{
 "cells": [
  {
   "cell_type": "code",
   "execution_count": 1,
   "metadata": {},
   "outputs": [],
   "source": [
    "%matplotlib inline\n",
    "import sys\n",
    "sys.path.append(\"..\")\n",
    "import numpy as np\n",
    "from matplotlib import pyplot as plt\n",
    "import igraph\n",
    "\n",
    "import pythd"
   ]
  },
  {
   "cell_type": "code",
   "execution_count": 2,
   "metadata": {},
   "outputs": [],
   "source": [
    "# Function to create a dataset of a circle at a given point\n",
    "def create_circle(c=np.array([0.0, 0.0]), r=1.0, noise=0.0, n=20):\n",
    "    delta = 2.0*np.pi / n\n",
    "    theta = np.linspace(0.0, 2.0*np.pi, num=n, endpoint=False)\n",
    "    c = np.array(c)\n",
    "    \n",
    "    x = c[0] + r*np.cos(theta) + np.random.normal(scale=noise, size=theta.shape)\n",
    "    y = c[1] + r*np.sin(theta) + np.random.normal(scale=noise, size=theta.shape)\n",
    "    return np.array([x, y]).T"
   ]
  },
  {
   "cell_type": "code",
   "execution_count": 8,
   "metadata": {},
   "outputs": [
    {
     "data": {
      "image/png": "[encoded data removed]",
      "text/plain": [
       "<Figure size 432x288 with 1 Axes>"
      ]
     },
     "metadata": {
      "needs_background": "light"
     },
     "output_type": "display_data"
    }
   ],
   "source": [
    "# Create and show two circles with some noise\n",
    "circ1 = create_circle(c=[-2.0, 0.0], r=2.0, noise=0.05, n=100)\n",
    "circ2 = create_circle(c=[2.0, 0.0], r=2.0, noise=0.05, n=100)\n",
    "dataset = np.concatenate((circ1, circ2))\n",
    "plt.plot(dataset[:, 0], dataset[:, 1], \".\")\n",
    "plt.show()"
   ]
  },
  {
   "cell_type": "code",
   "execution_count": 17,
   "metadata": {},
   "outputs": [],
   "source": [
    "# Setup MAPPER\n",
    "filt = pythd.filter.ComponentFilter(0) # filter: x component\n",
    "xmin = dataset[:, 0].min()\n",
    "xmax = dataset[:, 0].max()\n",
    "cover = pythd.cover.IntervalCover1D.EvenlySpaced(15, xmin, xmax, 0.5)\n",
    "clustering = pythd.clustering.HierarchicalClustering()"
   ]
  },
  {
   "cell_type": "code",
   "execution_count": 18,
   "metadata": {},
   "outputs": [],
   "source": [
    "# Run MAPPER and get 1 skeleton\n",
    "mapper = pythd.mapper.MAPPER(filter=filt, cover=cover, clustering=clustering)\n",
    "res = mapper.run(dataset)\n",
    "nodes, edges = res.compute_1_skeleton()"
   ]
  },
  {
   "cell_type": "code",
   "execution_count": 19,
   "metadata": {},
   "outputs": [
    {
     "name": "stdout",
     "output_type": "stream",
     "text": [
      "IGRAPH UN-- 25 26 --\n",
      "+ attr: name (v), points (v)\n",
      "+ edges (vertex names):\n",
      "0--1, 0--2, 0--3, 1--23, 1--24, 2--4, 3--5, 4--6, 5--7, 6--8, 7--9, 8--10,\n",
      "9--11, 10--12, 11--12, 12--13, 14--15, 14--16, 15--18, 16--17, 17--20, 18--19,\n",
      "19--22, 20--21, 21--23, 22--24\n"
     ]
    }
   ],
   "source": [
    "# Create igraph graph\n",
    "g = igraph.Graph()\n",
    "for vid, points in nodes.items():\n",
    "    g.add_vertex(name=vid, points=points)\n",
    "g.add_edges(edges)\n",
    "print(g)"
   ]
  },
  {
   "cell_type": "code",
   "execution_count": 20,
   "metadata": {},
   "outputs": [
    {
     "data": {
      "image/svg+xml": [
       "<?xml version=\"1.0\" encoding=\"UTF-8\"?>\n",
       "<svg xmlns=\"http://www.w3.org/2000/svg\" xmlns:xlink=\"http://www.w3.org/1999/xlink\" width=\"600pt\" height=\"600pt\" viewBox=\"0 0 600 600\" version=\"1.1\">\n",
       "<g id=\"surface20\">\n",
       "<rect x=\"0\" y=\"0\" width=\"600\" height=\"600\" style=\"fill:rgb(100%,100%,100%);fill-opacity:1;stroke:none;\"/>\n",
       "<path style=\"fill:none;stroke-width:1;stroke-linecap:butt;stroke-linejoin:miter;stroke:rgb(26.666667%,26.666667%,26.666667%);stroke-opacity:1;stroke-miterlimit:10;\" d=\"M 286.507813 300.382813 L 312.148438 354.234375 \"/>\n",
       "<path style=\"fill:none;stroke-width:1;stroke-linecap:butt;stroke-linejoin:miter;stroke:rgb(26.666667%,26.666667%,26.666667%);stroke-opacity:1;stroke-miterlimit:10;\" d=\"M 286.507813 300.382813 L 374.839844 261.152344 \"/>\n",
       "<path style=\"fill:none;stroke-width:1;stroke-linecap:butt;stroke-linejoin:miter;stroke:rgb(26.666667%,26.666667%,26.666667%);stroke-opacity:1;stroke-miterlimit:10;\" d=\"M 286.507813 300.382813 L 169.207031 278.601563 \"/>\n",
       "<path style=\"fill:none;stroke-width:1;stroke-linecap:butt;stroke-linejoin:miter;stroke:rgb(26.666667%,26.666667%,26.666667%);stroke-opacity:1;stroke-miterlimit:10;\" d=\"M 312.148438 354.234375 L 223.542969 393.316406 \"/>\n",
       "<path style=\"fill:none;stroke-width:1;stroke-linecap:butt;stroke-linejoin:miter;stroke:rgb(26.666667%,26.666667%,26.666667%);stroke-opacity:1;stroke-miterlimit:10;\" d=\"M 312.148438 354.234375 L 429.414063 375.867188 \"/>\n",
       "<path style=\"fill:none;stroke-width:1;stroke-linecap:butt;stroke-linejoin:miter;stroke:rgb(26.666667%,26.666667%,26.666667%);stroke-opacity:1;stroke-miterlimit:10;\" d=\"M 374.839844 261.152344 L 432.492188 215.203125 \"/>\n",
       "<path style=\"fill:none;stroke-width:1;stroke-linecap:butt;stroke-linejoin:miter;stroke:rgb(26.666667%,26.666667%,26.666667%);stroke-opacity:1;stroke-miterlimit:10;\" d=\"M 169.207031 278.601563 L 73.726563 245.835938 \"/>\n",
       "<path style=\"fill:none;stroke-width:1;stroke-linecap:butt;stroke-linejoin:miter;stroke:rgb(26.666667%,26.666667%,26.666667%);stroke-opacity:1;stroke-miterlimit:10;\" d=\"M 432.492188 215.203125 L 438.859375 163.789063 \"/>\n",
       "<path style=\"fill:none;stroke-width:1;stroke-linecap:butt;stroke-linejoin:miter;stroke:rgb(26.666667%,26.666667%,26.666667%);stroke-opacity:1;stroke-miterlimit:10;\" d=\"M 73.726563 245.835938 L 20.367188 199.574219 \"/>\n",
       "<path style=\"fill:none;stroke-width:1;stroke-linecap:butt;stroke-linejoin:miter;stroke:rgb(26.666667%,26.666667%,26.666667%);stroke-opacity:1;stroke-miterlimit:10;\" d=\"M 438.859375 163.789063 L 391.695313 116.042969 \"/>\n",
       "<path style=\"fill:none;stroke-width:1;stroke-linecap:butt;stroke-linejoin:miter;stroke:rgb(26.666667%,26.666667%,26.666667%);stroke-opacity:1;stroke-miterlimit:10;\" d=\"M 20.367188 199.574219 L 20 147.785156 \"/>\n",
       "<path style=\"fill:none;stroke-width:1;stroke-linecap:butt;stroke-linejoin:miter;stroke:rgb(26.666667%,26.666667%,26.666667%);stroke-opacity:1;stroke-miterlimit:10;\" d=\"M 391.695313 116.042969 L 298.398438 82.242188 \"/>\n",
       "<path style=\"fill:none;stroke-width:1;stroke-linecap:butt;stroke-linejoin:miter;stroke:rgb(26.666667%,26.666667%,26.666667%);stroke-opacity:1;stroke-miterlimit:10;\" d=\"M 20 147.785156 L 74.726563 101.304688 \"/>\n",
       "<path style=\"fill:none;stroke-width:1;stroke-linecap:butt;stroke-linejoin:miter;stroke:rgb(26.666667%,26.666667%,26.666667%);stroke-opacity:1;stroke-miterlimit:10;\" d=\"M 298.398438 82.242188 L 175.738281 69.296875 \"/>\n",
       "<path style=\"fill:none;stroke-width:1;stroke-linecap:butt;stroke-linejoin:miter;stroke:rgb(26.666667%,26.666667%,26.666667%);stroke-opacity:1;stroke-miterlimit:10;\" d=\"M 74.726563 101.304688 L 175.738281 69.296875 \"/>\n",
       "<path style=\"fill:none;stroke-width:1;stroke-linecap:butt;stroke-linejoin:miter;stroke:rgb(26.666667%,26.666667%,26.666667%);stroke-opacity:1;stroke-miterlimit:10;\" d=\"M 175.738281 69.296875 L 152.261719 20 \"/>\n",
       "<path style=\"fill:none;stroke-width:1;stroke-linecap:butt;stroke-linejoin:miter;stroke:rgb(26.666667%,26.666667%,26.666667%);stroke-opacity:1;stroke-miterlimit:10;\" d=\"M 418.507813 580 L 523.121094 551.988281 \"/>\n",
       "<path style=\"fill:none;stroke-width:1;stroke-linecap:butt;stroke-linejoin:miter;stroke:rgb(26.666667%,26.666667%,26.666667%);stroke-opacity:1;stroke-miterlimit:10;\" d=\"M 418.507813 580 L 296.511719 571.132813 \"/>\n",
       "<path style=\"fill:none;stroke-width:1;stroke-linecap:butt;stroke-linejoin:miter;stroke:rgb(26.666667%,26.666667%,26.666667%);stroke-opacity:1;stroke-miterlimit:10;\" d=\"M 523.121094 551.988281 L 579.589844 505.621094 \"/>\n",
       "<path style=\"fill:none;stroke-width:1;stroke-linecap:butt;stroke-linejoin:miter;stroke:rgb(26.666667%,26.666667%,26.666667%);stroke-opacity:1;stroke-miterlimit:10;\" d=\"M 296.511719 571.132813 L 202.554688 537.410156 \"/>\n",
       "<path style=\"fill:none;stroke-width:1;stroke-linecap:butt;stroke-linejoin:miter;stroke:rgb(26.666667%,26.666667%,26.666667%);stroke-opacity:1;stroke-miterlimit:10;\" d=\"M 202.554688 537.410156 L 155.195313 489.722656 \"/>\n",
       "<path style=\"fill:none;stroke-width:1;stroke-linecap:butt;stroke-linejoin:miter;stroke:rgb(26.666667%,26.666667%,26.666667%);stroke-opacity:1;stroke-miterlimit:10;\" d=\"M 579.589844 505.621094 L 580 453.878906 \"/>\n",
       "<path style=\"fill:none;stroke-width:1;stroke-linecap:butt;stroke-linejoin:miter;stroke:rgb(26.666667%,26.666667%,26.666667%);stroke-opacity:1;stroke-miterlimit:10;\" d=\"M 580 453.878906 L 525.675781 408.023438 \"/>\n",
       "<path style=\"fill:none;stroke-width:1;stroke-linecap:butt;stroke-linejoin:miter;stroke:rgb(26.666667%,26.666667%,26.666667%);stroke-opacity:1;stroke-miterlimit:10;\" d=\"M 155.195313 489.722656 L 163.5 438.585938 \"/>\n",
       "<path style=\"fill:none;stroke-width:1;stroke-linecap:butt;stroke-linejoin:miter;stroke:rgb(26.666667%,26.666667%,26.666667%);stroke-opacity:1;stroke-miterlimit:10;\" d=\"M 163.5 438.585938 L 223.542969 393.316406 \"/>\n",
       "<path style=\"fill:none;stroke-width:1;stroke-linecap:butt;stroke-linejoin:miter;stroke:rgb(26.666667%,26.666667%,26.666667%);stroke-opacity:1;stroke-miterlimit:10;\" d=\"M 525.675781 408.023438 L 429.414063 375.867188 \"/>\n",
       "<path style=\"fill-rule:nonzero;fill:rgb(100%,0%,0%);fill-opacity:1;stroke-width:1;stroke-linecap:butt;stroke-linejoin:miter;stroke:rgb(0%,0%,0%);stroke-opacity:1;stroke-miterlimit:10;\" d=\"M 296.507813 300.382813 C 296.507813 305.90625 292.03125 310.382813 286.507813 310.382813 C 280.984375 310.382813 276.507813 305.90625 276.507813 300.382813 C 276.507813 294.859375 280.984375 290.382813 286.507813 290.382813 C 292.03125 290.382813 296.507813 294.859375 296.507813 300.382813 \"/>\n",
       "<path style=\"fill-rule:nonzero;fill:rgb(100%,0%,0%);fill-opacity:1;stroke-width:1;stroke-linecap:butt;stroke-linejoin:miter;stroke:rgb(0%,0%,0%);stroke-opacity:1;stroke-miterlimit:10;\" d=\"M 322.148438 354.234375 C 322.148438 359.757813 317.671875 364.234375 312.148438 364.234375 C 306.625 364.234375 302.148438 359.757813 302.148438 354.234375 C 302.148438 348.710938 306.625 344.234375 312.148438 344.234375 C 317.671875 344.234375 322.148438 348.710938 322.148438 354.234375 \"/>\n",
       "<path style=\"fill-rule:nonzero;fill:rgb(100%,0%,0%);fill-opacity:1;stroke-width:1;stroke-linecap:butt;stroke-linejoin:miter;stroke:rgb(0%,0%,0%);stroke-opacity:1;stroke-miterlimit:10;\" d=\"M 384.839844 261.152344 C 384.839844 266.675781 380.363281 271.152344 374.839844 271.152344 C 369.316406 271.152344 364.839844 266.675781 364.839844 261.152344 C 364.839844 255.628906 369.316406 251.152344 374.839844 251.152344 C 380.363281 251.152344 384.839844 255.628906 384.839844 261.152344 \"/>\n",
       "<path style=\"fill-rule:nonzero;fill:rgb(100%,0%,0%);fill-opacity:1;stroke-width:1;stroke-linecap:butt;stroke-linejoin:miter;stroke:rgb(0%,0%,0%);stroke-opacity:1;stroke-miterlimit:10;\" d=\"M 179.207031 278.601563 C 179.207031 284.121094 174.730469 288.601563 169.207031 288.601563 C 163.683594 288.601563 159.207031 284.121094 159.207031 278.601563 C 159.207031 273.078125 163.683594 268.601563 169.207031 268.601563 C 174.730469 268.601563 179.207031 273.078125 179.207031 278.601563 \"/>\n",
       "<path style=\"fill-rule:nonzero;fill:rgb(100%,0%,0%);fill-opacity:1;stroke-width:1;stroke-linecap:butt;stroke-linejoin:miter;stroke:rgb(0%,0%,0%);stroke-opacity:1;stroke-miterlimit:10;\" d=\"M 442.492188 215.203125 C 442.492188 220.726563 438.011719 225.203125 432.492188 225.203125 C 426.96875 225.203125 422.492188 220.726563 422.492188 215.203125 C 422.492188 209.679688 426.96875 205.203125 432.492188 205.203125 C 438.011719 205.203125 442.492188 209.679688 442.492188 215.203125 \"/>\n",
       "<path style=\"fill-rule:nonzero;fill:rgb(100%,0%,0%);fill-opacity:1;stroke-width:1;stroke-linecap:butt;stroke-linejoin:miter;stroke:rgb(0%,0%,0%);stroke-opacity:1;stroke-miterlimit:10;\" d=\"M 83.726563 245.835938 C 83.726563 251.359375 79.25 255.835938 73.726563 255.835938 C 68.203125 255.835938 63.726563 251.359375 63.726563 245.835938 C 63.726563 240.3125 68.203125 235.835938 73.726563 235.835938 C 79.25 235.835938 83.726563 240.3125 83.726563 245.835938 \"/>\n",
       "<path style=\"fill-rule:nonzero;fill:rgb(100%,0%,0%);fill-opacity:1;stroke-width:1;stroke-linecap:butt;stroke-linejoin:miter;stroke:rgb(0%,0%,0%);stroke-opacity:1;stroke-miterlimit:10;\" d=\"M 448.859375 163.789063 C 448.859375 169.3125 444.382813 173.789063 438.859375 173.789063 C 433.339844 173.789063 428.859375 169.3125 428.859375 163.789063 C 428.859375 158.265625 433.339844 153.789063 438.859375 153.789063 C 444.382813 153.789063 448.859375 158.265625 448.859375 163.789063 \"/>\n",
       "<path style=\"fill-rule:nonzero;fill:rgb(100%,0%,0%);fill-opacity:1;stroke-width:1;stroke-linecap:butt;stroke-linejoin:miter;stroke:rgb(0%,0%,0%);stroke-opacity:1;stroke-miterlimit:10;\" d=\"M 30.367188 199.574219 C 30.367188 205.097656 25.890625 209.574219 20.367188 209.574219 C 14.84375 209.574219 10.367188 205.097656 10.367188 199.574219 C 10.367188 194.050781 14.84375 189.574219 20.367188 189.574219 C 25.890625 189.574219 30.367188 194.050781 30.367188 199.574219 \"/>\n",
       "<path style=\"fill-rule:nonzero;fill:rgb(100%,0%,0%);fill-opacity:1;stroke-width:1;stroke-linecap:butt;stroke-linejoin:miter;stroke:rgb(0%,0%,0%);stroke-opacity:1;stroke-miterlimit:10;\" d=\"M 401.695313 116.042969 C 401.695313 121.566406 397.21875 126.042969 391.695313 126.042969 C 386.175781 126.042969 381.695313 121.566406 381.695313 116.042969 C 381.695313 110.519531 386.175781 106.042969 391.695313 106.042969 C 397.21875 106.042969 401.695313 110.519531 401.695313 116.042969 \"/>\n",
       "<path style=\"fill-rule:nonzero;fill:rgb(100%,0%,0%);fill-opacity:1;stroke-width:1;stroke-linecap:butt;stroke-linejoin:miter;stroke:rgb(0%,0%,0%);stroke-opacity:1;stroke-miterlimit:10;\" d=\"M 30 147.785156 C 30 153.308594 25.523438 157.785156 20 157.785156 C 14.476563 157.785156 10 153.308594 10 147.785156 C 10 142.261719 14.476563 137.785156 20 137.785156 C 25.523438 137.785156 30 142.261719 30 147.785156 \"/>\n",
       "<path style=\"fill-rule:nonzero;fill:rgb(100%,0%,0%);fill-opacity:1;stroke-width:1;stroke-linecap:butt;stroke-linejoin:miter;stroke:rgb(0%,0%,0%);stroke-opacity:1;stroke-miterlimit:10;\" d=\"M 308.398438 82.242188 C 308.398438 87.765625 303.921875 92.242188 298.398438 92.242188 C 292.875 92.242188 288.398438 87.765625 288.398438 82.242188 C 288.398438 76.71875 292.875 72.242188 298.398438 72.242188 C 303.921875 72.242188 308.398438 76.71875 308.398438 82.242188 \"/>\n",
       "<path style=\"fill-rule:nonzero;fill:rgb(100%,0%,0%);fill-opacity:1;stroke-width:1;stroke-linecap:butt;stroke-linejoin:miter;stroke:rgb(0%,0%,0%);stroke-opacity:1;stroke-miterlimit:10;\" d=\"M 84.726563 101.304688 C 84.726563 106.828125 80.25 111.304688 74.726563 111.304688 C 69.203125 111.304688 64.726563 106.828125 64.726563 101.304688 C 64.726563 95.78125 69.203125 91.304688 74.726563 91.304688 C 80.25 91.304688 84.726563 95.78125 84.726563 101.304688 \"/>\n",
       "<path style=\"fill-rule:nonzero;fill:rgb(100%,0%,0%);fill-opacity:1;stroke-width:1;stroke-linecap:butt;stroke-linejoin:miter;stroke:rgb(0%,0%,0%);stroke-opacity:1;stroke-miterlimit:10;\" d=\"M 185.738281 69.296875 C 185.738281 74.820313 181.261719 79.296875 175.738281 79.296875 C 170.214844 79.296875 165.738281 74.820313 165.738281 69.296875 C 165.738281 63.773438 170.214844 59.296875 175.738281 59.296875 C 181.261719 59.296875 185.738281 63.773438 185.738281 69.296875 \"/>\n",
       "<path style=\"fill-rule:nonzero;fill:rgb(100%,0%,0%);fill-opacity:1;stroke-width:1;stroke-linecap:butt;stroke-linejoin:miter;stroke:rgb(0%,0%,0%);stroke-opacity:1;stroke-miterlimit:10;\" d=\"M 162.261719 20 C 162.261719 25.523438 157.785156 30 152.261719 30 C 146.738281 30 142.261719 25.523438 142.261719 20 C 142.261719 14.476563 146.738281 10 152.261719 10 C 157.785156 10 162.261719 14.476563 162.261719 20 \"/>\n",
       "<path style=\"fill-rule:nonzero;fill:rgb(100%,0%,0%);fill-opacity:1;stroke-width:1;stroke-linecap:butt;stroke-linejoin:miter;stroke:rgb(0%,0%,0%);stroke-opacity:1;stroke-miterlimit:10;\" d=\"M 428.507813 580 C 428.507813 585.523438 424.03125 590 418.507813 590 C 412.984375 590 408.507813 585.523438 408.507813 580 C 408.507813 574.476563 412.984375 570 418.507813 570 C 424.03125 570 428.507813 574.476563 428.507813 580 \"/>\n",
       "<path style=\"fill-rule:nonzero;fill:rgb(100%,0%,0%);fill-opacity:1;stroke-width:1;stroke-linecap:butt;stroke-linejoin:miter;stroke:rgb(0%,0%,0%);stroke-opacity:1;stroke-miterlimit:10;\" d=\"M 533.121094 551.988281 C 533.121094 557.507813 528.644531 561.988281 523.121094 561.988281 C 517.597656 561.988281 513.121094 557.507813 513.121094 551.988281 C 513.121094 546.464844 517.597656 541.988281 523.121094 541.988281 C 528.644531 541.988281 533.121094 546.464844 533.121094 551.988281 \"/>\n",
       "<path style=\"fill-rule:nonzero;fill:rgb(100%,0%,0%);fill-opacity:1;stroke-width:1;stroke-linecap:butt;stroke-linejoin:miter;stroke:rgb(0%,0%,0%);stroke-opacity:1;stroke-miterlimit:10;\" d=\"M 306.511719 571.132813 C 306.511719 576.65625 302.035156 581.132813 296.511719 581.132813 C 290.988281 581.132813 286.511719 576.65625 286.511719 571.132813 C 286.511719 565.609375 290.988281 561.132813 296.511719 561.132813 C 302.035156 561.132813 306.511719 565.609375 306.511719 571.132813 \"/>\n",
       "<path style=\"fill-rule:nonzero;fill:rgb(100%,0%,0%);fill-opacity:1;stroke-width:1;stroke-linecap:butt;stroke-linejoin:miter;stroke:rgb(0%,0%,0%);stroke-opacity:1;stroke-miterlimit:10;\" d=\"M 212.554688 537.410156 C 212.554688 542.933594 208.078125 547.410156 202.554688 547.410156 C 197.03125 547.410156 192.554688 542.933594 192.554688 537.410156 C 192.554688 531.886719 197.03125 527.410156 202.554688 527.410156 C 208.078125 527.410156 212.554688 531.886719 212.554688 537.410156 \"/>\n",
       "<path style=\"fill-rule:nonzero;fill:rgb(100%,0%,0%);fill-opacity:1;stroke-width:1;stroke-linecap:butt;stroke-linejoin:miter;stroke:rgb(0%,0%,0%);stroke-opacity:1;stroke-miterlimit:10;\" d=\"M 589.589844 505.621094 C 589.589844 511.144531 585.113281 515.621094 579.589844 515.621094 C 574.066406 515.621094 569.589844 511.144531 569.589844 505.621094 C 569.589844 500.097656 574.066406 495.621094 579.589844 495.621094 C 585.113281 495.621094 589.589844 500.097656 589.589844 505.621094 \"/>\n",
       "<path style=\"fill-rule:nonzero;fill:rgb(100%,0%,0%);fill-opacity:1;stroke-width:1;stroke-linecap:butt;stroke-linejoin:miter;stroke:rgb(0%,0%,0%);stroke-opacity:1;stroke-miterlimit:10;\" d=\"M 590 453.878906 C 590 459.402344 585.523438 463.878906 580 463.878906 C 574.476563 463.878906 570 459.402344 570 453.878906 C 570 448.355469 574.476563 443.878906 580 443.878906 C 585.523438 443.878906 590 448.355469 590 453.878906 \"/>\n",
       "<path style=\"fill-rule:nonzero;fill:rgb(100%,0%,0%);fill-opacity:1;stroke-width:1;stroke-linecap:butt;stroke-linejoin:miter;stroke:rgb(0%,0%,0%);stroke-opacity:1;stroke-miterlimit:10;\" d=\"M 165.195313 489.722656 C 165.195313 495.246094 160.71875 499.722656 155.195313 499.722656 C 149.675781 499.722656 145.195313 495.246094 145.195313 489.722656 C 145.195313 484.199219 149.675781 479.722656 155.195313 479.722656 C 160.71875 479.722656 165.195313 484.199219 165.195313 489.722656 \"/>\n",
       "<path style=\"fill-rule:nonzero;fill:rgb(100%,0%,0%);fill-opacity:1;stroke-width:1;stroke-linecap:butt;stroke-linejoin:miter;stroke:rgb(0%,0%,0%);stroke-opacity:1;stroke-miterlimit:10;\" d=\"M 173.5 438.585938 C 173.5 444.109375 169.023438 448.585938 163.5 448.585938 C 157.976563 448.585938 153.5 444.109375 153.5 438.585938 C 153.5 433.066406 157.976563 428.585938 163.5 428.585938 C 169.023438 428.585938 173.5 433.066406 173.5 438.585938 \"/>\n",
       "<path style=\"fill-rule:nonzero;fill:rgb(100%,0%,0%);fill-opacity:1;stroke-width:1;stroke-linecap:butt;stroke-linejoin:miter;stroke:rgb(0%,0%,0%);stroke-opacity:1;stroke-miterlimit:10;\" d=\"M 535.675781 408.023438 C 535.675781 413.546875 531.195313 418.023438 525.675781 418.023438 C 520.152344 418.023438 515.675781 413.546875 515.675781 408.023438 C 515.675781 402.503906 520.152344 398.023438 525.675781 398.023438 C 531.195313 398.023438 535.675781 402.503906 535.675781 408.023438 \"/>\n",
       "<path style=\"fill-rule:nonzero;fill:rgb(100%,0%,0%);fill-opacity:1;stroke-width:1;stroke-linecap:butt;stroke-linejoin:miter;stroke:rgb(0%,0%,0%);stroke-opacity:1;stroke-miterlimit:10;\" d=\"M 233.542969 393.316406 C 233.542969 398.835938 229.066406 403.316406 223.542969 403.316406 C 218.019531 403.316406 213.542969 398.835938 213.542969 393.316406 C 213.542969 387.792969 218.019531 383.316406 223.542969 383.316406 C 229.066406 383.316406 233.542969 387.792969 233.542969 393.316406 \"/>\n",
       "<path style=\"fill-rule:nonzero;fill:rgb(100%,0%,0%);fill-opacity:1;stroke-width:1;stroke-linecap:butt;stroke-linejoin:miter;stroke:rgb(0%,0%,0%);stroke-opacity:1;stroke-miterlimit:10;\" d=\"M 439.414063 375.867188 C 439.414063 381.390625 434.9375 385.867188 429.414063 385.867188 C 423.894531 385.867188 419.414063 381.390625 419.414063 375.867188 C 419.414063 370.34375 423.894531 365.867188 429.414063 365.867188 C 434.9375 365.867188 439.414063 370.34375 439.414063 375.867188 \"/>\n",
       "</g>\n",
       "</svg>\n"
      ],
      "text/plain": [
       "<igraph.drawing.Plot at 0x1c90f1a90b8>"
      ]
     },
     "execution_count": 20,
     "metadata": {},
     "output_type": "execute_result"
    }
   ],
   "source": [
    "# Visualize the graph\n",
    "layout = g.layout_kamada_kawai()\n",
    "igraph.plot(g, layout=layout)"
   ]
  },
  {
   "cell_type": "code",
   "execution_count": null,
   "metadata": {},
   "outputs": [],
   "source": []
  }
 ],
 "metadata": {
  "kernelspec": {
   "display_name": "Python 3",
   "language": "python",
   "name": "python3"
  },
  "language_info": {
   "codemirror_mode": {
    "name": "ipython",
    "version": 3
   },
   "file_extension": ".py",
   "mimetype": "text/x-python",
   "name": "python",
   "nbconvert_exporter": "python",
   "pygments_lexer": "ipython3",
   "version": "3.7.1"
  }
 },
 "nbformat": 4,
 "nbformat_minor": 2
}
