{
 "cells": [
  {
   "cell_type": "code",
   "execution_count": 1,
   "metadata": {},
   "outputs": [],
   "source": [
    "%matplotlib inline\n",
    "import sys\n",
    "sys.path.append(\"..\")\n",
    "import numpy as np\n",
    "from matplotlib import pyplot as plt\n",
    "import igraph\n",
    "\n",
    "import pythd"
   ]
  },
  {
   "cell_type": "code",
   "execution_count": 2,
   "metadata": {},
   "outputs": [],
   "source": [
    "# Function to create a dataset of a circle at a given point\n",
    "def create_circle(c=np.array([0.0, 0.0]), r=1.0, noise=0.0, n=20):\n",
    "    delta = 2.0*np.pi / n\n",
    "    theta = np.linspace(0.0, 2.0*np.pi, num=n, endpoint=False)\n",
    "    c = np.array(c)\n",
    "    \n",
    "    x = c[0] + r*np.cos(theta) + np.random.normal(scale=noise, size=theta.shape)\n",
    "    y = c[1] + r*np.sin(theta) + np.random.normal(scale=noise, size=theta.shape)\n",
    "    return np.array([x, y]).T"
   ]
  },
  {
   "cell_type": "code",
   "execution_count": 3,
   "metadata": {},
   "outputs": [
    {
     "data": {
      "image/png": "[encoded data removed]",
      "text/plain": [
       "<Figure size 432x288 with 1 Axes>"
      ]
     },
     "metadata": {
      "needs_background": "light"
     },
     "output_type": "display_data"
    }
   ],
   "source": [
    "# Create and show two circles with some noise\n",
    "circ1 = create_circle(c=[-4.0, 0.0], r=4.0, noise=0.05, n=100)\n",
    "circ2 = create_circle(c=[4.0, 0.0], r=4.0, noise=0.05, n=100)\n",
    "dataset = np.concatenate((circ1, circ2))\n",
    "plt.plot(dataset[:, 0], dataset[:, 1], \".\")\n",
    "plt.show()"
   ]
  },
  {
   "cell_type": "code",
   "execution_count": 89,
   "metadata": {},
   "outputs": [],
   "source": [
    "# Setup MAPPER\n",
    "filt = pythd.filter.ComponentFilter(0) # filter: x component\n",
    "f_x = filt(dataset)\n",
    "cover = pythd.cover.IntervalCover1D.EvenlySpacedFromValues(f_x, 10, 0.5)\n",
    "clustering = pythd.clustering.HierarchicalClustering()"
   ]
  },
  {
   "cell_type": "code",
   "execution_count": 90,
   "metadata": {},
   "outputs": [],
   "source": [
    "# Run MAPPER\n",
    "mapper = pythd.mapper.MAPPER(filter=filt, cover=cover, clustering=clustering)\n",
    "res = mapper.run(dataset)"
   ]
  },
  {
   "cell_type": "code",
   "execution_count": 91,
   "metadata": {},
   "outputs": [
    {
     "name": "stdout",
     "output_type": "stream",
     "text": [
      "IGRAPH UN-- 16 17 --\n",
      "+ attr: name (v), points (v)\n",
      "+ edges (vertex names):\n",
      "0--1, 0--2, 0--3, 1--14, 1--15, 2--4, 3--5, 4--7, 5--6, 6--8, 7--8, 9--10,\n",
      "9--11, 10--12, 11--13, 12--14, 13--15\n"
     ]
    }
   ],
   "source": [
    "# Create igraph graph\n",
    "g = res.get_igraph_network()\n",
    "print(g)"
   ]
  },
  {
   "cell_type": "code",
   "execution_count": 92,
   "metadata": {
    "scrolled": false
   },
   "outputs": [
    {
     "data": {
      "image/svg+xml": [
       "<?xml version=\"1.0\" encoding=\"UTF-8\"?>\n",
       "<svg xmlns=\"http://www.w3.org/2000/svg\" xmlns:xlink=\"http://www.w3.org/1999/xlink\" width=\"600pt\" height=\"600pt\" viewBox=\"0 0 600 600\" version=\"1.1\">\n",
       "<g id=\"surface110\">\n",
       "<rect x=\"0\" y=\"0\" width=\"600\" height=\"600\" style=\"fill:rgb(100%,100%,100%);fill-opacity:1;stroke:none;\"/>\n",
       "<path style=\"fill:none;stroke-width:1;stroke-linecap:butt;stroke-linejoin:miter;stroke:rgb(26.666667%,26.666667%,26.666667%);stroke-opacity:1;stroke-miterlimit:10;\" d=\"M 326.332031 258.722656 L 274.453125 341.65625 \"/>\n",
       "<path style=\"fill:none;stroke-width:1;stroke-linecap:butt;stroke-linejoin:miter;stroke:rgb(26.666667%,26.666667%,26.666667%);stroke-opacity:1;stroke-miterlimit:10;\" d=\"M 326.332031 258.722656 L 234.445313 186.527344 \"/>\n",
       "<path style=\"fill:none;stroke-width:1;stroke-linecap:butt;stroke-linejoin:miter;stroke:rgb(26.666667%,26.666667%,26.666667%);stroke-opacity:1;stroke-miterlimit:10;\" d=\"M 326.332031 258.722656 L 479.617188 232.191406 \"/>\n",
       "<path style=\"fill:none;stroke-width:1;stroke-linecap:butt;stroke-linejoin:miter;stroke:rgb(26.666667%,26.666667%,26.666667%);stroke-opacity:1;stroke-miterlimit:10;\" d=\"M 274.453125 341.65625 L 366.285156 413.859375 \"/>\n",
       "<path style=\"fill:none;stroke-width:1;stroke-linecap:butt;stroke-linejoin:miter;stroke:rgb(26.666667%,26.666667%,26.666667%);stroke-opacity:1;stroke-miterlimit:10;\" d=\"M 274.453125 341.65625 L 120.929688 367.867188 \"/>\n",
       "<path style=\"fill:none;stroke-width:1;stroke-linecap:butt;stroke-linejoin:miter;stroke:rgb(26.666667%,26.666667%,26.666667%);stroke-opacity:1;stroke-miterlimit:10;\" d=\"M 234.445313 186.527344 L 225.734375 102.464844 \"/>\n",
       "<path style=\"fill:none;stroke-width:1;stroke-linecap:butt;stroke-linejoin:miter;stroke:rgb(26.666667%,26.666667%,26.666667%);stroke-opacity:1;stroke-miterlimit:10;\" d=\"M 479.617188 232.191406 L 580 168.4375 \"/>\n",
       "<path style=\"fill:none;stroke-width:1;stroke-linecap:butt;stroke-linejoin:miter;stroke:rgb(26.666667%,26.666667%,26.666667%);stroke-opacity:1;stroke-miterlimit:10;\" d=\"M 225.734375 102.464844 L 320.152344 34.953125 \"/>\n",
       "<path style=\"fill:none;stroke-width:1;stroke-linecap:butt;stroke-linejoin:miter;stroke:rgb(26.666667%,26.666667%,26.666667%);stroke-opacity:1;stroke-miterlimit:10;\" d=\"M 580 168.4375 L 579.617188 83.171875 \"/>\n",
       "<path style=\"fill:none;stroke-width:1;stroke-linecap:butt;stroke-linejoin:miter;stroke:rgb(26.666667%,26.666667%,26.666667%);stroke-opacity:1;stroke-miterlimit:10;\" d=\"M 579.617188 83.171875 L 474.167969 20 \"/>\n",
       "<path style=\"fill:none;stroke-width:1;stroke-linecap:butt;stroke-linejoin:miter;stroke:rgb(26.666667%,26.666667%,26.666667%);stroke-opacity:1;stroke-miterlimit:10;\" d=\"M 320.152344 34.953125 L 474.167969 20 \"/>\n",
       "<path style=\"fill:none;stroke-width:1;stroke-linecap:butt;stroke-linejoin:miter;stroke:rgb(26.666667%,26.666667%,26.666667%);stroke-opacity:1;stroke-miterlimit:10;\" d=\"M 125.398438 580 L 279.621094 565.257813 \"/>\n",
       "<path style=\"fill:none;stroke-width:1;stroke-linecap:butt;stroke-linejoin:miter;stroke:rgb(26.666667%,26.666667%,26.666667%);stroke-opacity:1;stroke-miterlimit:10;\" d=\"M 125.398438 580 L 20 516.667969 \"/>\n",
       "<path style=\"fill:none;stroke-width:1;stroke-linecap:butt;stroke-linejoin:miter;stroke:rgb(26.666667%,26.666667%,26.666667%);stroke-opacity:1;stroke-miterlimit:10;\" d=\"M 279.621094 565.257813 L 374.515625 497.875 \"/>\n",
       "<path style=\"fill:none;stroke-width:1;stroke-linecap:butt;stroke-linejoin:miter;stroke:rgb(26.666667%,26.666667%,26.666667%);stroke-opacity:1;stroke-miterlimit:10;\" d=\"M 20 516.667969 L 20.464844 431.617188 \"/>\n",
       "<path style=\"fill:none;stroke-width:1;stroke-linecap:butt;stroke-linejoin:miter;stroke:rgb(26.666667%,26.666667%,26.666667%);stroke-opacity:1;stroke-miterlimit:10;\" d=\"M 374.515625 497.875 L 366.285156 413.859375 \"/>\n",
       "<path style=\"fill:none;stroke-width:1;stroke-linecap:butt;stroke-linejoin:miter;stroke:rgb(26.666667%,26.666667%,26.666667%);stroke-opacity:1;stroke-miterlimit:10;\" d=\"M 20.464844 431.617188 L 120.929688 367.867188 \"/>\n",
       "<path style=\"fill-rule:nonzero;fill:rgb(100%,0%,0%);fill-opacity:1;stroke-width:1;stroke-linecap:butt;stroke-linejoin:miter;stroke:rgb(0%,0%,0%);stroke-opacity:1;stroke-miterlimit:10;\" d=\"M 336.332031 258.722656 C 336.332031 264.246094 331.855469 268.722656 326.332031 268.722656 C 320.808594 268.722656 316.332031 264.246094 316.332031 258.722656 C 316.332031 253.203125 320.808594 248.722656 326.332031 248.722656 C 331.855469 248.722656 336.332031 253.203125 336.332031 258.722656 \"/>\n",
       "<path style=\"fill-rule:nonzero;fill:rgb(100%,0%,0%);fill-opacity:1;stroke-width:1;stroke-linecap:butt;stroke-linejoin:miter;stroke:rgb(0%,0%,0%);stroke-opacity:1;stroke-miterlimit:10;\" d=\"M 284.453125 341.65625 C 284.453125 347.179688 279.976563 351.65625 274.453125 351.65625 C 268.929688 351.65625 264.453125 347.179688 264.453125 341.65625 C 264.453125 336.132813 268.929688 331.65625 274.453125 331.65625 C 279.976563 331.65625 284.453125 336.132813 284.453125 341.65625 \"/>\n",
       "<path style=\"fill-rule:nonzero;fill:rgb(100%,0%,0%);fill-opacity:1;stroke-width:1;stroke-linecap:butt;stroke-linejoin:miter;stroke:rgb(0%,0%,0%);stroke-opacity:1;stroke-miterlimit:10;\" d=\"M 244.445313 186.527344 C 244.445313 192.050781 239.964844 196.527344 234.445313 196.527344 C 228.921875 196.527344 224.445313 192.050781 224.445313 186.527344 C 224.445313 181.003906 228.921875 176.527344 234.445313 176.527344 C 239.964844 176.527344 244.445313 181.003906 244.445313 186.527344 \"/>\n",
       "<path style=\"fill-rule:nonzero;fill:rgb(100%,0%,0%);fill-opacity:1;stroke-width:1;stroke-linecap:butt;stroke-linejoin:miter;stroke:rgb(0%,0%,0%);stroke-opacity:1;stroke-miterlimit:10;\" d=\"M 489.617188 232.191406 C 489.617188 237.714844 485.136719 242.191406 479.617188 242.191406 C 474.09375 242.191406 469.617188 237.714844 469.617188 232.191406 C 469.617188 226.667969 474.09375 222.191406 479.617188 222.191406 C 485.136719 222.191406 489.617188 226.667969 489.617188 232.191406 \"/>\n",
       "<path style=\"fill-rule:nonzero;fill:rgb(100%,0%,0%);fill-opacity:1;stroke-width:1;stroke-linecap:butt;stroke-linejoin:miter;stroke:rgb(0%,0%,0%);stroke-opacity:1;stroke-miterlimit:10;\" d=\"M 235.734375 102.464844 C 235.734375 107.988281 231.257813 112.464844 225.734375 112.464844 C 220.210938 112.464844 215.734375 107.988281 215.734375 102.464844 C 215.734375 96.941406 220.210938 92.464844 225.734375 92.464844 C 231.257813 92.464844 235.734375 96.941406 235.734375 102.464844 \"/>\n",
       "<path style=\"fill-rule:nonzero;fill:rgb(100%,0%,0%);fill-opacity:1;stroke-width:1;stroke-linecap:butt;stroke-linejoin:miter;stroke:rgb(0%,0%,0%);stroke-opacity:1;stroke-miterlimit:10;\" d=\"M 590 168.4375 C 590 173.957031 585.523438 178.4375 580 178.4375 C 574.476563 178.4375 570 173.957031 570 168.4375 C 570 162.914063 574.476563 158.4375 580 158.4375 C 585.523438 158.4375 590 162.914063 590 168.4375 \"/>\n",
       "<path style=\"fill-rule:nonzero;fill:rgb(100%,0%,0%);fill-opacity:1;stroke-width:1;stroke-linecap:butt;stroke-linejoin:miter;stroke:rgb(0%,0%,0%);stroke-opacity:1;stroke-miterlimit:10;\" d=\"M 589.617188 83.171875 C 589.617188 88.695313 585.140625 93.171875 579.617188 93.171875 C 574.097656 93.171875 569.617188 88.695313 569.617188 83.171875 C 569.617188 77.652344 574.097656 73.171875 579.617188 73.171875 C 585.140625 73.171875 589.617188 77.652344 589.617188 83.171875 \"/>\n",
       "<path style=\"fill-rule:nonzero;fill:rgb(100%,0%,0%);fill-opacity:1;stroke-width:1;stroke-linecap:butt;stroke-linejoin:miter;stroke:rgb(0%,0%,0%);stroke-opacity:1;stroke-miterlimit:10;\" d=\"M 330.152344 34.953125 C 330.152344 40.472656 325.675781 44.953125 320.152344 44.953125 C 314.628906 44.953125 310.152344 40.472656 310.152344 34.953125 C 310.152344 29.429688 314.628906 24.953125 320.152344 24.953125 C 325.675781 24.953125 330.152344 29.429688 330.152344 34.953125 \"/>\n",
       "<path style=\"fill-rule:nonzero;fill:rgb(100%,0%,0%);fill-opacity:1;stroke-width:1;stroke-linecap:butt;stroke-linejoin:miter;stroke:rgb(0%,0%,0%);stroke-opacity:1;stroke-miterlimit:10;\" d=\"M 484.167969 20 C 484.167969 25.523438 479.691406 30 474.167969 30 C 468.644531 30 464.167969 25.523438 464.167969 20 C 464.167969 14.476563 468.644531 10 474.167969 10 C 479.691406 10 484.167969 14.476563 484.167969 20 \"/>\n",
       "<path style=\"fill-rule:nonzero;fill:rgb(100%,0%,0%);fill-opacity:1;stroke-width:1;stroke-linecap:butt;stroke-linejoin:miter;stroke:rgb(0%,0%,0%);stroke-opacity:1;stroke-miterlimit:10;\" d=\"M 135.398438 580 C 135.398438 585.523438 130.921875 590 125.398438 590 C 119.875 590 115.398438 585.523438 115.398438 580 C 115.398438 574.476563 119.875 570 125.398438 570 C 130.921875 570 135.398438 574.476563 135.398438 580 \"/>\n",
       "<path style=\"fill-rule:nonzero;fill:rgb(100%,0%,0%);fill-opacity:1;stroke-width:1;stroke-linecap:butt;stroke-linejoin:miter;stroke:rgb(0%,0%,0%);stroke-opacity:1;stroke-miterlimit:10;\" d=\"M 289.621094 565.257813 C 289.621094 570.777344 285.144531 575.257813 279.621094 575.257813 C 274.097656 575.257813 269.621094 570.777344 269.621094 565.257813 C 269.621094 559.734375 274.097656 555.257813 279.621094 555.257813 C 285.144531 555.257813 289.621094 559.734375 289.621094 565.257813 \"/>\n",
       "<path style=\"fill-rule:nonzero;fill:rgb(100%,0%,0%);fill-opacity:1;stroke-width:1;stroke-linecap:butt;stroke-linejoin:miter;stroke:rgb(0%,0%,0%);stroke-opacity:1;stroke-miterlimit:10;\" d=\"M 30 516.667969 C 30 522.191406 25.523438 526.667969 20 526.667969 C 14.476563 526.667969 10 522.191406 10 516.667969 C 10 511.144531 14.476563 506.667969 20 506.667969 C 25.523438 506.667969 30 511.144531 30 516.667969 \"/>\n",
       "<path style=\"fill-rule:nonzero;fill:rgb(100%,0%,0%);fill-opacity:1;stroke-width:1;stroke-linecap:butt;stroke-linejoin:miter;stroke:rgb(0%,0%,0%);stroke-opacity:1;stroke-miterlimit:10;\" d=\"M 384.515625 497.875 C 384.515625 503.398438 380.039063 507.875 374.515625 507.875 C 368.992188 507.875 364.515625 503.398438 364.515625 497.875 C 364.515625 492.355469 368.992188 487.875 374.515625 487.875 C 380.039063 487.875 384.515625 492.355469 384.515625 497.875 \"/>\n",
       "<path style=\"fill-rule:nonzero;fill:rgb(100%,0%,0%);fill-opacity:1;stroke-width:1;stroke-linecap:butt;stroke-linejoin:miter;stroke:rgb(0%,0%,0%);stroke-opacity:1;stroke-miterlimit:10;\" d=\"M 30.464844 431.617188 C 30.464844 437.140625 25.988281 441.617188 20.464844 441.617188 C 14.941406 441.617188 10.464844 437.140625 10.464844 431.617188 C 10.464844 426.097656 14.941406 421.617188 20.464844 421.617188 C 25.988281 421.617188 30.464844 426.097656 30.464844 431.617188 \"/>\n",
       "<path style=\"fill-rule:nonzero;fill:rgb(100%,0%,0%);fill-opacity:1;stroke-width:1;stroke-linecap:butt;stroke-linejoin:miter;stroke:rgb(0%,0%,0%);stroke-opacity:1;stroke-miterlimit:10;\" d=\"M 376.285156 413.859375 C 376.285156 419.382813 371.808594 423.859375 366.285156 423.859375 C 360.761719 423.859375 356.285156 419.382813 356.285156 413.859375 C 356.285156 408.335938 360.761719 403.859375 366.285156 403.859375 C 371.808594 403.859375 376.285156 408.335938 376.285156 413.859375 \"/>\n",
       "<path style=\"fill-rule:nonzero;fill:rgb(100%,0%,0%);fill-opacity:1;stroke-width:1;stroke-linecap:butt;stroke-linejoin:miter;stroke:rgb(0%,0%,0%);stroke-opacity:1;stroke-miterlimit:10;\" d=\"M 130.929688 367.867188 C 130.929688 373.390625 126.453125 377.867188 120.929688 377.867188 C 115.40625 377.867188 110.929688 373.390625 110.929688 367.867188 C 110.929688 362.34375 115.40625 357.867188 120.929688 357.867188 C 126.453125 357.867188 130.929688 362.34375 130.929688 367.867188 \"/>\n",
       "</g>\n",
       "</svg>\n"
      ],
      "text/plain": [
       "<igraph.drawing.Plot at 0x169090d7f28>"
      ]
     },
     "execution_count": 92,
     "metadata": {},
     "output_type": "execute_result"
    }
   ],
   "source": [
    "# Visualize the graph\n",
    "layout = g.layout_kamada_kawai()\n",
    "igraph.plot(g, layout=layout)"
   ]
  },
  {
   "cell_type": "code",
   "execution_count": 63,
   "metadata": {},
   "outputs": [
    {
     "data": {
      "image/png": "[encoded data removed]",
      "text/plain": [
       "<Figure size 432x288 with 1 Axes>"
      ]
     },
     "metadata": {},
     "output_type": "display_data"
    }
   ],
   "source": [
    "# Visualize with networkx\n",
    "import networkx as nx\n",
    "g = res.get_networkx_network()\n",
    "nx.draw(g)"
   ]
  }
 ],
 "metadata": {
  "kernelspec": {
   "display_name": "Python 3",
   "language": "python",
   "name": "python3"
  },
  "language_info": {
   "codemirror_mode": {
    "name": "ipython",
    "version": 3
   },
   "file_extension": ".py",
   "mimetype": "text/x-python",
   "name": "python",
   "nbconvert_exporter": "python",
   "pygments_lexer": "ipython3",
   "version": "3.7.1"
  }
 },
 "nbformat": 4,
 "nbformat_minor": 2
}
