{
 "cells": [
  {
   "cell_type": "code",
   "execution_count": 1,
   "metadata": {},
   "outputs": [],
   "source": [
    "%matplotlib inline\n",
    "import sys\n",
    "sys.path.append(\"..\")\n",
    "import numpy as np\n",
    "from matplotlib import pyplot as plt\n",
    "import igraph\n",
    "\n",
    "import pythd"
   ]
  },
  {
   "cell_type": "code",
   "execution_count": 2,
   "metadata": {},
   "outputs": [],
   "source": [
    "# Function to create a dataset of a circle at a given point\n",
    "def create_circle(c=np.array([0.0, 0.0]), r=1.0, noise=0.0, n=20):\n",
    "    delta = 2.0*np.pi / n\n",
    "    theta = np.linspace(0.0, 2.0*np.pi, num=n, endpoint=False)\n",
    "    c = np.array(c)\n",
    "    \n",
    "    x = c[0] + r*np.cos(theta) + np.random.normal(scale=noise, size=theta.shape)\n",
    "    y = c[1] + r*np.sin(theta) + np.random.normal(scale=noise, size=theta.shape)\n",
    "    return np.array([x, y]).T"
   ]
  },
  {
   "cell_type": "code",
   "execution_count": 8,
   "metadata": {},
   "outputs": [
    {
     "data": {
      "image/png": "[encoded data removed]",
      "text/plain": [
       "<Figure size 432x288 with 1 Axes>"
      ]
     },
     "metadata": {
      "needs_background": "light"
     },
     "output_type": "display_data"
    }
   ],
   "source": [
    "# Create and show two circles with some noise\n",
    "circ1 = create_circle(c=[-2.0, 0.0], r=2.0, noise=0.05, n=100)\n",
    "circ2 = create_circle(c=[2.0, 0.0], r=2.0, noise=0.05, n=100)\n",
    "dataset = np.concatenate((circ1, circ2))\n",
    "plt.plot(dataset[:, 0], dataset[:, 1], \".\")\n",
    "plt.show()"
   ]
  },
  {
   "cell_type": "code",
   "execution_count": 30,
   "metadata": {},
   "outputs": [],
   "source": [
    "# Setup MAPPER\n",
    "filt = pythd.filter.ComponentFilter(0) # filter: x component\n",
    "f_x = filt(dataset)\n",
    "cover = pythd.cover.IntervalCover1D.EvenlySpacedFromValues(f_x, 10, 0.5)\n",
    "clustering = pythd.clustering.HierarchicalClustering()"
   ]
  },
  {
   "cell_type": "code",
   "execution_count": 31,
   "metadata": {},
   "outputs": [],
   "source": [
    "# Run MAPPER and get 1 skeleton\n",
    "mapper = pythd.mapper.MAPPER(filter=filt, cover=cover, clustering=clustering)\n",
    "res = mapper.run(dataset)\n",
    "nodes, edges = res.compute_1_skeleton()"
   ]
  },
  {
   "cell_type": "code",
   "execution_count": 32,
   "metadata": {},
   "outputs": [
    {
     "name": "stdout",
     "output_type": "stream",
     "text": [
      "IGRAPH UN-- 15 16 --\n",
      "+ attr: name (v), points (v)\n",
      "+ edges (vertex names):\n",
      "0--1, 0--2, 1--13, 1--14, 2--3, 2--4, 3--5, 4--6, 5--7, 6--7, 7--8, 9--10,\n",
      "9--12, 10--13, 11--14, 12--14\n"
     ]
    }
   ],
   "source": [
    "# Create igraph graph\n",
    "g = igraph.Graph()\n",
    "for vid, points in nodes.items():\n",
    "    g.add_vertex(name=str(vid), points=points)\n",
    "g.add_edges(edges)\n",
    "print(g)"
   ]
  },
  {
   "cell_type": "code",
   "execution_count": 33,
   "metadata": {},
   "outputs": [
    {
     "data": {
      "image/svg+xml": [
       "<?xml version=\"1.0\" encoding=\"UTF-8\"?>\n",
       "<svg xmlns=\"http://www.w3.org/2000/svg\" xmlns:xlink=\"http://www.w3.org/1999/xlink\" width=\"600pt\" height=\"600pt\" viewBox=\"0 0 600 600\" version=\"1.1\">\n",
       "<g id=\"surface38\">\n",
       "<rect x=\"0\" y=\"0\" width=\"600\" height=\"600\" style=\"fill:rgb(100%,100%,100%);fill-opacity:1;stroke:none;\"/>\n",
       "<path style=\"fill:none;stroke-width:1;stroke-linecap:butt;stroke-linejoin:miter;stroke:rgb(26.666667%,26.666667%,26.666667%);stroke-opacity:1;stroke-miterlimit:10;\" d=\"M 320.503906 255.53125 L 289.007813 179.921875 \"/>\n",
       "<path style=\"fill:none;stroke-width:1;stroke-linecap:butt;stroke-linejoin:miter;stroke:rgb(26.666667%,26.666667%,26.666667%);stroke-opacity:1;stroke-miterlimit:10;\" d=\"M 320.503906 255.53125 L 341.457031 331.121094 \"/>\n",
       "<path style=\"fill:none;stroke-width:1;stroke-linecap:butt;stroke-linejoin:miter;stroke:rgb(26.666667%,26.666667%,26.666667%);stroke-opacity:1;stroke-miterlimit:10;\" d=\"M 289.007813 179.921875 L 102.277344 152.28125 \"/>\n",
       "<path style=\"fill:none;stroke-width:1;stroke-linecap:butt;stroke-linejoin:miter;stroke:rgb(26.666667%,26.666667%,26.666667%);stroke-opacity:1;stroke-miterlimit:10;\" d=\"M 289.007813 179.921875 L 403.324219 113.882813 \"/>\n",
       "<path style=\"fill:none;stroke-width:1;stroke-linecap:butt;stroke-linejoin:miter;stroke:rgb(26.666667%,26.666667%,26.666667%);stroke-opacity:1;stroke-miterlimit:10;\" d=\"M 341.457031 331.121094 L 505.449219 374.492188 \"/>\n",
       "<path style=\"fill:none;stroke-width:1;stroke-linecap:butt;stroke-linejoin:miter;stroke:rgb(26.666667%,26.666667%,26.666667%);stroke-opacity:1;stroke-miterlimit:10;\" d=\"M 341.457031 331.121094 L 209.648438 390 \"/>\n",
       "<path style=\"fill:none;stroke-width:1;stroke-linecap:butt;stroke-linejoin:miter;stroke:rgb(26.666667%,26.666667%,26.666667%);stroke-opacity:1;stroke-miterlimit:10;\" d=\"M 505.449219 374.492188 L 531.195313 450.636719 \"/>\n",
       "<path style=\"fill:none;stroke-width:1;stroke-linecap:butt;stroke-linejoin:miter;stroke:rgb(26.666667%,26.666667%,26.666667%);stroke-opacity:1;stroke-miterlimit:10;\" d=\"M 209.648438 390 L 231.289063 466.449219 \"/>\n",
       "<path style=\"fill:none;stroke-width:1;stroke-linecap:butt;stroke-linejoin:miter;stroke:rgb(26.666667%,26.666667%,26.666667%);stroke-opacity:1;stroke-miterlimit:10;\" d=\"M 531.195313 450.636719 L 396.660156 507.253906 \"/>\n",
       "<path style=\"fill:none;stroke-width:1;stroke-linecap:butt;stroke-linejoin:miter;stroke:rgb(26.666667%,26.666667%,26.666667%);stroke-opacity:1;stroke-miterlimit:10;\" d=\"M 231.289063 466.449219 L 396.660156 507.253906 \"/>\n",
       "<path style=\"fill:none;stroke-width:1;stroke-linecap:butt;stroke-linejoin:miter;stroke:rgb(26.666667%,26.666667%,26.666667%);stroke-opacity:1;stroke-miterlimit:10;\" d=\"M 396.660156 507.253906 L 418.671875 580 \"/>\n",
       "<path style=\"fill:none;stroke-width:1;stroke-linecap:butt;stroke-linejoin:miter;stroke:rgb(26.666667%,26.666667%,26.666667%);stroke-opacity:1;stroke-miterlimit:10;\" d=\"M 131.789063 20 L 20 83.332031 \"/>\n",
       "<path style=\"fill:none;stroke-width:1;stroke-linecap:butt;stroke-linejoin:miter;stroke:rgb(26.666667%,26.666667%,26.666667%);stroke-opacity:1;stroke-miterlimit:10;\" d=\"M 131.789063 20 L 311.820313 43.632813 \"/>\n",
       "<path style=\"fill:none;stroke-width:1;stroke-linecap:butt;stroke-linejoin:miter;stroke:rgb(26.666667%,26.666667%,26.666667%);stroke-opacity:1;stroke-miterlimit:10;\" d=\"M 20 83.332031 L 102.277344 152.28125 \"/>\n",
       "<path style=\"fill:none;stroke-width:1;stroke-linecap:butt;stroke-linejoin:miter;stroke:rgb(26.666667%,26.666667%,26.666667%);stroke-opacity:1;stroke-miterlimit:10;\" d=\"M 580 87.386719 L 403.324219 113.882813 \"/>\n",
       "<path style=\"fill:none;stroke-width:1;stroke-linecap:butt;stroke-linejoin:miter;stroke:rgb(26.666667%,26.666667%,26.666667%);stroke-opacity:1;stroke-miterlimit:10;\" d=\"M 311.820313 43.632813 L 403.324219 113.882813 \"/>\n",
       "<path style=\"fill-rule:nonzero;fill:rgb(100%,0%,0%);fill-opacity:1;stroke-width:1;stroke-linecap:butt;stroke-linejoin:miter;stroke:rgb(0%,0%,0%);stroke-opacity:1;stroke-miterlimit:10;\" d=\"M 330.503906 255.53125 C 330.503906 261.054688 326.023438 265.53125 320.503906 265.53125 C 314.980469 265.53125 310.503906 261.054688 310.503906 255.53125 C 310.503906 250.011719 314.980469 245.53125 320.503906 245.53125 C 326.023438 245.53125 330.503906 250.011719 330.503906 255.53125 \"/>\n",
       "<path style=\"fill-rule:nonzero;fill:rgb(100%,0%,0%);fill-opacity:1;stroke-width:1;stroke-linecap:butt;stroke-linejoin:miter;stroke:rgb(0%,0%,0%);stroke-opacity:1;stroke-miterlimit:10;\" d=\"M 299.007813 179.921875 C 299.007813 185.445313 294.53125 189.921875 289.007813 189.921875 C 283.484375 189.921875 279.007813 185.445313 279.007813 179.921875 C 279.007813 174.402344 283.484375 169.921875 289.007813 169.921875 C 294.53125 169.921875 299.007813 174.402344 299.007813 179.921875 \"/>\n",
       "<path style=\"fill-rule:nonzero;fill:rgb(100%,0%,0%);fill-opacity:1;stroke-width:1;stroke-linecap:butt;stroke-linejoin:miter;stroke:rgb(0%,0%,0%);stroke-opacity:1;stroke-miterlimit:10;\" d=\"M 351.457031 331.121094 C 351.457031 336.644531 346.976563 341.121094 341.457031 341.121094 C 335.933594 341.121094 331.457031 336.644531 331.457031 331.121094 C 331.457031 325.597656 335.933594 321.121094 341.457031 321.121094 C 346.976563 321.121094 351.457031 325.597656 351.457031 331.121094 \"/>\n",
       "<path style=\"fill-rule:nonzero;fill:rgb(100%,0%,0%);fill-opacity:1;stroke-width:1;stroke-linecap:butt;stroke-linejoin:miter;stroke:rgb(0%,0%,0%);stroke-opacity:1;stroke-miterlimit:10;\" d=\"M 515.449219 374.492188 C 515.449219 380.015625 510.972656 384.492188 505.449219 384.492188 C 499.925781 384.492188 495.449219 380.015625 495.449219 374.492188 C 495.449219 368.96875 499.925781 364.492188 505.449219 364.492188 C 510.972656 364.492188 515.449219 368.96875 515.449219 374.492188 \"/>\n",
       "<path style=\"fill-rule:nonzero;fill:rgb(100%,0%,0%);fill-opacity:1;stroke-width:1;stroke-linecap:butt;stroke-linejoin:miter;stroke:rgb(0%,0%,0%);stroke-opacity:1;stroke-miterlimit:10;\" d=\"M 219.648438 390 C 219.648438 395.519531 215.171875 400 209.648438 400 C 204.125 400 199.648438 395.519531 199.648438 390 C 199.648438 384.476563 204.125 380 209.648438 380 C 215.171875 380 219.648438 384.476563 219.648438 390 \"/>\n",
       "<path style=\"fill-rule:nonzero;fill:rgb(100%,0%,0%);fill-opacity:1;stroke-width:1;stroke-linecap:butt;stroke-linejoin:miter;stroke:rgb(0%,0%,0%);stroke-opacity:1;stroke-miterlimit:10;\" d=\"M 541.195313 450.636719 C 541.195313 456.160156 536.714844 460.636719 531.195313 460.636719 C 525.671875 460.636719 521.195313 456.160156 521.195313 450.636719 C 521.195313 445.113281 525.671875 440.636719 531.195313 440.636719 C 536.714844 440.636719 541.195313 445.113281 541.195313 450.636719 \"/>\n",
       "<path style=\"fill-rule:nonzero;fill:rgb(100%,0%,0%);fill-opacity:1;stroke-width:1;stroke-linecap:butt;stroke-linejoin:miter;stroke:rgb(0%,0%,0%);stroke-opacity:1;stroke-miterlimit:10;\" d=\"M 241.289063 466.449219 C 241.289063 471.972656 236.8125 476.449219 231.289063 476.449219 C 225.765625 476.449219 221.289063 471.972656 221.289063 466.449219 C 221.289063 460.925781 225.765625 456.449219 231.289063 456.449219 C 236.8125 456.449219 241.289063 460.925781 241.289063 466.449219 \"/>\n",
       "<path style=\"fill-rule:nonzero;fill:rgb(100%,0%,0%);fill-opacity:1;stroke-width:1;stroke-linecap:butt;stroke-linejoin:miter;stroke:rgb(0%,0%,0%);stroke-opacity:1;stroke-miterlimit:10;\" d=\"M 406.660156 507.253906 C 406.660156 512.777344 402.183594 517.253906 396.660156 517.253906 C 391.136719 517.253906 386.660156 512.777344 386.660156 507.253906 C 386.660156 501.730469 391.136719 497.253906 396.660156 497.253906 C 402.183594 497.253906 406.660156 501.730469 406.660156 507.253906 \"/>\n",
       "<path style=\"fill-rule:nonzero;fill:rgb(100%,0%,0%);fill-opacity:1;stroke-width:1;stroke-linecap:butt;stroke-linejoin:miter;stroke:rgb(0%,0%,0%);stroke-opacity:1;stroke-miterlimit:10;\" d=\"M 428.671875 580 C 428.671875 585.523438 424.195313 590 418.671875 590 C 413.148438 590 408.671875 585.523438 408.671875 580 C 408.671875 574.476563 413.148438 570 418.671875 570 C 424.195313 570 428.671875 574.476563 428.671875 580 \"/>\n",
       "<path style=\"fill-rule:nonzero;fill:rgb(100%,0%,0%);fill-opacity:1;stroke-width:1;stroke-linecap:butt;stroke-linejoin:miter;stroke:rgb(0%,0%,0%);stroke-opacity:1;stroke-miterlimit:10;\" d=\"M 141.789063 20 C 141.789063 25.523438 137.3125 30 131.789063 30 C 126.269531 30 121.789063 25.523438 121.789063 20 C 121.789063 14.476563 126.269531 10 131.789063 10 C 137.3125 10 141.789063 14.476563 141.789063 20 \"/>\n",
       "<path style=\"fill-rule:nonzero;fill:rgb(100%,0%,0%);fill-opacity:1;stroke-width:1;stroke-linecap:butt;stroke-linejoin:miter;stroke:rgb(0%,0%,0%);stroke-opacity:1;stroke-miterlimit:10;\" d=\"M 30 83.332031 C 30 88.855469 25.523438 93.332031 20 93.332031 C 14.476563 93.332031 10 88.855469 10 83.332031 C 10 77.808594 14.476563 73.332031 20 73.332031 C 25.523438 73.332031 30 77.808594 30 83.332031 \"/>\n",
       "<path style=\"fill-rule:nonzero;fill:rgb(100%,0%,0%);fill-opacity:1;stroke-width:1;stroke-linecap:butt;stroke-linejoin:miter;stroke:rgb(0%,0%,0%);stroke-opacity:1;stroke-miterlimit:10;\" d=\"M 590 87.386719 C 590 92.910156 585.523438 97.386719 580 97.386719 C 574.476563 97.386719 570 92.910156 570 87.386719 C 570 81.863281 574.476563 77.386719 580 77.386719 C 585.523438 77.386719 590 81.863281 590 87.386719 \"/>\n",
       "<path style=\"fill-rule:nonzero;fill:rgb(100%,0%,0%);fill-opacity:1;stroke-width:1;stroke-linecap:butt;stroke-linejoin:miter;stroke:rgb(0%,0%,0%);stroke-opacity:1;stroke-miterlimit:10;\" d=\"M 321.820313 43.632813 C 321.820313 49.152344 317.34375 53.632813 311.820313 53.632813 C 306.296875 53.632813 301.820313 49.152344 301.820313 43.632813 C 301.820313 38.109375 306.296875 33.632813 311.820313 33.632813 C 317.34375 33.632813 321.820313 38.109375 321.820313 43.632813 \"/>\n",
       "<path style=\"fill-rule:nonzero;fill:rgb(100%,0%,0%);fill-opacity:1;stroke-width:1;stroke-linecap:butt;stroke-linejoin:miter;stroke:rgb(0%,0%,0%);stroke-opacity:1;stroke-miterlimit:10;\" d=\"M 112.277344 152.28125 C 112.277344 157.800781 107.800781 162.28125 102.277344 162.28125 C 96.753906 162.28125 92.277344 157.800781 92.277344 152.28125 C 92.277344 146.757813 96.753906 142.28125 102.277344 142.28125 C 107.800781 142.28125 112.277344 146.757813 112.277344 152.28125 \"/>\n",
       "<path style=\"fill-rule:nonzero;fill:rgb(100%,0%,0%);fill-opacity:1;stroke-width:1;stroke-linecap:butt;stroke-linejoin:miter;stroke:rgb(0%,0%,0%);stroke-opacity:1;stroke-miterlimit:10;\" d=\"M 413.324219 113.882813 C 413.324219 119.40625 408.84375 123.882813 403.324219 123.882813 C 397.800781 123.882813 393.324219 119.40625 393.324219 113.882813 C 393.324219 108.359375 397.800781 103.882813 403.324219 103.882813 C 408.84375 103.882813 413.324219 108.359375 413.324219 113.882813 \"/>\n",
       "</g>\n",
       "</svg>\n"
      ],
      "text/plain": [
       "<igraph.drawing.Plot at 0x25620ca5198>"
      ]
     },
     "execution_count": 33,
     "metadata": {},
     "output_type": "execute_result"
    }
   ],
   "source": [
    "# Visualize the graph\n",
    "layout = g.layout_kamada_kawai()\n",
    "igraph.plot(g, layout=layout)"
   ]
  },
  {
   "cell_type": "code",
   "execution_count": null,
   "metadata": {},
   "outputs": [],
   "source": []
  }
 ],
 "metadata": {
  "kernelspec": {
   "display_name": "Python 3",
   "language": "python",
   "name": "python3"
  },
  "language_info": {
   "codemirror_mode": {
    "name": "ipython",
    "version": 3
   },
   "file_extension": ".py",
   "mimetype": "text/x-python",
   "name": "python",
   "nbconvert_exporter": "python",
   "pygments_lexer": "ipython3",
   "version": "3.7.1"
  }
 },
 "nbformat": 4,
 "nbformat_minor": 2
}
