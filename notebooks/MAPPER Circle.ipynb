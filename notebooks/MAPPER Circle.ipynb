{
 "cells": [
  {
   "cell_type": "code",
   "execution_count": null,
   "metadata": {},
   "outputs": [],
   "source": [
    "%matplotlib inline\n",
    "import sys\n",
    "sys.path.append(\"..\")\n",
    "from importlib import reload\n",
    "import numpy as np\n",
    "from matplotlib import pyplot as plt\n",
    "import igraph\n",
    "\n",
    "import pythd"
   ]
  },
  {
   "cell_type": "code",
   "execution_count": null,
   "metadata": {},
   "outputs": [],
   "source": [
    "# Create and show two circles with some noise\n",
    "dataset = (pythd.datagen.DatasetGenerator()\n",
    "                .circle(center=[-4.0, 0.0], radius=4.0, noise=0.1, num_points=200)\n",
    "                .circle(center=[4.0, 0.0], radius=4.0, noise=0.1, num_points=200)).get()\n",
    "plt.plot(dataset[:, 0], dataset[:, 1], \".\")\n",
    "plt.show()"
   ]
  },
  {
   "cell_type": "code",
   "execution_count": null,
   "metadata": {},
   "outputs": [],
   "source": [
    "# Setup MAPPER\n",
    "reload(pythd)\n",
    "reload(pythd.filter)\n",
    "reload(pythd.cover)\n",
    "filt = pythd.filter.IdentityFilter()\n",
    "f_x = filt(dataset)\n",
    "cover = pythd.cover.IntervalCover.EvenlySpacedFromValues(f_x, 5, 0.5)\n",
    "clustering = pythd.clustering.HierarchicalClustering()"
   ]
  },
  {
   "cell_type": "code",
   "execution_count": null,
   "metadata": {},
   "outputs": [],
   "source": [
    "# Run MAPPER\n",
    "reload(pythd)\n",
    "reload(pythd.mapper)\n",
    "mapper = pythd.mapper.MAPPER(filter=filt, cover=cover, clustering=clustering)\n",
    "res = mapper.run(dataset, f_x=f_x)"
   ]
  },
  {
   "cell_type": "code",
   "execution_count": null,
   "metadata": {
    "scrolled": true
   },
   "outputs": [],
   "source": [
    "# Create igraph graph\n",
    "res.compute_k_skeleton(k=1)\n",
    "g = res.get_igraph_network()\n",
    "print(g)"
   ]
  },
  {
   "cell_type": "code",
   "execution_count": null,
   "metadata": {
    "scrolled": false
   },
   "outputs": [],
   "source": [
    "# Visualize the graph\n",
    "layout = g.layout_kamada_kawai()\n",
    "igraph.plot(g, layout=layout)"
   ]
  },
  {
   "cell_type": "code",
   "execution_count": null,
   "metadata": {},
   "outputs": [],
   "source": [
    "# Visualize with networkx\n",
    "import networkx as nx\n",
    "g = res.get_networkx_network()\n",
    "nx.draw(g)"
   ]
  },
  {
   "cell_type": "code",
   "execution_count": null,
   "metadata": {
    "scrolled": false
   },
   "outputs": [],
   "source": [
    "from importlib import reload\n",
    "import pythd.plotting as plot\n",
    "reload(plot)\n",
    "plot.draw_2_skeleton(res.compute_k_skeleton(k=2), layout)"
   ]
  },
  {
   "cell_type": "code",
   "execution_count": null,
   "metadata": {},
   "outputs": [],
   "source": []
  }
 ],
 "metadata": {
  "kernelspec": {
   "display_name": "Python 3",
   "language": "python",
   "name": "python3"
  },
  "language_info": {
   "codemirror_mode": {
    "name": "ipython",
    "version": 3
   },
   "file_extension": ".py",
   "mimetype": "text/x-python",
   "name": "python",
   "nbconvert_exporter": "python",
   "pygments_lexer": "ipython3",
   "version": "3.7.4"
  }
 },
 "nbformat": 4,
 "nbformat_minor": 2
}
