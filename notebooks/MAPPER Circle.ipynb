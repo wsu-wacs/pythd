{
 "cells": [
  {
   "cell_type": "code",
   "execution_count": 1,
   "metadata": {},
   "outputs": [],
   "source": [
    "%matplotlib inline\n",
    "import sys\n",
    "sys.path.append(\"..\")\n",
    "import numpy as np\n",
    "from matplotlib import pyplot as plt\n",
    "import igraph\n",
    "\n",
    "import pythd"
   ]
  },
  {
   "cell_type": "code",
   "execution_count": 2,
   "metadata": {},
   "outputs": [],
   "source": [
    "# Function to create a dataset of a circle at a given point\n",
    "def create_circle(c=np.array([0.0, 0.0]), r=1.0, noise=0.0, n=20):\n",
    "    delta = 2.0*np.pi / n\n",
    "    theta = np.linspace(0.0, 2.0*np.pi, num=n, endpoint=False)\n",
    "    c = np.array(c)\n",
    "    \n",
    "    x = c[0] + r*np.cos(theta) + np.random.normal(scale=noise, size=theta.shape)\n",
    "    y = c[1] + r*np.sin(theta) + np.random.normal(scale=noise, size=theta.shape)\n",
    "    return np.array([x, y]).T"
   ]
  },
  {
   "cell_type": "code",
   "execution_count": 50,
   "metadata": {},
   "outputs": [
    {
     "data": {
      "image/png": "[encoded data removed]",
      "text/plain": [
       "<Figure size 432x288 with 1 Axes>"
      ]
     },
     "metadata": {
      "needs_background": "light"
     },
     "output_type": "display_data"
    }
   ],
   "source": [
    "# Create and show two circles with some noise\n",
    "circ1 = create_circle(c=[-4.0, 0.0], r=4.0, noise=0.05, n=100)\n",
    "circ2 = create_circle(c=[4.0, 0.0], r=4.0, noise=0.05, n=100)\n",
    "dataset = np.concatenate((circ1, circ2))\n",
    "plt.plot(dataset[:, 0], dataset[:, 1], \".\")\n",
    "plt.show()"
   ]
  },
  {
   "cell_type": "code",
   "execution_count": 63,
   "metadata": {},
   "outputs": [],
   "source": [
    "# Setup MAPPER\n",
    "filt = pythd.filter.ComponentFilter(0) # filter: x component\n",
    "f_x = filt(dataset)\n",
    "cover = pythd.cover.IntervalCover1D.EvenlySpacedFromValues(f_x, 10, 0.5)\n",
    "clustering = pythd.clustering.HierarchicalClustering()"
   ]
  },
  {
   "cell_type": "code",
   "execution_count": 64,
   "metadata": {},
   "outputs": [],
   "source": [
    "# Run MAPPER and get 1 skeleton\n",
    "mapper = pythd.mapper.MAPPER(filter=filt, cover=cover, clustering=clustering)\n",
    "res = mapper.run(dataset)\n",
    "nodes, edges = res.compute_1_skeleton()"
   ]
  },
  {
   "cell_type": "code",
   "execution_count": 65,
   "metadata": {},
   "outputs": [
    {
     "name": "stdout",
     "output_type": "stream",
     "text": [
      "IGRAPH UN-- 16 17 --\n",
      "+ attr: name (v), points (v)\n",
      "+ edges (vertex names):\n",
      "0--1, 0--2, 0--3, 1--14, 1--15, 2--4, 3--5, 4--7, 5--6, 6--8, 7--8, 9--10,\n",
      "9--11, 10--13, 11--12, 12--14, 13--15\n"
     ]
    }
   ],
   "source": [
    "# Create igraph graph\n",
    "g = igraph.Graph()\n",
    "for vid, points in nodes.items():\n",
    "    g.add_vertex(name=str(vid), points=points)\n",
    "g.add_edges(edges)\n",
    "print(g)"
   ]
  },
  {
   "cell_type": "code",
   "execution_count": 66,
   "metadata": {},
   "outputs": [
    {
     "data": {
      "image/svg+xml": [
       "<?xml version=\"1.0\" encoding=\"UTF-8\"?>\n",
       "<svg xmlns=\"http://www.w3.org/2000/svg\" xmlns:xlink=\"http://www.w3.org/1999/xlink\" width=\"600pt\" height=\"600pt\" viewBox=\"0 0 600 600\" version=\"1.1\">\n",
       "<g id=\"surface86\">\n",
       "<rect x=\"0\" y=\"0\" width=\"600\" height=\"600\" style=\"fill:rgb(100%,100%,100%);fill-opacity:1;stroke:none;\"/>\n",
       "<path style=\"fill:none;stroke-width:1;stroke-linecap:butt;stroke-linejoin:miter;stroke:rgb(26.666667%,26.666667%,26.666667%);stroke-opacity:1;stroke-miterlimit:10;\" d=\"M 336.679688 337.730469 L 263.230469 262.4375 \"/>\n",
       "<path style=\"fill:none;stroke-width:1;stroke-linecap:butt;stroke-linejoin:miter;stroke:rgb(26.666667%,26.666667%,26.666667%);stroke-opacity:1;stroke-miterlimit:10;\" d=\"M 336.679688 337.730469 L 443.519531 324.964844 \"/>\n",
       "<path style=\"fill:none;stroke-width:1;stroke-linecap:butt;stroke-linejoin:miter;stroke:rgb(26.666667%,26.666667%,26.666667%);stroke-opacity:1;stroke-miterlimit:10;\" d=\"M 336.679688 337.730469 L 317.171875 440.039063 \"/>\n",
       "<path style=\"fill:none;stroke-width:1;stroke-linecap:butt;stroke-linejoin:miter;stroke:rgb(26.666667%,26.666667%,26.666667%);stroke-opacity:1;stroke-miterlimit:10;\" d=\"M 263.230469 262.4375 L 282.742188 160.03125 \"/>\n",
       "<path style=\"fill:none;stroke-width:1;stroke-linecap:butt;stroke-linejoin:miter;stroke:rgb(26.666667%,26.666667%,26.666667%);stroke-opacity:1;stroke-miterlimit:10;\" d=\"M 263.230469 262.4375 L 156.558594 275.097656 \"/>\n",
       "<path style=\"fill:none;stroke-width:1;stroke-linecap:butt;stroke-linejoin:miter;stroke:rgb(26.666667%,26.666667%,26.666667%);stroke-opacity:1;stroke-miterlimit:10;\" d=\"M 443.519531 324.964844 L 536.777344 366.871094 \"/>\n",
       "<path style=\"fill:none;stroke-width:1;stroke-linecap:butt;stroke-linejoin:miter;stroke:rgb(26.666667%,26.666667%,26.666667%);stroke-opacity:1;stroke-miterlimit:10;\" d=\"M 317.171875 440.039063 L 354.859375 532.695313 \"/>\n",
       "<path style=\"fill:none;stroke-width:1;stroke-linecap:butt;stroke-linejoin:miter;stroke:rgb(26.666667%,26.666667%,26.666667%);stroke-opacity:1;stroke-miterlimit:10;\" d=\"M 536.777344 366.871094 L 580 458.203125 \"/>\n",
       "<path style=\"fill:none;stroke-width:1;stroke-linecap:butt;stroke-linejoin:miter;stroke:rgb(26.666667%,26.666667%,26.666667%);stroke-opacity:1;stroke-miterlimit:10;\" d=\"M 354.859375 532.695313 L 446.503906 580 \"/>\n",
       "<path style=\"fill:none;stroke-width:1;stroke-linecap:butt;stroke-linejoin:miter;stroke:rgb(26.666667%,26.666667%,26.666667%);stroke-opacity:1;stroke-miterlimit:10;\" d=\"M 446.503906 580 L 547.695313 554.667969 \"/>\n",
       "<path style=\"fill:none;stroke-width:1;stroke-linecap:butt;stroke-linejoin:miter;stroke:rgb(26.666667%,26.666667%,26.666667%);stroke-opacity:1;stroke-miterlimit:10;\" d=\"M 580 458.203125 L 547.695313 554.667969 \"/>\n",
       "<path style=\"fill:none;stroke-width:1;stroke-linecap:butt;stroke-linejoin:miter;stroke:rgb(26.666667%,26.666667%,26.666667%);stroke-opacity:1;stroke-miterlimit:10;\" d=\"M 52.027344 45.472656 L 20 141.894531 \"/>\n",
       "<path style=\"fill:none;stroke-width:1;stroke-linecap:butt;stroke-linejoin:miter;stroke:rgb(26.666667%,26.666667%,26.666667%);stroke-opacity:1;stroke-miterlimit:10;\" d=\"M 52.027344 45.472656 L 153.292969 20 \"/>\n",
       "<path style=\"fill:none;stroke-width:1;stroke-linecap:butt;stroke-linejoin:miter;stroke:rgb(26.666667%,26.666667%,26.666667%);stroke-opacity:1;stroke-miterlimit:10;\" d=\"M 20 141.894531 L 63.132813 233.371094 \"/>\n",
       "<path style=\"fill:none;stroke-width:1;stroke-linecap:butt;stroke-linejoin:miter;stroke:rgb(26.666667%,26.666667%,26.666667%);stroke-opacity:1;stroke-miterlimit:10;\" d=\"M 153.292969 20 L 245.199219 67.207031 \"/>\n",
       "<path style=\"fill:none;stroke-width:1;stroke-linecap:butt;stroke-linejoin:miter;stroke:rgb(26.666667%,26.666667%,26.666667%);stroke-opacity:1;stroke-miterlimit:10;\" d=\"M 245.199219 67.207031 L 282.742188 160.03125 \"/>\n",
       "<path style=\"fill:none;stroke-width:1;stroke-linecap:butt;stroke-linejoin:miter;stroke:rgb(26.666667%,26.666667%,26.666667%);stroke-opacity:1;stroke-miterlimit:10;\" d=\"M 63.132813 233.371094 L 156.558594 275.097656 \"/>\n",
       "<path style=\"fill-rule:nonzero;fill:rgb(100%,0%,0%);fill-opacity:1;stroke-width:1;stroke-linecap:butt;stroke-linejoin:miter;stroke:rgb(0%,0%,0%);stroke-opacity:1;stroke-miterlimit:10;\" d=\"M 346.679688 337.730469 C 346.679688 343.253906 342.203125 347.730469 336.679688 347.730469 C 331.15625 347.730469 326.679688 343.253906 326.679688 337.730469 C 326.679688 332.207031 331.15625 327.730469 336.679688 327.730469 C 342.203125 327.730469 346.679688 332.207031 346.679688 337.730469 \"/>\n",
       "<path style=\"fill-rule:nonzero;fill:rgb(100%,0%,0%);fill-opacity:1;stroke-width:1;stroke-linecap:butt;stroke-linejoin:miter;stroke:rgb(0%,0%,0%);stroke-opacity:1;stroke-miterlimit:10;\" d=\"M 273.230469 262.4375 C 273.230469 267.960938 268.753906 272.4375 263.230469 272.4375 C 257.707031 272.4375 253.230469 267.960938 253.230469 262.4375 C 253.230469 256.914063 257.707031 252.4375 263.230469 252.4375 C 268.753906 252.4375 273.230469 256.914063 273.230469 262.4375 \"/>\n",
       "<path style=\"fill-rule:nonzero;fill:rgb(100%,0%,0%);fill-opacity:1;stroke-width:1;stroke-linecap:butt;stroke-linejoin:miter;stroke:rgb(0%,0%,0%);stroke-opacity:1;stroke-miterlimit:10;\" d=\"M 453.519531 324.964844 C 453.519531 330.488281 449.039063 334.964844 443.519531 334.964844 C 437.996094 334.964844 433.519531 330.488281 433.519531 324.964844 C 433.519531 319.441406 437.996094 314.964844 443.519531 314.964844 C 449.039063 314.964844 453.519531 319.441406 453.519531 324.964844 \"/>\n",
       "<path style=\"fill-rule:nonzero;fill:rgb(100%,0%,0%);fill-opacity:1;stroke-width:1;stroke-linecap:butt;stroke-linejoin:miter;stroke:rgb(0%,0%,0%);stroke-opacity:1;stroke-miterlimit:10;\" d=\"M 327.171875 440.039063 C 327.171875 445.5625 322.695313 450.039063 317.171875 450.039063 C 311.648438 450.039063 307.171875 445.5625 307.171875 440.039063 C 307.171875 434.515625 311.648438 430.039063 317.171875 430.039063 C 322.695313 430.039063 327.171875 434.515625 327.171875 440.039063 \"/>\n",
       "<path style=\"fill-rule:nonzero;fill:rgb(100%,0%,0%);fill-opacity:1;stroke-width:1;stroke-linecap:butt;stroke-linejoin:miter;stroke:rgb(0%,0%,0%);stroke-opacity:1;stroke-miterlimit:10;\" d=\"M 546.777344 366.871094 C 546.777344 372.394531 542.300781 376.871094 536.777344 376.871094 C 531.253906 376.871094 526.777344 372.394531 526.777344 366.871094 C 526.777344 361.347656 531.253906 356.871094 536.777344 356.871094 C 542.300781 356.871094 546.777344 361.347656 546.777344 366.871094 \"/>\n",
       "<path style=\"fill-rule:nonzero;fill:rgb(100%,0%,0%);fill-opacity:1;stroke-width:1;stroke-linecap:butt;stroke-linejoin:miter;stroke:rgb(0%,0%,0%);stroke-opacity:1;stroke-miterlimit:10;\" d=\"M 364.859375 532.695313 C 364.859375 538.214844 360.382813 542.695313 354.859375 542.695313 C 349.335938 542.695313 344.859375 538.214844 344.859375 532.695313 C 344.859375 527.171875 349.335938 522.695313 354.859375 522.695313 C 360.382813 522.695313 364.859375 527.171875 364.859375 532.695313 \"/>\n",
       "<path style=\"fill-rule:nonzero;fill:rgb(100%,0%,0%);fill-opacity:1;stroke-width:1;stroke-linecap:butt;stroke-linejoin:miter;stroke:rgb(0%,0%,0%);stroke-opacity:1;stroke-miterlimit:10;\" d=\"M 456.503906 580 C 456.503906 585.523438 452.023438 590 446.503906 590 C 440.980469 590 436.503906 585.523438 436.503906 580 C 436.503906 574.476563 440.980469 570 446.503906 570 C 452.023438 570 456.503906 574.476563 456.503906 580 \"/>\n",
       "<path style=\"fill-rule:nonzero;fill:rgb(100%,0%,0%);fill-opacity:1;stroke-width:1;stroke-linecap:butt;stroke-linejoin:miter;stroke:rgb(0%,0%,0%);stroke-opacity:1;stroke-miterlimit:10;\" d=\"M 590 458.203125 C 590 463.726563 585.523438 468.203125 580 468.203125 C 574.476563 468.203125 570 463.726563 570 458.203125 C 570 452.679688 574.476563 448.203125 580 448.203125 C 585.523438 448.203125 590 452.679688 590 458.203125 \"/>\n",
       "<path style=\"fill-rule:nonzero;fill:rgb(100%,0%,0%);fill-opacity:1;stroke-width:1;stroke-linecap:butt;stroke-linejoin:miter;stroke:rgb(0%,0%,0%);stroke-opacity:1;stroke-miterlimit:10;\" d=\"M 557.695313 554.667969 C 557.695313 560.191406 553.21875 564.667969 547.695313 564.667969 C 542.171875 564.667969 537.695313 560.191406 537.695313 554.667969 C 537.695313 549.144531 542.171875 544.667969 547.695313 544.667969 C 553.21875 544.667969 557.695313 549.144531 557.695313 554.667969 \"/>\n",
       "<path style=\"fill-rule:nonzero;fill:rgb(100%,0%,0%);fill-opacity:1;stroke-width:1;stroke-linecap:butt;stroke-linejoin:miter;stroke:rgb(0%,0%,0%);stroke-opacity:1;stroke-miterlimit:10;\" d=\"M 62.027344 45.472656 C 62.027344 50.996094 57.550781 55.472656 52.027344 55.472656 C 46.503906 55.472656 42.027344 50.996094 42.027344 45.472656 C 42.027344 39.949219 46.503906 35.472656 52.027344 35.472656 C 57.550781 35.472656 62.027344 39.949219 62.027344 45.472656 \"/>\n",
       "<path style=\"fill-rule:nonzero;fill:rgb(100%,0%,0%);fill-opacity:1;stroke-width:1;stroke-linecap:butt;stroke-linejoin:miter;stroke:rgb(0%,0%,0%);stroke-opacity:1;stroke-miterlimit:10;\" d=\"M 30 141.894531 C 30 147.417969 25.523438 151.894531 20 151.894531 C 14.476563 151.894531 10 147.417969 10 141.894531 C 10 136.371094 14.476563 131.894531 20 131.894531 C 25.523438 131.894531 30 136.371094 30 141.894531 \"/>\n",
       "<path style=\"fill-rule:nonzero;fill:rgb(100%,0%,0%);fill-opacity:1;stroke-width:1;stroke-linecap:butt;stroke-linejoin:miter;stroke:rgb(0%,0%,0%);stroke-opacity:1;stroke-miterlimit:10;\" d=\"M 163.292969 20 C 163.292969 25.523438 158.816406 30 153.292969 30 C 147.769531 30 143.292969 25.523438 143.292969 20 C 143.292969 14.476563 147.769531 10 153.292969 10 C 158.816406 10 163.292969 14.476563 163.292969 20 \"/>\n",
       "<path style=\"fill-rule:nonzero;fill:rgb(100%,0%,0%);fill-opacity:1;stroke-width:1;stroke-linecap:butt;stroke-linejoin:miter;stroke:rgb(0%,0%,0%);stroke-opacity:1;stroke-miterlimit:10;\" d=\"M 255.199219 67.207031 C 255.199219 72.726563 250.722656 77.207031 245.199219 77.207031 C 239.675781 77.207031 235.199219 72.726563 235.199219 67.207031 C 235.199219 61.683594 239.675781 57.207031 245.199219 57.207031 C 250.722656 57.207031 255.199219 61.683594 255.199219 67.207031 \"/>\n",
       "<path style=\"fill-rule:nonzero;fill:rgb(100%,0%,0%);fill-opacity:1;stroke-width:1;stroke-linecap:butt;stroke-linejoin:miter;stroke:rgb(0%,0%,0%);stroke-opacity:1;stroke-miterlimit:10;\" d=\"M 73.132813 233.371094 C 73.132813 238.894531 68.65625 243.371094 63.132813 243.371094 C 57.613281 243.371094 53.132813 238.894531 53.132813 233.371094 C 53.132813 227.847656 57.613281 223.371094 63.132813 223.371094 C 68.65625 223.371094 73.132813 227.847656 73.132813 233.371094 \"/>\n",
       "<path style=\"fill-rule:nonzero;fill:rgb(100%,0%,0%);fill-opacity:1;stroke-width:1;stroke-linecap:butt;stroke-linejoin:miter;stroke:rgb(0%,0%,0%);stroke-opacity:1;stroke-miterlimit:10;\" d=\"M 292.742188 160.03125 C 292.742188 165.554688 288.265625 170.03125 282.742188 170.03125 C 277.21875 170.03125 272.742188 165.554688 272.742188 160.03125 C 272.742188 154.507813 277.21875 150.03125 282.742188 150.03125 C 288.265625 150.03125 292.742188 154.507813 292.742188 160.03125 \"/>\n",
       "<path style=\"fill-rule:nonzero;fill:rgb(100%,0%,0%);fill-opacity:1;stroke-width:1;stroke-linecap:butt;stroke-linejoin:miter;stroke:rgb(0%,0%,0%);stroke-opacity:1;stroke-miterlimit:10;\" d=\"M 166.558594 275.097656 C 166.558594 280.621094 162.082031 285.097656 156.558594 285.097656 C 151.035156 285.097656 146.558594 280.621094 146.558594 275.097656 C 146.558594 269.574219 151.035156 265.097656 156.558594 265.097656 C 162.082031 265.097656 166.558594 269.574219 166.558594 275.097656 \"/>\n",
       "</g>\n",
       "</svg>\n"
      ],
      "text/plain": [
       "<igraph.drawing.Plot at 0x1ce2a2bc710>"
      ]
     },
     "execution_count": 66,
     "metadata": {},
     "output_type": "execute_result"
    }
   ],
   "source": [
    "# Visualize the graph\n",
    "layout = g.layout_kamada_kawai()\n",
    "igraph.plot(g, layout=layout)"
   ]
  },
  {
   "cell_type": "code",
   "execution_count": null,
   "metadata": {},
   "outputs": [],
   "source": []
  }
 ],
 "metadata": {
  "kernelspec": {
   "display_name": "Python 3",
   "language": "python",
   "name": "python3"
  },
  "language_info": {
   "codemirror_mode": {
    "name": "ipython",
    "version": 3
   },
   "file_extension": ".py",
   "mimetype": "text/x-python",
   "name": "python",
   "nbconvert_exporter": "python",
   "pygments_lexer": "ipython3",
   "version": "3.7.1"
  }
 },
 "nbformat": 4,
 "nbformat_minor": 2
}
