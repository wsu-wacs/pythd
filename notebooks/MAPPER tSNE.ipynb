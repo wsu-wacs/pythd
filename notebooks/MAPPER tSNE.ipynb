{
 "cells": [
  {
   "cell_type": "code",
   "execution_count": null,
   "metadata": {},
   "outputs": [],
   "source": [
    "%matplotlib inline\n",
    "import sys\n",
    "sys.path.append(\"..\")\n",
    "import numpy as np\n",
    "from matplotlib import pyplot as plt\n",
    "from importlib import reload\n",
    "from sklearn.manifold import TSNE\n",
    "\n",
    "import pythd"
   ]
  },
  {
   "cell_type": "code",
   "execution_count": null,
   "metadata": {},
   "outputs": [],
   "source": [
    "reload(pythd.datagen)\n",
    "dataset = (pythd.datagen.DatasetGenerator()\n",
    "                .circle(center=[-2.0, 0.0], radius=1.0, num_points=200, noise=0.025)\n",
    "                .line(start=[-1.0, 0.0], end=[1.0, 0.0], num_points=100, noise=0.025)\n",
    "                .circle(center=[2.0, 0.0], radius=1.0, num_points=200, noise=0.025)).get()\n",
    "plt.plot(dataset[:, 0], dataset[:, 1], \".\")\n",
    "plt.show()"
   ]
  },
  {
   "cell_type": "code",
   "execution_count": null,
   "metadata": {},
   "outputs": [],
   "source": [
    "reload(pythd.filter)\n",
    "filt = pythd.filter.ScikitLearnFilter(TSNE, n_components=2)\n",
    "f_x = filt(dataset)"
   ]
  },
  {
   "cell_type": "code",
   "execution_count": null,
   "metadata": {},
   "outputs": [],
   "source": [
    "# Run MAPPER\n",
    "reload(pythd.mapper)\n",
    "reload(pythd.complex)\n",
    "cover = pythd.cover.IntervalCover.EvenlySpacedFromValues(f_x, 5, 0.5)\n",
    "clustering = pythd.clustering.HierarchicalClustering()\n",
    "mapper = pythd.mapper.MAPPER(filter=filt, cover=cover, clustering=clustering)\n",
    "res = mapper.run(dataset, f_x=f_x)"
   ]
  },
  {
   "cell_type": "code",
   "execution_count": null,
   "metadata": {},
   "outputs": [],
   "source": [
    "# Layout and plot\n",
    "reload(pythd)\n",
    "reload(pythd.plotting)\n",
    "reload(pythd.coloring)\n",
    "g = res.get_igraph_network()\n",
    "layout = g.layout_kamada_kawai()\n",
    "network = res.compute_k_skeleton(k=1)\n",
    "coloring = pythd.coloring.create_node_coloring(f_x[:,0], network)\n",
    "pythd.plotting.draw_topological_network(network, layout, node_coloring=coloring)"
   ]
  },
  {
   "cell_type": "code",
   "execution_count": null,
   "metadata": {},
   "outputs": [],
   "source": []
  }
 ],
 "metadata": {
  "kernelspec": {
   "display_name": "Python 3",
   "language": "python",
   "name": "python3"
  },
  "language_info": {
   "codemirror_mode": {
    "name": "ipython",
    "version": 3
   },
   "file_extension": ".py",
   "mimetype": "text/x-python",
   "name": "python",
   "nbconvert_exporter": "python",
   "pygments_lexer": "ipython3",
   "version": "3.7.2"
  }
 },
 "nbformat": 4,
 "nbformat_minor": 2
}
