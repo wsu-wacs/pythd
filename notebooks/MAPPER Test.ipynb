{
 "cells": [
  {
   "cell_type": "code",
   "execution_count": null,
   "metadata": {},
   "outputs": [],
   "source": [
    "%matplotlib inline\n",
    "import sys\n",
    "sys.path.append(\"..\")\n",
    "import pythd\n",
    "from matplotlib import pyplot as plt\n",
    "\n",
    "# Two intersecting circles with some noise\n",
    "dataset = (pythd.datagen.DatasetGenerator()\n",
    "                .circle(center=[-4.0, 0.0], radius=4.0, noise=0.06, num_points=200)\n",
    "                .circle(center=[4.0, 0.0], radius=4.0, noise=0.06, num_points=200)).get()\n",
    "\n",
    "# Setup MAPPER\n",
    "filt = pythd.filter.IdentityFilter() # use x,y coordinates as filter\n",
    "f_x = filt(dataset) # filter values\n",
    "cover = pythd.cover.IntervalCover.EvenlySpacedFromValues(f_x, 4, 0.5)\n",
    "clustering = pythd.clustering.HierarchicalClustering()\n",
    "mapper = pythd.mapper.MAPPER(filter=filt, cover=cover, clustering=clustering)\n",
    "res = mapper.run(dataset, f_x=f_x) # run clustering step of MAPPER\n",
    "network = res.compute_k_skeleton(k=1) # compute the one skeleton"
   ]
  },
  {
   "cell_type": "code",
   "execution_count": null,
   "metadata": {},
   "outputs": [],
   "source": [
    "import igraph\n",
    "g = res.get_igraph_network()\n",
    "layout = g.layout_kamada_kawai() # graph layout from igraph\n",
    "igraph.plot(g, layout=layout)"
   ]
  },
  {
   "cell_type": "code",
   "execution_count": null,
   "metadata": {},
   "outputs": [],
   "source": [
    "import networkx as nx\n",
    "g = res.get_networkx_network()\n",
    "nx.draw(g)"
   ]
  },
  {
   "cell_type": "code",
   "execution_count": null,
   "metadata": {},
   "outputs": [],
   "source": [
    "# re-using the layout computed from igraph above\n",
    "coloring = pythd.coloring.create_node_coloring(f_x[:,0], network) # x-coordinate as coloring\n",
    "pythd.plotting.draw_topological_network(network, layout, node_coloring=coloring)"
   ]
  },
  {
   "cell_type": "code",
   "execution_count": null,
   "metadata": {},
   "outputs": [],
   "source": []
  }
 ],
 "metadata": {
  "kernelspec": {
   "display_name": "Python 3",
   "language": "python",
   "name": "python3"
  },
  "language_info": {
   "codemirror_mode": {
    "name": "ipython",
    "version": 3
   },
   "file_extension": ".py",
   "mimetype": "text/x-python",
   "name": "python",
   "nbconvert_exporter": "python",
   "pygments_lexer": "ipython3",
   "version": "3.7.4"
  }
 },
 "nbformat": 4,
 "nbformat_minor": 2
}
