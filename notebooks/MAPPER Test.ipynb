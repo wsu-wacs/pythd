{
 "cells": [
  {
   "cell_type": "code",
   "execution_count": null,
   "metadata": {},
   "outputs": [],
   "source": [
    "%matplotlib inline\n",
    "import sys\n",
    "sys.path.append(\"..\")\n",
    "import numpy as np\n",
    "from matplotlib import pyplot as plt\n",
    "import igraph\n",
    "\n",
    "import pythd"
   ]
  },
  {
   "cell_type": "code",
   "execution_count": null,
   "metadata": {},
   "outputs": [],
   "source": [
    "# Function to create a dataset of a circle at a given point\n",
    "def create_circle(c=np.array([0.0, 0.0]), r=1.0, noise=0.0, n=20):\n",
    "    delta = 2.0*np.pi / n\n",
    "    theta = np.linspace(0.0, 2.0*np.pi, num=n, endpoint=False)\n",
    "    c = np.array(c)\n",
    "    \n",
    "    x = c[0] + r*np.cos(theta) + np.random.normal(scale=noise, size=theta.shape)\n",
    "    y = c[1] + r*np.sin(theta) + np.random.normal(scale=noise, size=theta.shape)\n",
    "    return np.array([x, y]).T"
   ]
  },
  {
   "cell_type": "code",
   "execution_count": null,
   "metadata": {},
   "outputs": [],
   "source": [
    "# Create and show two circles with some noise\n",
    "circ1 = create_circle(c=[-4.0, 0.0], r=4.0, noise=0.05, n=100)\n",
    "circ2 = create_circle(c=[4.0, 0.0], r=4.0, noise=0.05, n=100)\n",
    "dataset = np.concatenate((circ1, circ2))\n",
    "plt.plot(dataset[:, 0], dataset[:, 1], \".\")\n",
    "plt.show()"
   ]
  },
  {
   "cell_type": "code",
   "execution_count": null,
   "metadata": {},
   "outputs": [],
   "source": [
    "# Setup MAPPER\n",
    "filt = pythd.filter.ComponentFilter(0) # filter: x component\n",
    "f_x = filt(dataset)\n",
    "cover = pythd.cover.IntervalCover1D.EvenlySpacedFromValues(f_x, 10, 0.5)\n",
    "clustering = pythd.clustering.HierarchicalClustering()"
   ]
  },
  {
   "cell_type": "code",
   "execution_count": null,
   "metadata": {},
   "outputs": [],
   "source": [
    "# Run MAPPER\n",
    "mapper = pythd.mapper.MAPPER(filter=filt, cover=cover, clustering=clustering)\n",
    "res = mapper.run(dataset)"
   ]
  },
  {
   "cell_type": "code",
   "execution_count": null,
   "metadata": {},
   "outputs": [],
   "source": [
    "import networkx as nx\n",
    "g = res.get_networkx_network()\n",
    "nx.draw(g)"
   ]
  },
  {
   "cell_type": "code",
   "execution_count": null,
   "metadata": {},
   "outputs": [],
   "source": [
    "# Create igraph graph\n",
    "g = res.get_igraph_network()\n",
    "print(g)"
   ]
  },
  {
   "cell_type": "code",
   "execution_count": null,
   "metadata": {},
   "outputs": [],
   "source": [
    "# Visualize the graph\n",
    "layout = g.layout_kamada_kawai()\n",
    "igraph.plot(g, layout=layout)"
   ]
  },
  {
   "cell_type": "code",
   "execution_count": null,
   "metadata": {},
   "outputs": [],
   "source": []
  }
 ],
 "metadata": {
  "kernelspec": {
   "display_name": "Python 3",
   "language": "python",
   "name": "python3"
  },
  "language_info": {
   "codemirror_mode": {
    "name": "ipython",
    "version": 3
   },
   "file_extension": ".py",
   "mimetype": "text/x-python",
   "name": "python",
   "nbconvert_exporter": "python",
   "pygments_lexer": "ipython3",
   "version": "3.7.1"
  }
 },
 "nbformat": 4,
 "nbformat_minor": 2
}
